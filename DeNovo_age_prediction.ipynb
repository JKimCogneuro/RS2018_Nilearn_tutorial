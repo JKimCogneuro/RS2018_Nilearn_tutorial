{
 "cells": [
  {
   "cell_type": "code",
   "execution_count": 25,
   "metadata": {},
   "outputs": [],
   "source": [
    "import os\n",
    "import sys\n",
    "import numpy as np\n",
    "import pandas as pd\n",
    "import matplotlib.pyplot as plt\n",
    "sys.path.insert(0,os.getcwd())\n",
    "import download as dl"
   ]
  },
  {
   "cell_type": "markdown",
   "metadata": {},
   "source": [
    "### Download the data"
   ]
  },
  {
   "cell_type": "code",
   "execution_count": 334,
   "metadata": {},
   "outputs": [],
   "source": [
    "wdir = '/Users/jakevogel/Science/Nilearn_tutorial/ds000028/'\n",
    "dataset = dl.fetch_data(None,data_dir=wdir)"
   ]
  },
  {
   "cell_type": "code",
   "execution_count": 17,
   "metadata": {},
   "outputs": [
    {
     "data": {
      "text/plain": [
       "155"
      ]
     },
     "execution_count": 17,
     "metadata": {},
     "output_type": "execute_result"
    }
   ],
   "source": [
    "len(dataset.func)"
   ]
  },
  {
   "cell_type": "markdown",
   "metadata": {},
   "source": [
    "## Get Y and assess its distribution"
   ]
  },
  {
   "cell_type": "code",
   "execution_count": 18,
   "metadata": {},
   "outputs": [
    {
     "data": {
      "text/html": [
       "<div>\n",
       "<style>\n",
       "    .dataframe thead tr:only-child th {\n",
       "        text-align: right;\n",
       "    }\n",
       "\n",
       "    .dataframe thead th {\n",
       "        text-align: left;\n",
       "    }\n",
       "\n",
       "    .dataframe tbody tr th {\n",
       "        vertical-align: top;\n",
       "    }\n",
       "</style>\n",
       "<table border=\"1\" class=\"dataframe\">\n",
       "  <thead>\n",
       "    <tr style=\"text-align: right;\">\n",
       "      <th></th>\n",
       "      <th>participant_id</th>\n",
       "      <th>Age</th>\n",
       "      <th>AgeGroup</th>\n",
       "      <th>Child_Adult</th>\n",
       "      <th>Gender</th>\n",
       "      <th>Handedness</th>\n",
       "      <th>ToM_BookletMatched</th>\n",
       "      <th>ToM_BookletMatchedNOFB</th>\n",
       "      <th>FB_Composite</th>\n",
       "      <th>FB_Group</th>\n",
       "      <th>WPPSI_BD_raw</th>\n",
       "      <th>WPPSI_BD_scaled</th>\n",
       "      <th>KBIT_raw</th>\n",
       "      <th>KBIT_standard</th>\n",
       "      <th>DCCS_Summary</th>\n",
       "      <th>Scanlog_Scanner</th>\n",
       "      <th>Scanlog_Coil</th>\n",
       "      <th>Scanlog_Voxel_slize</th>\n",
       "      <th>Scanlog_Slice_Gap</th>\n",
       "    </tr>\n",
       "  </thead>\n",
       "  <tbody>\n",
       "    <tr>\n",
       "      <th>0</th>\n",
       "      <td>b'sub-pixar001'</td>\n",
       "      <td>4.774812</td>\n",
       "      <td>b'4yo'</td>\n",
       "      <td>b'child'</td>\n",
       "      <td>b'M'</td>\n",
       "      <td>b'R'</td>\n",
       "      <td>b'0.8'</td>\n",
       "      <td>b'0.736842105'</td>\n",
       "      <td>b'6'</td>\n",
       "      <td>b'pass'</td>\n",
       "      <td>b'22'</td>\n",
       "      <td>b'13'</td>\n",
       "      <td>b'n/a'</td>\n",
       "      <td>b'n/a'</td>\n",
       "      <td>b'3'</td>\n",
       "      <td>b'3T1'</td>\n",
       "      <td>b'7-8yo 32ch'</td>\n",
       "      <td>b'3mm iso'</td>\n",
       "      <td>b'0.1'</td>\n",
       "    </tr>\n",
       "    <tr>\n",
       "      <th>1</th>\n",
       "      <td>b'sub-pixar002'</td>\n",
       "      <td>4.856947</td>\n",
       "      <td>b'4yo'</td>\n",
       "      <td>b'child'</td>\n",
       "      <td>b'F'</td>\n",
       "      <td>b'R'</td>\n",
       "      <td>b'0.72'</td>\n",
       "      <td>b'0.736842105'</td>\n",
       "      <td>b'4'</td>\n",
       "      <td>b'inc'</td>\n",
       "      <td>b'18'</td>\n",
       "      <td>b'9'</td>\n",
       "      <td>b'n/a'</td>\n",
       "      <td>b'n/a'</td>\n",
       "      <td>b'2'</td>\n",
       "      <td>b'3T1'</td>\n",
       "      <td>b'7-8yo 32ch'</td>\n",
       "      <td>b'3mm iso'</td>\n",
       "      <td>b'0.1'</td>\n",
       "    </tr>\n",
       "    <tr>\n",
       "      <th>2</th>\n",
       "      <td>b'sub-pixar003'</td>\n",
       "      <td>4.153320</td>\n",
       "      <td>b'4yo'</td>\n",
       "      <td>b'child'</td>\n",
       "      <td>b'F'</td>\n",
       "      <td>b'R'</td>\n",
       "      <td>b'0.44'</td>\n",
       "      <td>b'0.421052632'</td>\n",
       "      <td>b'3'</td>\n",
       "      <td>b'inc'</td>\n",
       "      <td>b'15'</td>\n",
       "      <td>b'9'</td>\n",
       "      <td>b'n/a'</td>\n",
       "      <td>b'n/a'</td>\n",
       "      <td>b'3'</td>\n",
       "      <td>b'3T1'</td>\n",
       "      <td>b'7-8yo 32ch'</td>\n",
       "      <td>b'3mm iso'</td>\n",
       "      <td>b'0.1'</td>\n",
       "    </tr>\n",
       "    <tr>\n",
       "      <th>3</th>\n",
       "      <td>b'sub-pixar004'</td>\n",
       "      <td>4.473648</td>\n",
       "      <td>b'4yo'</td>\n",
       "      <td>b'child'</td>\n",
       "      <td>b'F'</td>\n",
       "      <td>b'R'</td>\n",
       "      <td>b'0.64'</td>\n",
       "      <td>b'0.736842105'</td>\n",
       "      <td>b'2'</td>\n",
       "      <td>b'fail'</td>\n",
       "      <td>b'17'</td>\n",
       "      <td>b'10'</td>\n",
       "      <td>b'n/a'</td>\n",
       "      <td>b'n/a'</td>\n",
       "      <td>b'3'</td>\n",
       "      <td>b'3T1'</td>\n",
       "      <td>b'7-8yo 32ch'</td>\n",
       "      <td>b'3mm iso'</td>\n",
       "      <td>b'0.2'</td>\n",
       "    </tr>\n",
       "    <tr>\n",
       "      <th>4</th>\n",
       "      <td>b'sub-pixar005'</td>\n",
       "      <td>4.837782</td>\n",
       "      <td>b'4yo'</td>\n",
       "      <td>b'child'</td>\n",
       "      <td>b'F'</td>\n",
       "      <td>b'R'</td>\n",
       "      <td>b'0.6'</td>\n",
       "      <td>b'0.578947368'</td>\n",
       "      <td>b'4'</td>\n",
       "      <td>b'inc'</td>\n",
       "      <td>b'13'</td>\n",
       "      <td>b'5'</td>\n",
       "      <td>b'n/a'</td>\n",
       "      <td>b'n/a'</td>\n",
       "      <td>b'2'</td>\n",
       "      <td>b'3T1'</td>\n",
       "      <td>b'7-8yo 32ch'</td>\n",
       "      <td>b'3mm iso'</td>\n",
       "      <td>b'0.2'</td>\n",
       "    </tr>\n",
       "  </tbody>\n",
       "</table>\n",
       "</div>"
      ],
      "text/plain": [
       "    participant_id       Age AgeGroup Child_Adult Gender Handedness  \\\n",
       "0  b'sub-pixar001'  4.774812   b'4yo'    b'child'   b'M'       b'R'   \n",
       "1  b'sub-pixar002'  4.856947   b'4yo'    b'child'   b'F'       b'R'   \n",
       "2  b'sub-pixar003'  4.153320   b'4yo'    b'child'   b'F'       b'R'   \n",
       "3  b'sub-pixar004'  4.473648   b'4yo'    b'child'   b'F'       b'R'   \n",
       "4  b'sub-pixar005'  4.837782   b'4yo'    b'child'   b'F'       b'R'   \n",
       "\n",
       "  ToM_BookletMatched ToM_BookletMatchedNOFB FB_Composite FB_Group  \\\n",
       "0             b'0.8'         b'0.736842105'         b'6'  b'pass'   \n",
       "1            b'0.72'         b'0.736842105'         b'4'   b'inc'   \n",
       "2            b'0.44'         b'0.421052632'         b'3'   b'inc'   \n",
       "3            b'0.64'         b'0.736842105'         b'2'  b'fail'   \n",
       "4             b'0.6'         b'0.578947368'         b'4'   b'inc'   \n",
       "\n",
       "  WPPSI_BD_raw WPPSI_BD_scaled KBIT_raw KBIT_standard DCCS_Summary  \\\n",
       "0        b'22'           b'13'   b'n/a'        b'n/a'         b'3'   \n",
       "1        b'18'            b'9'   b'n/a'        b'n/a'         b'2'   \n",
       "2        b'15'            b'9'   b'n/a'        b'n/a'         b'3'   \n",
       "3        b'17'           b'10'   b'n/a'        b'n/a'         b'3'   \n",
       "4        b'13'            b'5'   b'n/a'        b'n/a'         b'2'   \n",
       "\n",
       "  Scanlog_Scanner   Scanlog_Coil Scanlog_Voxel_slize Scanlog_Slice_Gap  \n",
       "0          b'3T1'  b'7-8yo 32ch'          b'3mm iso'            b'0.1'  \n",
       "1          b'3T1'  b'7-8yo 32ch'          b'3mm iso'            b'0.1'  \n",
       "2          b'3T1'  b'7-8yo 32ch'          b'3mm iso'            b'0.1'  \n",
       "3          b'3T1'  b'7-8yo 32ch'          b'3mm iso'            b'0.2'  \n",
       "4          b'3T1'  b'7-8yo 32ch'          b'3mm iso'            b'0.2'  "
      ]
     },
     "execution_count": 18,
     "metadata": {},
     "output_type": "execute_result"
    }
   ],
   "source": [
    "pheno = pd.DataFrame(dataset.phenotypic)\n",
    "pheno.head()"
   ]
  },
  {
   "cell_type": "code",
   "execution_count": 20,
   "metadata": {},
   "outputs": [
    {
     "data": {
      "text/plain": [
       "0    4.774812\n",
       "1    4.856947\n",
       "2    4.153320\n",
       "3    4.473648\n",
       "4    4.837782\n",
       "Name: Age, dtype: float64"
      ]
     },
     "execution_count": 20,
     "metadata": {},
     "output_type": "execute_result"
    }
   ],
   "source": [
    "full_y = pheno['Age']\n",
    "full_y.head()"
   ]
  },
  {
   "cell_type": "code",
   "execution_count": 24,
   "metadata": {},
   "outputs": [
    {
     "data": {
      "image/png": "[encoded data removed]",
      "text/plain": [
       "<matplotlib.figure.Figure at 0x117bdfef0>"
      ]
     },
     "metadata": {},
     "output_type": "display_data"
    }
   ],
   "source": [
    "plt.close()\n",
    "plt.hist(full_y)\n",
    "plt.show()"
   ]
  },
  {
   "cell_type": "code",
   "execution_count": 28,
   "metadata": {},
   "outputs": [
    {
     "data": {
      "image/png": "[encoded data removed]",
      "text/plain": [
       "<matplotlib.figure.Figure at 0x105041978>"
      ]
     },
     "metadata": {},
     "output_type": "display_data"
    }
   ],
   "source": [
    "plt.close()\n",
    "plt.hist(np.log(full_y))\n",
    "plt.show()"
   ]
  },
  {
   "cell_type": "code",
   "execution_count": 30,
   "metadata": {},
   "outputs": [
    {
     "name": "stdout",
     "output_type": "stream",
     "text": [
      "children: 122 young adults: 33\n"
     ]
    }
   ],
   "source": [
    "print('children:',len(pheno[pheno.Age<15]),\n",
    "      'young adults:', len(pheno[pheno.Age>15]))"
   ]
  },
  {
   "cell_type": "code",
   "execution_count": 104,
   "metadata": {},
   "outputs": [
    {
     "data": {
      "text/plain": [
       "b'8-12yo'    34\n",
       "b'5yo'       34\n",
       "b'Adult'     33\n",
       "b'7yo'       23\n",
       "b'3yo'       17\n",
       "b'4yo'       14\n",
       "Name: AgeGroup, dtype: int64"
      ]
     },
     "execution_count": 104,
     "metadata": {},
     "output_type": "execute_result"
    }
   ],
   "source": [
    "pheno.AgeGroup.value_counts()"
   ]
  },
  {
   "cell_type": "markdown",
   "metadata": {},
   "source": [
    "## Extract features"
   ]
  },
  {
   "cell_type": "code",
   "execution_count": 70,
   "metadata": {},
   "outputs": [],
   "source": [
    "from nilearn import datasets\n",
    "parcellations = datasets.fetch_atlas_basc_multiscale_2015()\n",
    "atlas_filename = parcellations.scale064"
   ]
  },
  {
   "cell_type": "code",
   "execution_count": 72,
   "metadata": {},
   "outputs": [],
   "source": [
    "from nilearn.input_data import NiftiLabelsMasker\n",
    "from nilearn.connectome import ConnectivityMeasure\n",
    "\n",
    "masker = NiftiLabelsMasker(labels_img=atlas_filename, standardize=True, \n",
    "                           memory='nilearn_cache', verbose=0)\n",
    "correlation_measure = ConnectivityMeasure(kind='correlation')"
   ]
  },
  {
   "cell_type": "code",
   "execution_count": 47,
   "metadata": {
    "collapsed": true
   },
   "outputs": [],
   "source": [
    "masker.fit_transform?"
   ]
  },
  {
   "cell_type": "code",
   "execution_count": 54,
   "metadata": {},
   "outputs": [],
   "source": [
    "from scipy.io import loadmat\n",
    "import h5py\n",
    "# practice subject:\n",
    "sub = dataset.func[0]\n",
    "arrays = {}\n",
    "f = h5py.File(conf)\n",
    "for k, v in f.items():\n",
    "    arrays[k] = np.array(v)"
   ]
  },
  {
   "cell_type": "code",
   "execution_count": 59,
   "metadata": {},
   "outputs": [
    {
     "data": {
      "text/plain": [
       "(29, 168)"
      ]
     },
     "execution_count": 59,
     "metadata": {},
     "output_type": "execute_result"
    }
   ],
   "source": [
    "arrays['R'].shape"
   ]
  },
  {
   "cell_type": "code",
   "execution_count": 73,
   "metadata": {},
   "outputs": [],
   "source": [
    "time_series = masker.fit_transform(sub, confounds=arrays['R'].T)\n",
    "correlation_matrix = correlation_measure.fit_transform([time_series])[0]\n",
    "upper_triang_corr = sym_matrix_to_vec(correlation_matrix, discard_diagonal=True)"
   ]
  },
  {
   "cell_type": "code",
   "execution_count": 74,
   "metadata": {},
   "outputs": [
    {
     "data": {
      "text/plain": [
       "(2016,)"
      ]
     },
     "execution_count": 74,
     "metadata": {},
     "output_type": "execute_result"
    }
   ],
   "source": [
    "upper_triang_corr.shape"
   ]
  },
  {
   "cell_type": "code",
   "execution_count": 335,
   "metadata": {},
   "outputs": [],
   "source": [
    "%%time\n",
    "from nilearn.connectome import ConnectivityMeasure, sym_matrix_to_vec\n",
    "\n",
    "all_features = [] # here is where we will put the data (a container)\n",
    "for i,sub in enumerate(dataset.func):\n",
    "    # convert confounds to readable format\n",
    "    arrays = {}\n",
    "    f = h5py.File(dataset.confounds[i])\n",
    "    for k, v in f.items():\n",
    "        arrays[k] = np.array(v)\n",
    "    conf = arrays['R'].T\n",
    "    # extract the timeseries from the ROIs in the atlas\n",
    "    time_series = masker.fit_transform(sub, confounds=conf)\n",
    "    # create a region x region correlation matrix\n",
    "    correlation_matrix = correlation_measure.fit_transform([time_series])[0]\n",
    "    # isolate non-redundant features\n",
    "    upper_triang_corr = sym_matrix_to_vec(correlation_matrix, discard_diagonal=True)\n",
    "    # add to our container\n",
    "    all_features.append(upper_triang_corr)\n",
    "    # keep track of status\n",
    "    print('finished %s of %s'%(i+1,len(dataset.func)))"
   ]
  },
  {
   "cell_type": "code",
   "execution_count": 82,
   "metadata": {
    "collapsed": true
   },
   "outputs": [],
   "source": [
    "np.savez_compressed?"
   ]
  },
  {
   "cell_type": "code",
   "execution_count": 85,
   "metadata": {},
   "outputs": [],
   "source": [
    "# save data so we don't have to rerun that again\n",
    "outdir = os.getcwd()\n",
    "np.savez_compressed(os.path.join(outdir,'BASC064_features'),a = all_features, b = full_y)"
   ]
  },
  {
   "cell_type": "code",
   "execution_count": 110,
   "metadata": {
    "collapsed": true
   },
   "outputs": [],
   "source": [
    "X = np.array(all_features)"
   ]
  },
  {
   "cell_type": "markdown",
   "metadata": {},
   "source": [
    "## Create training sample to experiment with different models\n",
    "* Basic model (done)\n",
    "* Log_transform (done)\n",
    "* More balanced ages\n",
    "* Weighting adults more\n",
    "* Child vs adult? (done)"
   ]
  },
  {
   "cell_type": "markdown",
   "metadata": {},
   "source": [
    "#### First take out the test set for later"
   ]
  },
  {
   "cell_type": "code",
   "execution_count": 105,
   "metadata": {
    "collapsed": true
   },
   "outputs": [],
   "source": [
    "age_groups = pheno.AgeGroup"
   ]
  },
  {
   "cell_type": "code",
   "execution_count": 123,
   "metadata": {},
   "outputs": [],
   "source": [
    "from sklearn.model_selection import StratifiedShuffleSplit\n",
    "splitter = StratifiedShuffleSplit(n_splits=1, test_size=0.4, random_state=123)\n",
    "splits = splitter.split(all_features,age_groups)"
   ]
  },
  {
   "cell_type": "code",
   "execution_count": 124,
   "metadata": {},
   "outputs": [],
   "source": [
    "for train_index, test_index in splits:\n",
    "    X_train, X_test = X[train_index], X[test_index]\n",
    "    y_train, y_test = full_y[train_index], full_y[test_index]\n",
    "    ageGroup_train, ageGroup_test = age_groups[train_index], age_groups[test_index]"
   ]
  },
  {
   "cell_type": "code",
   "execution_count": 134,
   "metadata": {},
   "outputs": [
    {
     "name": "stdout",
     "output_type": "stream",
     "text": [
      "training: 93 testing: 62\n"
     ]
    }
   ],
   "source": [
    "print('training:', len(X_train),\n",
    "     'testing:', len(X_test))"
   ]
  },
  {
   "cell_type": "code",
   "execution_count": 130,
   "metadata": {},
   "outputs": [
    {
     "data": {
      "text/plain": [
       "b'Adult'     0.215054\n",
       "b'8-12yo'    0.215054\n",
       "b'5yo'       0.215054\n",
       "b'7yo'       0.150538\n",
       "b'3yo'       0.107527\n",
       "b'4yo'       0.096774\n",
       "Name: AgeGroup, dtype: float64"
      ]
     },
     "execution_count": 130,
     "metadata": {},
     "output_type": "execute_result"
    }
   ],
   "source": [
    "ageGroup_train.value_counts() / len(ageGroup_train)"
   ]
  },
  {
   "cell_type": "code",
   "execution_count": 131,
   "metadata": {},
   "outputs": [
    {
     "data": {
      "text/plain": [
       "b'5yo'       0.225806\n",
       "b'8-12yo'    0.225806\n",
       "b'Adult'     0.209677\n",
       "b'7yo'       0.145161\n",
       "b'3yo'       0.112903\n",
       "b'4yo'       0.080645\n",
       "Name: AgeGroup, dtype: float64"
      ]
     },
     "execution_count": 131,
     "metadata": {},
     "output_type": "execute_result"
    }
   ],
   "source": [
    "ageGroup_test.value_counts() / len(ageGroup_test)"
   ]
  },
  {
   "cell_type": "markdown",
   "metadata": {},
   "source": [
    "#### Let's just run a regular old model with cross-validation on the training set"
   ]
  },
  {
   "cell_type": "code",
   "execution_count": 332,
   "metadata": {},
   "outputs": [],
   "source": [
    "from sklearn.ensemble import RandomForestRegressor\n",
    "from sklearn.model_selection import cross_val_predict, cross_val_score\n",
    "\n",
    "rf = RandomForestRegressor(n_estimators=20, random_state=123)\n",
    "y_pred = cross_val_predict(rf, X_train, y_train, groups=ageGroup_train, cv=10)\n",
    "r2_score = cross_val_score(rf, X_train, y_train, groups=ageGroup_train, cv=10)\n",
    "mae_score = cross_val_score(rf, X_train, y_train, groups=ageGroup_train, cv=10,\n",
    "                           scoring = 'neg_mean_absolute_error')"
   ]
  },
  {
   "cell_type": "code",
   "execution_count": 160,
   "metadata": {},
   "outputs": [
    {
     "data": {
      "text/plain": [
       "[(-1.8255977558510836, -2.7518500684150005),\n",
       " (0.39280026944891344, -4.15383032158),\n",
       " (0.7291880992353247, -4.016434051999999),\n",
       " (0.20557814903847393, -3.3637206251500005),\n",
       " (0.15511386445337838, -8.605169290483333),\n",
       " (0.6174592096381848, -4.6535766598277775),\n",
       " (-0.13450146643419658, -6.491634306838888),\n",
       " (0.5417873630703542, -3.680270476888888),\n",
       " (-0.2437434308711608, -1.8550974979666661),\n",
       " (0.4938851965336654, -4.010787208155555)]"
      ]
     },
     "execution_count": 160,
     "metadata": {},
     "output_type": "execute_result"
    }
   ],
   "source": [
    "list(zip(r2_score,mae_score))"
   ]
  },
  {
   "cell_type": "code",
   "execution_count": 333,
   "metadata": {},
   "outputs": [
    {
     "data": {
      "image/png": "[encoded data removed]",
      "text/plain": [
       "<matplotlib.figure.Figure at 0x122387b38>"
      ]
     },
     "metadata": {},
     "output_type": "display_data"
    },
    {
     "name": "stdout",
     "output_type": "stream",
     "text": [
      "r2 =  -0.8042372262752491 \"real\" r2 =  0.42037556227863077 mae =  4.335090849545699\n"
     ]
    }
   ],
   "source": [
    "from sklearn.metrics import r2_score, mean_absolute_error\n",
    "from scipy.stats import pearsonr\n",
    "plt.close()\n",
    "plt.scatter(y_pred, y_train)\n",
    "plt.show()\n",
    "\n",
    "print('r2 = ',r2_score(y_pred,y_train),\n",
    "      '\"real\" r2 = ', pearsonr(y_pred,y_train)[0]**2,\n",
    "     'mae = ',mean_absolute_error(y_pred,y_train))"
   ]
  },
  {
   "cell_type": "markdown",
   "metadata": {},
   "source": [
    "#### What if we log-transform age"
   ]
  },
  {
   "cell_type": "code",
   "execution_count": 198,
   "metadata": {},
   "outputs": [],
   "source": [
    "log_y_train = np.log(y_train)"
   ]
  },
  {
   "cell_type": "code",
   "execution_count": 186,
   "metadata": {},
   "outputs": [],
   "source": [
    "y_pred = cross_val_predict(rf, X_train, log_y_train, groups=ageGroup_train, cv=10)\n",
    "r2 = cross_val_score(rf, X_train, log_y_train, groups=ageGroup_train, cv=10)\n",
    "mae_score = cross_val_score(rf, X_train, log_y_train, groups=ageGroup_train, cv=10,\n",
    "                           scoring = 'neg_mean_absolute_error')"
   ]
  },
  {
   "cell_type": "code",
   "execution_count": 187,
   "metadata": {},
   "outputs": [
    {
     "data": {
      "text/plain": [
       "[(-0.41481439700494294, -0.32153886311435975),\n",
       " (0.47072151786691185, -0.4037805517049028),\n",
       " (0.5577158014410151, -0.35220518564108455),\n",
       " (0.26169422325472813, -0.27761017597442794),\n",
       " (0.26554800923425803, -0.6509614481244498),\n",
       " (0.39453470109589583, -0.41193064817009467),\n",
       " (0.1835883715786355, -0.4589371530827005),\n",
       " (0.460283282002008, -0.3592292041080869),\n",
       " (-0.033268456073531905, -0.30492487465717777),\n",
       " (0.5428618117763904, -0.3541124012249057)]"
      ]
     },
     "execution_count": 187,
     "metadata": {},
     "output_type": "execute_result"
    }
   ],
   "source": [
    "list(zip(r2,mae_score))"
   ]
  },
  {
   "cell_type": "code",
   "execution_count": 188,
   "metadata": {},
   "outputs": [
    {
     "data": {
      "image/png": "[encoded data removed]",
      "text/plain": [
       "<matplotlib.figure.Figure at 0x11dc251d0>"
      ]
     },
     "metadata": {},
     "output_type": "display_data"
    },
    {
     "name": "stdout",
     "output_type": "stream",
     "text": [
      "r2 =  -1.3208205374405941 \"real\" r2 =  0.4579850096189085 mae =  0.3885440769105384\n"
     ]
    }
   ],
   "source": [
    "plt.close()\n",
    "plt.scatter(y_pred, np.log(y_train))\n",
    "plt.show()\n",
    "\n",
    "print('r2 = ',r2_score(y_pred,log_y_train),\n",
    "      '\"real\" r2 = ', pearsonr(y_pred,log_y_train)[0]**2,\n",
    "     'mae = ',mean_absolute_error(y_pred,log_y_train))"
   ]
  },
  {
   "cell_type": "code",
   "execution_count": 200,
   "metadata": {},
   "outputs": [
    {
     "data": {
      "text/plain": [
       "1.4748319880697072"
      ]
     },
     "execution_count": 200,
     "metadata": {},
     "output_type": "execute_result"
    }
   ],
   "source": [
    "np.exp(mean_absolute_error(y_pred,log_y_train))"
   ]
  },
  {
   "cell_type": "markdown",
   "metadata": {},
   "source": [
    "#### Looking good. Let's give it a shot on the test sample!"
   ]
  },
  {
   "cell_type": "code",
   "execution_count": 211,
   "metadata": {},
   "outputs": [],
   "source": [
    "# transform testing set based on training distribution...\n",
    "from sklearn.preprocessing import FunctionTransformer\n",
    "transformer = FunctionTransformer(np.log).fit(y_train.values.reshape(-1,1))\n",
    "log_y_test = transformer.transform(y_test.values.reshape(-1,1))[:,0]"
   ]
  },
  {
   "cell_type": "code",
   "execution_count": 214,
   "metadata": {},
   "outputs": [
    {
     "data": {
      "image/png": "[encoded data removed]",
      "text/plain": [
       "<matplotlib.figure.Figure at 0x11f21dd30>"
      ]
     },
     "metadata": {},
     "output_type": "display_data"
    }
   ],
   "source": [
    "plt.close()\n",
    "plt.hist(log_y_train)\n",
    "plt.hist(log_y_test)\n",
    "plt.show()"
   ]
  },
  {
   "cell_type": "code",
   "execution_count": 217,
   "metadata": {
    "collapsed": true
   },
   "outputs": [],
   "source": [
    "rf.score?"
   ]
  },
  {
   "cell_type": "code",
   "execution_count": 220,
   "metadata": {},
   "outputs": [
    {
     "data": {
      "image/png": "[encoded data removed]",
      "text/plain": [
       "<matplotlib.figure.Figure at 0x1183ca4a8>"
      ]
     },
     "metadata": {},
     "output_type": "display_data"
    },
    {
     "name": "stdout",
     "output_type": "stream",
     "text": [
      "r2 =  0.27295115532004866 mae =  0.4231724816483632\n"
     ]
    }
   ],
   "source": [
    "# run it!\n",
    "rf.fit(X_train, log_y_train)\n",
    "y_pred = rf.predict(X_test)\n",
    "r2 = rf.score(X_test, log_y_test)\n",
    "mae = mean_absolute_error(y_pred=y_pred, y_true=log_y_test)\n",
    "\n",
    "plt.close()\n",
    "plt.scatter(y_pred, log_y_test)\n",
    "plt.show()\n",
    "\n",
    "print('r2 = ',r2,\n",
    "     'mae = ', mae)"
   ]
  },
  {
   "cell_type": "code",
   "execution_count": 222,
   "metadata": {},
   "outputs": [
    {
     "data": {
      "text/plain": [
       "1.5267976178265494"
      ]
     },
     "execution_count": 222,
     "metadata": {},
     "output_type": "execute_result"
    }
   ],
   "source": [
    "np.exp(0.4231724816483632)"
   ]
  },
  {
   "cell_type": "markdown",
   "metadata": {},
   "source": [
    "#### Okay well it's not mind blowing but it's something!"
   ]
  },
  {
   "cell_type": "markdown",
   "metadata": {},
   "source": [
    "## Have a look at feature importances"
   ]
  },
  {
   "cell_type": "code",
   "execution_count": 225,
   "metadata": {},
   "outputs": [
    {
     "data": {
      "image/png": "[encoded data removed]",
      "text/plain": [
       "<matplotlib.figure.Figure at 0x11861b358>"
      ]
     },
     "metadata": {},
     "output_type": "display_data"
    }
   ],
   "source": [
    "plt.close()\n",
    "plt.plot(rf.feature_importances_)\n",
    "plt.show()"
   ]
  },
  {
   "cell_type": "code",
   "execution_count": 227,
   "metadata": {},
   "outputs": [],
   "source": [
    "#from nilearn import plotting\n",
    "plotting.find"
   ]
  },
  {
   "cell_type": "code",
   "execution_count": 268,
   "metadata": {},
   "outputs": [],
   "source": [
    "feat_exp_matrix = np.zeros((64,64))\n",
    "upper_tri_coord = np.triu_indices_from(feat_exp_matrix,1)\n",
    "feat_exp_matrix[upper_tri_coord] = rf.feature_importances_\n",
    "feat_exp_matrix.T[upper_tri_coord] = feat_exp_matrix[upper_tri_coord]\n"
   ]
  },
  {
   "cell_type": "code",
   "execution_count": 269,
   "metadata": {},
   "outputs": [
    {
     "data": {
      "image/png": "[encoded data removed]",
      "text/plain": [
       "<matplotlib.figure.Figure at 0x11e9a1390>"
      ]
     },
     "metadata": {},
     "output_type": "display_data"
    }
   ],
   "source": [
    "plt.close()\n",
    "plt.imshow(feat_exp_matrix)\n",
    "plt.show()"
   ]
  },
  {
   "cell_type": "code",
   "execution_count": 265,
   "metadata": {},
   "outputs": [],
   "source": [
    "coords = []\n",
    "from nilearn import image\n",
    "from nibabel import Nifti1Image\n",
    "img = image.load_img(atlas_filename)\n",
    "atlas_data = img.get_data()\n",
    "aff = img.affine\n",
    "mask1 = np.zeros_like(atlas_data)\n",
    "mask1[atlas_data==13] = 1.0\n",
    "mask2 = np.zeros_like(atlas_data)\n",
    "mask2[atlas_data==60] = 1.0\n",
    "x1,y1,z1 = plotting.find_xyz_cut_coords(Nifti1Image(mask1,aff))\n",
    "# x1,y1,z1 = plotting.find_xyz_cut_coords(Nifti1Image(img.get_data().astype(float),aff),\n",
    "#                                        Nifti1Image(mask1,aff))\n",
    "# x2,y2,z2 = plotting.find_xyz_cut_coords(img,\n",
    "#                                        Nifti1Image(mask2,aff))"
   ]
  },
  {
   "cell_type": "code",
   "execution_count": 266,
   "metadata": {},
   "outputs": [
    {
     "data": {
      "text/plain": [
       "(-45.36752136752137, 20.363247863247864, 21.65811965811966)"
      ]
     },
     "execution_count": 266,
     "metadata": {},
     "output_type": "execute_result"
    }
   ],
   "source": [
    "x1,y1,z1"
   ]
  },
  {
   "cell_type": "code",
   "execution_count": 267,
   "metadata": {
    "collapsed": true
   },
   "outputs": [],
   "source": [
    "coords = []\n",
    "img = image.load_img(atlas_filename)\n",
    "atlas_data = img.get_data()\n",
    "aff = img.affine\n",
    "for i in range(1,65):\n",
    "    roi = np.zeros_like(atlas_data)\n",
    "    roi[atlas_data==i] = 1.0\n",
    "    coords.append(plotting.find_xyz_cut_coords(Nifti1Image(roi,aff)))"
   ]
  },
  {
   "cell_type": "code",
   "execution_count": 270,
   "metadata": {},
   "outputs": [
    {
     "data": {
      "image/png": "[encoded data removed]",
      "text/plain": [
       "<matplotlib.figure.Figure at 0x11e9a1da0>"
      ]
     },
     "metadata": {},
     "output_type": "display_data"
    }
   ],
   "source": [
    "plt.close()\n",
    "plotting.plot_connectome(feat_exp_matrix, coords)\n",
    "plt.show()"
   ]
  },
  {
   "cell_type": "code",
   "execution_count": 313,
   "metadata": {},
   "outputs": [],
   "source": [
    "hot_rois = set(np.sort(np.where(feat_exp_matrix>0.02)[0]))\n",
    "#hot_coords = [coords[x] for x in range(len(coords)) if x in hot_rois]\n",
    "hot_values = feat_exp_matrix[np.ix_(list(hot_rois), list(hot_rois))]"
   ]
  },
  {
   "cell_type": "markdown",
   "metadata": {},
   "source": [
    "#### What if we drop that really important feature?"
   ]
  },
  {
   "cell_type": "code",
   "execution_count": 317,
   "metadata": {},
   "outputs": [
    {
     "data": {
      "text/plain": [
       "0.2971462671126093"
      ]
     },
     "execution_count": 317,
     "metadata": {},
     "output_type": "execute_result"
    }
   ],
   "source": [
    "feat_index = np.argmax(rf.feature_importances_)\n",
    "rf.feature_importances_[feat_index]"
   ]
  },
  {
   "cell_type": "code",
   "execution_count": 320,
   "metadata": {},
   "outputs": [],
   "source": [
    "new_X_train = np.array(X_train, copy=True)\n",
    "new_X_train[:,feat_index] = np.zeros(new_X_train.shape[0])\n",
    "\n",
    "new_X_test = np.array(X_test, copy=True)\n",
    "new_X_test[:,feat_index] = np.zeros(new_X_test.shape[0])"
   ]
  },
  {
   "cell_type": "code",
   "execution_count": 322,
   "metadata": {},
   "outputs": [
    {
     "data": {
      "image/png": "[encoded data removed]",
      "text/plain": [
       "<matplotlib.figure.Figure at 0x11ebe9668>"
      ]
     },
     "metadata": {},
     "output_type": "display_data"
    },
    {
     "name": "stdout",
     "output_type": "stream",
     "text": [
      "r2 =  0.2309233310863679 mae =  0.4381794269399771\n"
     ]
    }
   ],
   "source": [
    "rf.fit(new_X_train, log_y_train)\n",
    "y_pred = rf.predict(new_X_test)\n",
    "r2 = rf.score(new_X_test, log_y_test)\n",
    "mae = mean_absolute_error(y_pred=y_pred, y_true=log_y_test)\n",
    "\n",
    "plt.close()\n",
    "plt.scatter(y_pred, log_y_test)\n",
    "plt.show()\n",
    "\n",
    "print('r2 = ',r2,\n",
    "     'mae = ', mae)"
   ]
  },
  {
   "cell_type": "markdown",
   "metadata": {},
   "source": [
    "## What about predicting adults vs children?"
   ]
  },
  {
   "cell_type": "code",
   "execution_count": 327,
   "metadata": {},
   "outputs": [
    {
     "data": {
      "text/plain": [
       "array([b'5yo', b'7yo', b'8-12yo', b'4yo', b'3yo', b'Adult'], dtype=object)"
      ]
     },
     "execution_count": 327,
     "metadata": {},
     "output_type": "execute_result"
    }
   ],
   "source": [
    "ageGroup_train.unique()"
   ]
  },
  {
   "cell_type": "code",
   "execution_count": 328,
   "metadata": {},
   "outputs": [],
   "source": [
    "y_class_train = [1 if x==b'Adult' else 0 for x in ageGroup_train]\n",
    "y_class_test = [1 if x==b'Adult' else 0 for x in ageGroup_test]"
   ]
  },
  {
   "cell_type": "code",
   "execution_count": 331,
   "metadata": {},
   "outputs": [
    {
     "name": "stdout",
     "output_type": "stream",
     "text": [
      "accuracy = 0.7903225806451613\n",
      "positive predictive value =  0.5\n"
     ]
    }
   ],
   "source": [
    "from sklearn.ensemble import RandomForestClassifier\n",
    "\n",
    "rfc = RandomForestClassifier(n_estimators=20, random_state=123)\n",
    "rfc.fit(X_train, y_class_train)\n",
    "y_pred = rfc.predict(X_test)\n",
    "acc = rfc.score(X_test,y_class_test)\n",
    "ppv = metrics.precision_score(y_pred=y_pred,y_true=y_class_test)\n",
    "\n",
    "print('accuracy =', acc)\n",
    "print('positive predictive value = ', ppv)"
   ]
  },
  {
   "cell_type": "markdown",
   "metadata": {},
   "source": [
    "# Gael suggests using a linear model instead"
   ]
  },
  {
   "cell_type": "markdown",
   "metadata": {},
   "source": [
    "### Cross-validation in training set"
   ]
  },
  {
   "cell_type": "code",
   "execution_count": 342,
   "metadata": {
    "collapsed": true
   },
   "outputs": [],
   "source": [
    "from sklearn.svm import SVR\n",
    "\n",
    "l_svr = SVR(kernel='linear')\n",
    "y_pred = cross_val_predict(l_svr, X_train, y_train, groups=ageGroup_train, cv=10)\n",
    "r2 = cross_val_score(l_svr, X_train, y_train, groups=ageGroup_train, cv=10)\n",
    "mae_score = cross_val_score(l_svr, X_train, y_train, groups=ageGroup_train, cv=10,\n",
    "                           scoring = 'neg_mean_absolute_error')"
   ]
  },
  {
   "cell_type": "code",
   "execution_count": 343,
   "metadata": {},
   "outputs": [
    {
     "data": {
      "text/plain": [
       "[(-2.8063834093341904, -3.1741615851308635),\n",
       " (0.7303516957264617, -3.245861722294746),\n",
       " (0.7837032595820714, -3.695593936165263),\n",
       " (0.6474157256466821, -2.507418459047498),\n",
       " (0.5040674706027404, -6.44007335417999),\n",
       " (0.7328753578873007, -3.9530314307046694),\n",
       " (0.6621600561435284, -4.28968022485963),\n",
       " (0.4793787914920883, -4.433794274366331),\n",
       " (-5.741562084362573, -3.6567880701972513),\n",
       " (0.6054352631397157, -3.3291715681397545)]"
      ]
     },
     "execution_count": 343,
     "metadata": {},
     "output_type": "execute_result"
    }
   ],
   "source": [
    "list(zip(r2,mae_score))"
   ]
  },
  {
   "cell_type": "code",
   "execution_count": 344,
   "metadata": {},
   "outputs": [
    {
     "data": {
      "image/png": "[encoded data removed]",
      "text/plain": [
       "<matplotlib.figure.Figure at 0x11e270dd8>"
      ]
     },
     "metadata": {},
     "output_type": "display_data"
    },
    {
     "name": "stdout",
     "output_type": "stream",
     "text": [
      "r2 =  0.5071460710279329 \"real\" r2 =  0.6307317872782939 mae =  3.8564063319286546\n"
     ]
    }
   ],
   "source": [
    "plt.close()\n",
    "plt.scatter(y_pred, y_train)\n",
    "plt.show()\n",
    "\n",
    "print('r2 = ',r2_score(y_pred,y_train),\n",
    "      '\"real\" r2 = ', pearsonr(y_pred,y_train)[0]**2,\n",
    "     'mae = ',mean_absolute_error(y_pred,y_train))"
   ]
  },
  {
   "cell_type": "code",
   "execution_count": 345,
   "metadata": {
    "collapsed": true
   },
   "outputs": [],
   "source": [
    "l_svr = SVR(kernel='linear')\n",
    "y_pred = cross_val_predict(l_svr, X_train, log_y_train, groups=ageGroup_train, cv=10)\n",
    "r2 = cross_val_score(l_svr, X_train, log_y_train, groups=ageGroup_train, cv=10)\n",
    "mae_score = cross_val_score(l_svr, X_train, log_y_train, groups=ageGroup_train, cv=10,\n",
    "                           scoring = 'neg_mean_absolute_error')"
   ]
  },
  {
   "cell_type": "code",
   "execution_count": 346,
   "metadata": {},
   "outputs": [
    {
     "data": {
      "image/png": "[encoded data removed]",
      "text/plain": [
       "<matplotlib.figure.Figure at 0x1223cce80>"
      ]
     },
     "metadata": {},
     "output_type": "display_data"
    },
    {
     "name": "stdout",
     "output_type": "stream",
     "text": [
      "r2 =  0.4938323029099403 \"real\" r2 =  0.6209069534773799 mae =  0.3171767357183989\n"
     ]
    }
   ],
   "source": [
    "plt.close()\n",
    "plt.scatter(y_pred, log_y_train)\n",
    "plt.show()\n",
    "\n",
    "print('r2 = ',r2_score(y_pred,log_y_train),\n",
    "      '\"real\" r2 = ', pearsonr(y_pred,log_y_train)[0]**2,\n",
    "     'mae = ',mean_absolute_error(y_pred,log_y_train))"
   ]
  },
  {
   "cell_type": "markdown",
   "metadata": {},
   "source": [
    "### Testing!!!"
   ]
  },
  {
   "cell_type": "code",
   "execution_count": 356,
   "metadata": {},
   "outputs": [
    {
     "data": {
      "image/png": "[encoded data removed]",
      "text/plain": [
       "<matplotlib.figure.Figure at 0x11f372fd0>"
      ]
     },
     "metadata": {},
     "output_type": "display_data"
    },
    {
     "name": "stdout",
     "output_type": "stream",
     "text": [
      "r2 =  0.5645052266954728 mae =  0.35719953873825666\n"
     ]
    }
   ],
   "source": [
    "l_svr.fit(X_train, log_y_train)\n",
    "y_pred = l_svr.predict(X_test)\n",
    "r2 = l_svr.score(X_test, log_y_test)\n",
    "mae = mean_absolute_error(y_pred=y_pred, y_true=log_y_test)\n",
    "\n",
    "plt.close()\n",
    "plt.scatter(y_pred, log_y_test)\n",
    "plt.show()\n",
    "\n",
    "print('r2 = ',r2,\n",
    "     'mae = ', mae)"
   ]
  },
  {
   "cell_type": "code",
   "execution_count": null,
   "metadata": {
    "collapsed": true
   },
   "outputs": [],
   "source": []
  }
 ],
 "metadata": {
  "kernelspec": {
   "display_name": "Python 3",
   "language": "python",
   "name": "python3"
  },
  "language_info": {
   "codemirror_mode": {
    "name": "ipython",
    "version": 3
   },
   "file_extension": ".py",
   "mimetype": "text/x-python",
   "name": "python",
   "nbconvert_exporter": "python",
   "pygments_lexer": "ipython3",
   "version": "3.6.2"
  }
 },
 "nbformat": 4,
 "nbformat_minor": 2
}
