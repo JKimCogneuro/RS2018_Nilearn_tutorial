{
 "cells": [
  {
   "cell_type": "code",
   "execution_count": 25,
   "metadata": {},
   "outputs": [],
   "source": [
    "import os\n",
    "import sys\n",
    "import numpy as np\n",
    "import pandas as pd\n",
    "import matplotlib.pyplot as plt\n",
    "sys.path.insert(0,os.getcwd())\n",
    "import download as dl"
   ]
  },
  {
   "cell_type": "markdown",
   "metadata": {},
   "source": [
    "### Download the data"
   ]
  },
  {
   "cell_type": "code",
   "execution_count": 14,
   "metadata": {},
   "outputs": [
    {
     "name": "stderr",
     "output_type": "stream",
     "text": [
      "/Users/jakevogel/git/RS2018_Nilearn_tutorial/download.py:68: VisibleDeprecationWarning: Reading unicode strings without specifying the encoding argument is deprecated. Set the encoding, use None for the system default.\n",
      "  dtype=None)\n"
     ]
    },
    {
     "name": "stdout",
     "output_type": "stream",
     "text": [
      "Downloading data from https://openneuro.org/crn/datasets/ds000228/snapshots/00001/files/derivatives:fmriprep:sub-pixar031:sub-pixar031_task-pixar_run-001_swrf_bold.nii.gz ...\n"
     ]
    },
    {
     "name": "stderr",
     "output_type": "stream",
     "text": [
      "Downloaded 99798499 of ? bytes. ...done. (28 seconds, 0 min)\n"
     ]
    },
    {
     "name": "stdout",
     "output_type": "stream",
     "text": [
      "Downloading data from https://openneuro.org/crn/datasets/ds000228/snapshots/00001/files/derivatives:fmriprep:sub-pixar032:sub-pixar032_task-pixar_run-001_swrf_bold.nii.gz ...\n"
     ]
    },
    {
     "name": "stderr",
     "output_type": "stream",
     "text": [
      "Downloaded 91486120 of ? bytes. ...done. (24 seconds, 0 min)\n"
     ]
    },
    {
     "name": "stdout",
     "output_type": "stream",
     "text": [
      "Downloading data from https://openneuro.org/crn/datasets/ds000228/snapshots/00001/files/derivatives:fmriprep:sub-pixar033:sub-pixar033_task-pixar_run-001_swrf_bold.nii.gz ...\n"
     ]
    },
    {
     "name": "stderr",
     "output_type": "stream",
     "text": [
      "Downloaded 87430554 of ? bytes. ...done. (27 seconds, 0 min)\n"
     ]
    },
    {
     "name": "stdout",
     "output_type": "stream",
     "text": [
      "Downloading data from https://openneuro.org/crn/datasets/ds000228/snapshots/00001/files/derivatives:fmriprep:sub-pixar034:sub-pixar034_task-pixar_run-001_swrf_bold.nii.gz ...\n"
     ]
    },
    {
     "name": "stderr",
     "output_type": "stream",
     "text": [
      "Downloaded 82090351 of ? bytes. ...done. (22 seconds, 0 min)\n"
     ]
    },
    {
     "name": "stdout",
     "output_type": "stream",
     "text": [
      "Downloading data from https://openneuro.org/crn/datasets/ds000228/snapshots/00001/files/derivatives:fmriprep:sub-pixar035:sub-pixar035_task-pixar_run-001_swrf_bold.nii.gz ...\n"
     ]
    },
    {
     "name": "stderr",
     "output_type": "stream",
     "text": [
      "Downloaded 85728625 of ? bytes. ...done. (25 seconds, 0 min)\n"
     ]
    },
    {
     "name": "stdout",
     "output_type": "stream",
     "text": [
      "Downloading data from https://openneuro.org/crn/datasets/ds000228/snapshots/00001/files/derivatives:fmriprep:sub-pixar036:sub-pixar036_task-pixar_run-001_swrf_bold.nii.gz ...\n"
     ]
    },
    {
     "name": "stderr",
     "output_type": "stream",
     "text": [
      "Downloaded 82915016 of ? bytes. ...done. (23 seconds, 0 min)\n"
     ]
    },
    {
     "name": "stdout",
     "output_type": "stream",
     "text": [
      "Downloading data from https://openneuro.org/crn/datasets/ds000228/snapshots/00001/files/derivatives:fmriprep:sub-pixar037:sub-pixar037_task-pixar_run-001_swrf_bold.nii.gz ...\n"
     ]
    },
    {
     "name": "stderr",
     "output_type": "stream",
     "text": [
      "Downloaded 77439201 of ? bytes. ...done. (24 seconds, 0 min)\n"
     ]
    },
    {
     "name": "stdout",
     "output_type": "stream",
     "text": [
      "Downloading data from https://openneuro.org/crn/datasets/ds000228/snapshots/00001/files/derivatives:fmriprep:sub-pixar038:sub-pixar038_task-pixar_run-001_swrf_bold.nii.gz ...\n"
     ]
    },
    {
     "name": "stderr",
     "output_type": "stream",
     "text": [
      "Downloaded 85884191 of ? bytes. ...done. (23 seconds, 0 min)\n"
     ]
    },
    {
     "name": "stdout",
     "output_type": "stream",
     "text": [
      "Downloading data from https://openneuro.org/crn/datasets/ds000228/snapshots/00001/files/derivatives:fmriprep:sub-pixar039:sub-pixar039_task-pixar_run-001_swrf_bold.nii.gz ...\n"
     ]
    },
    {
     "name": "stderr",
     "output_type": "stream",
     "text": [
      "Downloaded 86732227 of ? bytes. ...done. (23 seconds, 0 min)\n"
     ]
    },
    {
     "name": "stdout",
     "output_type": "stream",
     "text": [
      "Downloading data from https://openneuro.org/crn/datasets/ds000228/snapshots/00001/files/derivatives:fmriprep:sub-pixar040:sub-pixar040_task-pixar_run-001_swrf_bold.nii.gz ...\n"
     ]
    },
    {
     "name": "stderr",
     "output_type": "stream",
     "text": [
      "Downloaded 78981294 of ? bytes. ...done. (53 seconds, 0 min)\n"
     ]
    },
    {
     "name": "stdout",
     "output_type": "stream",
     "text": [
      "Downloading data from https://openneuro.org/crn/datasets/ds000228/snapshots/00001/files/derivatives:fmriprep:sub-pixar041:sub-pixar041_task-pixar_run-001_swrf_bold.nii.gz ...\n"
     ]
    },
    {
     "name": "stderr",
     "output_type": "stream",
     "text": [
      "Downloaded 81500039 of ? bytes. ...done. (23 seconds, 0 min)\n"
     ]
    },
    {
     "name": "stdout",
     "output_type": "stream",
     "text": [
      "Downloading data from https://openneuro.org/crn/datasets/ds000228/snapshots/00001/files/derivatives:fmriprep:sub-pixar042:sub-pixar042_task-pixar_run-001_swrf_bold.nii.gz ...\n"
     ]
    },
    {
     "name": "stderr",
     "output_type": "stream",
     "text": [
      "Downloaded 84646949 of ? bytes. ...done. (22 seconds, 0 min)\n"
     ]
    },
    {
     "name": "stdout",
     "output_type": "stream",
     "text": [
      "Downloading data from https://openneuro.org/crn/datasets/ds000228/snapshots/00001/files/derivatives:fmriprep:sub-pixar043:sub-pixar043_task-pixar_run-001_swrf_bold.nii.gz ...\n"
     ]
    },
    {
     "name": "stderr",
     "output_type": "stream",
     "text": [
      "Downloaded 87971214 of ? bytes. ...done. (25 seconds, 0 min)\n"
     ]
    },
    {
     "name": "stdout",
     "output_type": "stream",
     "text": [
      "Downloading data from https://openneuro.org/crn/datasets/ds000228/snapshots/00001/files/derivatives:fmriprep:sub-pixar044:sub-pixar044_task-pixar_run-001_swrf_bold.nii.gz ...\n"
     ]
    },
    {
     "name": "stderr",
     "output_type": "stream",
     "text": [
      "Downloaded 85652315 of ? bytes. ...done. (57 seconds, 0 min)\n"
     ]
    },
    {
     "name": "stdout",
     "output_type": "stream",
     "text": [
      "Downloading data from https://openneuro.org/crn/datasets/ds000228/snapshots/00001/files/derivatives:fmriprep:sub-pixar045:sub-pixar045_task-pixar_run-001_swrf_bold.nii.gz ...\n"
     ]
    },
    {
     "name": "stderr",
     "output_type": "stream",
     "text": [
      "Downloaded 93097075 of ? bytes. ...done. (32 seconds, 0 min)\n"
     ]
    },
    {
     "name": "stdout",
     "output_type": "stream",
     "text": [
      "Downloading data from https://openneuro.org/crn/datasets/ds000228/snapshots/00001/files/derivatives:fmriprep:sub-pixar046:sub-pixar046_task-pixar_run-001_swrf_bold.nii.gz ...\n"
     ]
    },
    {
     "name": "stderr",
     "output_type": "stream",
     "text": [
      "Downloaded 89834226 of ? bytes. ...done. (40 seconds, 0 min)\n"
     ]
    },
    {
     "name": "stdout",
     "output_type": "stream",
     "text": [
      "Downloading data from https://openneuro.org/crn/datasets/ds000228/snapshots/00001/files/derivatives:fmriprep:sub-pixar047:sub-pixar047_task-pixar_run-001_swrf_bold.nii.gz ...\n"
     ]
    },
    {
     "name": "stderr",
     "output_type": "stream",
     "text": [
      "Downloaded 85305239 of ? bytes. ...done. (23 seconds, 0 min)\n"
     ]
    },
    {
     "name": "stdout",
     "output_type": "stream",
     "text": [
      "Downloading data from https://openneuro.org/crn/datasets/ds000228/snapshots/00001/files/derivatives:fmriprep:sub-pixar048:sub-pixar048_task-pixar_run-001_swrf_bold.nii.gz ...\n"
     ]
    },
    {
     "name": "stderr",
     "output_type": "stream",
     "text": [
      "Downloaded 89204540 of ? bytes. ...done. (24 seconds, 0 min)\n"
     ]
    },
    {
     "name": "stdout",
     "output_type": "stream",
     "text": [
      "Downloading data from https://openneuro.org/crn/datasets/ds000228/snapshots/00001/files/derivatives:fmriprep:sub-pixar049:sub-pixar049_task-pixar_run-001_swrf_bold.nii.gz ...\n"
     ]
    },
    {
     "name": "stderr",
     "output_type": "stream",
     "text": [
      "Downloaded 85863977 of ? bytes. ...done. (25 seconds, 0 min)\n"
     ]
    },
    {
     "name": "stdout",
     "output_type": "stream",
     "text": [
      "Downloading data from https://openneuro.org/crn/datasets/ds000228/snapshots/00001/files/derivatives:fmriprep:sub-pixar050:sub-pixar050_task-pixar_run-001_swrf_bold.nii.gz ...\n"
     ]
    },
    {
     "name": "stderr",
     "output_type": "stream",
     "text": [
      "Downloaded 88963901 of ? bytes. ...done. (24 seconds, 0 min)\n"
     ]
    },
    {
     "name": "stdout",
     "output_type": "stream",
     "text": [
      "Downloading data from https://openneuro.org/crn/datasets/ds000228/snapshots/00001/files/derivatives:fmriprep:sub-pixar051:sub-pixar051_task-pixar_run-001_swrf_bold.nii.gz ...\n"
     ]
    },
    {
     "name": "stderr",
     "output_type": "stream",
     "text": [
      "Downloaded 84254773 of ? bytes. ...done. (22 seconds, 0 min)\n"
     ]
    },
    {
     "name": "stdout",
     "output_type": "stream",
     "text": [
      "Downloading data from https://openneuro.org/crn/datasets/ds000228/snapshots/00001/files/derivatives:fmriprep:sub-pixar052:sub-pixar052_task-pixar_run-001_swrf_bold.nii.gz ...\n"
     ]
    },
    {
     "name": "stderr",
     "output_type": "stream",
     "text": [
      "Downloaded 86082731 of ? bytes. ...done. (27 seconds, 0 min)\n"
     ]
    },
    {
     "name": "stdout",
     "output_type": "stream",
     "text": [
      "Downloading data from https://openneuro.org/crn/datasets/ds000228/snapshots/00001/files/derivatives:fmriprep:sub-pixar053:sub-pixar053_task-pixar_run-001_swrf_bold.nii.gz ...\n"
     ]
    },
    {
     "name": "stderr",
     "output_type": "stream",
     "text": [
      "Downloaded 85647646 of ? bytes. ...done. (27 seconds, 0 min)\n"
     ]
    },
    {
     "name": "stdout",
     "output_type": "stream",
     "text": [
      "Downloading data from https://openneuro.org/crn/datasets/ds000228/snapshots/00001/files/derivatives:fmriprep:sub-pixar054:sub-pixar054_task-pixar_run-001_swrf_bold.nii.gz ...\n"
     ]
    },
    {
     "name": "stderr",
     "output_type": "stream",
     "text": [
      "Downloaded 86802390 of ? bytes. ...done. (30 seconds, 0 min)\n"
     ]
    },
    {
     "name": "stdout",
     "output_type": "stream",
     "text": [
      "Downloading data from https://openneuro.org/crn/datasets/ds000228/snapshots/00001/files/derivatives:fmriprep:sub-pixar055:sub-pixar055_task-pixar_run-001_swrf_bold.nii.gz ...\n"
     ]
    },
    {
     "name": "stderr",
     "output_type": "stream",
     "text": [
      "Downloaded 87822190 of ? bytes. ...done. (28 seconds, 0 min)\n"
     ]
    },
    {
     "name": "stdout",
     "output_type": "stream",
     "text": [
      "Downloading data from https://openneuro.org/crn/datasets/ds000228/snapshots/00001/files/derivatives:fmriprep:sub-pixar056:sub-pixar056_task-pixar_run-001_swrf_bold.nii.gz ...\n"
     ]
    },
    {
     "name": "stderr",
     "output_type": "stream",
     "text": [
      "Downloaded 83453436 of ? bytes. ...done. (33 seconds, 0 min)\n"
     ]
    },
    {
     "name": "stdout",
     "output_type": "stream",
     "text": [
      "Downloading data from https://openneuro.org/crn/datasets/ds000228/snapshots/00001/files/derivatives:fmriprep:sub-pixar057:sub-pixar057_task-pixar_run-001_swrf_bold.nii.gz ...\n"
     ]
    },
    {
     "name": "stderr",
     "output_type": "stream",
     "text": [
      "Downloaded 85677343 of ? bytes. ...done. (28 seconds, 0 min)\n"
     ]
    },
    {
     "name": "stdout",
     "output_type": "stream",
     "text": [
      "Downloading data from https://openneuro.org/crn/datasets/ds000228/snapshots/00001/files/derivatives:fmriprep:sub-pixar058:sub-pixar058_task-pixar_run-001_swrf_bold.nii.gz ...\n"
     ]
    },
    {
     "name": "stderr",
     "output_type": "stream",
     "text": [
      "Downloaded 88619446 of ? bytes. ...done. (31 seconds, 0 min)\n"
     ]
    },
    {
     "name": "stdout",
     "output_type": "stream",
     "text": [
      "Downloading data from https://openneuro.org/crn/datasets/ds000228/snapshots/00001/files/derivatives:fmriprep:sub-pixar059:sub-pixar059_task-pixar_run-001_swrf_bold.nii.gz ...\n"
     ]
    },
    {
     "name": "stderr",
     "output_type": "stream",
     "text": [
      "Downloaded 90203202 of ? bytes. ...done. (28 seconds, 0 min)\n"
     ]
    },
    {
     "name": "stdout",
     "output_type": "stream",
     "text": [
      "Downloading data from https://openneuro.org/crn/datasets/ds000228/snapshots/00001/files/derivatives:fmriprep:sub-pixar060:sub-pixar060_task-pixar_run-001_swrf_bold.nii.gz ...\n"
     ]
    },
    {
     "name": "stderr",
     "output_type": "stream",
     "text": [
      "Downloaded 84811091 of ? bytes. ...done. (25 seconds, 0 min)\n"
     ]
    },
    {
     "name": "stdout",
     "output_type": "stream",
     "text": [
      "Downloading data from https://openneuro.org/crn/datasets/ds000228/snapshots/00001/files/derivatives:fmriprep:sub-pixar061:sub-pixar061_task-pixar_run-001_swrf_bold.nii.gz ...\n"
     ]
    },
    {
     "name": "stderr",
     "output_type": "stream",
     "text": [
      "Downloaded 80567384 of ? bytes. ...done. (24 seconds, 0 min)\n"
     ]
    },
    {
     "name": "stdout",
     "output_type": "stream",
     "text": [
      "Downloading data from https://openneuro.org/crn/datasets/ds000228/snapshots/00001/files/derivatives:fmriprep:sub-pixar062:sub-pixar062_task-pixar_run-001_swrf_bold.nii.gz ...\n"
     ]
    },
    {
     "name": "stderr",
     "output_type": "stream",
     "text": [
      "Downloaded 87901872 of ? bytes. ...done. (23 seconds, 0 min)\n"
     ]
    },
    {
     "name": "stdout",
     "output_type": "stream",
     "text": [
      "Downloading data from https://openneuro.org/crn/datasets/ds000228/snapshots/00001/files/derivatives:fmriprep:sub-pixar063:sub-pixar063_task-pixar_run-001_swrf_bold.nii.gz ...\n"
     ]
    },
    {
     "name": "stderr",
     "output_type": "stream",
     "text": [
      "Downloaded 89232297 of ? bytes. ...done. (52 seconds, 0 min)\n"
     ]
    },
    {
     "name": "stdout",
     "output_type": "stream",
     "text": [
      "Downloading data from https://openneuro.org/crn/datasets/ds000228/snapshots/00001/files/derivatives:fmriprep:sub-pixar064:sub-pixar064_task-pixar_run-001_swrf_bold.nii.gz ...\n"
     ]
    },
    {
     "name": "stderr",
     "output_type": "stream",
     "text": [
      "Downloaded 88830103 of ? bytes. ...done. (32 seconds, 0 min)\n"
     ]
    },
    {
     "name": "stdout",
     "output_type": "stream",
     "text": [
      "Downloading data from https://openneuro.org/crn/datasets/ds000228/snapshots/00001/files/derivatives:fmriprep:sub-pixar065:sub-pixar065_task-pixar_run-001_swrf_bold.nii.gz ...\n"
     ]
    },
    {
     "name": "stderr",
     "output_type": "stream",
     "text": [
      "Downloaded 87606469 of ? bytes. ...done. (29 seconds, 0 min)\n"
     ]
    },
    {
     "name": "stdout",
     "output_type": "stream",
     "text": [
      "Downloading data from https://openneuro.org/crn/datasets/ds000228/snapshots/00001/files/derivatives:fmriprep:sub-pixar066:sub-pixar066_task-pixar_run-001_swrf_bold.nii.gz ...\n"
     ]
    },
    {
     "name": "stderr",
     "output_type": "stream",
     "text": [
      "Downloaded 87888175 of ? bytes. ...done. (29 seconds, 0 min)\n"
     ]
    },
    {
     "name": "stdout",
     "output_type": "stream",
     "text": [
      "Downloading data from https://openneuro.org/crn/datasets/ds000228/snapshots/00001/files/derivatives:fmriprep:sub-pixar067:sub-pixar067_task-pixar_run-001_swrf_bold.nii.gz ...\n"
     ]
    },
    {
     "name": "stderr",
     "output_type": "stream",
     "text": [
      "Downloaded 85817617 of ? bytes. ...done. (27 seconds, 0 min)\n"
     ]
    },
    {
     "name": "stdout",
     "output_type": "stream",
     "text": [
      "Downloading data from https://openneuro.org/crn/datasets/ds000228/snapshots/00001/files/derivatives:fmriprep:sub-pixar068:sub-pixar068_task-pixar_run-001_swrf_bold.nii.gz ...\n"
     ]
    },
    {
     "name": "stderr",
     "output_type": "stream",
     "text": [
      "Downloaded 86878727 of ? bytes. ...done. (25 seconds, 0 min)\n"
     ]
    },
    {
     "name": "stdout",
     "output_type": "stream",
     "text": [
      "Downloading data from https://openneuro.org/crn/datasets/ds000228/snapshots/00001/files/derivatives:fmriprep:sub-pixar069:sub-pixar069_task-pixar_run-001_swrf_bold.nii.gz ...\n"
     ]
    },
    {
     "name": "stderr",
     "output_type": "stream",
     "text": [
      "Downloaded 88451755 of ? bytes. ...done. (25 seconds, 0 min)\n"
     ]
    },
    {
     "name": "stdout",
     "output_type": "stream",
     "text": [
      "Downloading data from https://openneuro.org/crn/datasets/ds000228/snapshots/00001/files/derivatives:fmriprep:sub-pixar070:sub-pixar070_task-pixar_run-001_swrf_bold.nii.gz ...\n"
     ]
    },
    {
     "name": "stderr",
     "output_type": "stream",
     "text": [
      "Downloaded 87818432 of ? bytes. ...done. (24 seconds, 0 min)\n"
     ]
    },
    {
     "name": "stdout",
     "output_type": "stream",
     "text": [
      "Downloading data from https://openneuro.org/crn/datasets/ds000228/snapshots/00001/files/derivatives:fmriprep:sub-pixar071:sub-pixar071_task-pixar_run-001_swrf_bold.nii.gz ...\n"
     ]
    },
    {
     "name": "stderr",
     "output_type": "stream",
     "text": [
      "Downloaded 86472430 of ? bytes. ...done. (23 seconds, 0 min)\n"
     ]
    },
    {
     "name": "stdout",
     "output_type": "stream",
     "text": [
      "Downloading data from https://openneuro.org/crn/datasets/ds000228/snapshots/00001/files/derivatives:fmriprep:sub-pixar072:sub-pixar072_task-pixar_run-001_swrf_bold.nii.gz ...\n"
     ]
    },
    {
     "name": "stderr",
     "output_type": "stream",
     "text": [
      "Downloaded 91979383 of ? bytes. ...done. (26 seconds, 0 min)\n"
     ]
    },
    {
     "name": "stdout",
     "output_type": "stream",
     "text": [
      "Downloading data from https://openneuro.org/crn/datasets/ds000228/snapshots/00001/files/derivatives:fmriprep:sub-pixar073:sub-pixar073_task-pixar_run-001_swrf_bold.nii.gz ...\n"
     ]
    },
    {
     "name": "stderr",
     "output_type": "stream",
     "text": [
      "Downloaded 84410131 of ? bytes. ...done. (23 seconds, 0 min)\n"
     ]
    },
    {
     "name": "stdout",
     "output_type": "stream",
     "text": [
      "Downloading data from https://openneuro.org/crn/datasets/ds000228/snapshots/00001/files/derivatives:fmriprep:sub-pixar074:sub-pixar074_task-pixar_run-001_swrf_bold.nii.gz ...\n"
     ]
    },
    {
     "name": "stderr",
     "output_type": "stream",
     "text": [
      "Downloaded 87351872 of ? bytes. ...done. (24 seconds, 0 min)\n"
     ]
    },
    {
     "name": "stdout",
     "output_type": "stream",
     "text": [
      "Downloading data from https://openneuro.org/crn/datasets/ds000228/snapshots/00001/files/derivatives:fmriprep:sub-pixar075:sub-pixar075_task-pixar_run-001_swrf_bold.nii.gz ...\n"
     ]
    },
    {
     "name": "stderr",
     "output_type": "stream",
     "text": [
      "Downloaded 80612139 of ? bytes. ...done. (21 seconds, 0 min)\n"
     ]
    },
    {
     "name": "stdout",
     "output_type": "stream",
     "text": [
      "Downloading data from https://openneuro.org/crn/datasets/ds000228/snapshots/00001/files/derivatives:fmriprep:sub-pixar076:sub-pixar076_task-pixar_run-001_swrf_bold.nii.gz ...\n"
     ]
    },
    {
     "name": "stderr",
     "output_type": "stream",
     "text": [
      "Downloaded 89346479 of ? bytes. ...done. (26 seconds, 0 min)\n"
     ]
    },
    {
     "name": "stdout",
     "output_type": "stream",
     "text": [
      "Downloading data from https://openneuro.org/crn/datasets/ds000228/snapshots/00001/files/derivatives:fmriprep:sub-pixar077:sub-pixar077_task-pixar_run-001_swrf_bold.nii.gz ...\n"
     ]
    },
    {
     "name": "stderr",
     "output_type": "stream",
     "text": [
      "Downloaded 89770688 of ? bytes. ...done. (29 seconds, 0 min)\n"
     ]
    },
    {
     "name": "stdout",
     "output_type": "stream",
     "text": [
      "Downloading data from https://openneuro.org/crn/datasets/ds000228/snapshots/00001/files/derivatives:fmriprep:sub-pixar078:sub-pixar078_task-pixar_run-001_swrf_bold.nii.gz ...\n"
     ]
    },
    {
     "name": "stderr",
     "output_type": "stream",
     "text": [
      "Downloaded 92597124 of ? bytes. ...done. (26 seconds, 0 min)\n"
     ]
    },
    {
     "name": "stdout",
     "output_type": "stream",
     "text": [
      "Downloading data from https://openneuro.org/crn/datasets/ds000228/snapshots/00001/files/derivatives:fmriprep:sub-pixar079:sub-pixar079_task-pixar_run-001_swrf_bold.nii.gz ...\n"
     ]
    },
    {
     "name": "stderr",
     "output_type": "stream",
     "text": [
      "Downloaded 88020519 of ? bytes. ...done. (24 seconds, 0 min)\n"
     ]
    },
    {
     "name": "stdout",
     "output_type": "stream",
     "text": [
      "Downloading data from https://openneuro.org/crn/datasets/ds000228/snapshots/00001/files/derivatives:fmriprep:sub-pixar080:sub-pixar080_task-pixar_run-001_swrf_bold.nii.gz ...\n"
     ]
    },
    {
     "name": "stderr",
     "output_type": "stream",
     "text": [
      "Downloaded 90420250 of ? bytes. ...done. (25 seconds, 0 min)\n"
     ]
    },
    {
     "name": "stdout",
     "output_type": "stream",
     "text": [
      "Downloading data from https://openneuro.org/crn/datasets/ds000228/snapshots/00001/files/derivatives:fmriprep:sub-pixar081:sub-pixar081_task-pixar_run-001_swrf_bold.nii.gz ...\n"
     ]
    },
    {
     "name": "stderr",
     "output_type": "stream",
     "text": [
      "Downloaded 86787714 of ? bytes. ...done. (24 seconds, 0 min)\n"
     ]
    },
    {
     "name": "stdout",
     "output_type": "stream",
     "text": [
      "Downloading data from https://openneuro.org/crn/datasets/ds000228/snapshots/00001/files/derivatives:fmriprep:sub-pixar082:sub-pixar082_task-pixar_run-001_swrf_bold.nii.gz ...\n"
     ]
    },
    {
     "name": "stderr",
     "output_type": "stream",
     "text": [
      "Downloaded 87320445 of ? bytes. ...done. (24 seconds, 0 min)\n"
     ]
    },
    {
     "name": "stdout",
     "output_type": "stream",
     "text": [
      "Downloading data from https://openneuro.org/crn/datasets/ds000228/snapshots/00001/files/derivatives:fmriprep:sub-pixar083:sub-pixar083_task-pixar_run-001_swrf_bold.nii.gz ...\n"
     ]
    },
    {
     "name": "stderr",
     "output_type": "stream",
     "text": [
      "Downloaded 90518605 of ? bytes. ...done. (30 seconds, 0 min)\n"
     ]
    },
    {
     "name": "stdout",
     "output_type": "stream",
     "text": [
      "Downloading data from https://openneuro.org/crn/datasets/ds000228/snapshots/00001/files/derivatives:fmriprep:sub-pixar084:sub-pixar084_task-pixar_run-001_swrf_bold.nii.gz ...\n"
     ]
    },
    {
     "name": "stderr",
     "output_type": "stream",
     "text": [
      "Downloaded 87282026 of ? bytes. ...done. (23 seconds, 0 min)\n"
     ]
    },
    {
     "name": "stdout",
     "output_type": "stream",
     "text": [
      "Downloading data from https://openneuro.org/crn/datasets/ds000228/snapshots/00001/files/derivatives:fmriprep:sub-pixar085:sub-pixar085_task-pixar_run-001_swrf_bold.nii.gz ...\n"
     ]
    },
    {
     "name": "stderr",
     "output_type": "stream",
     "text": [
      "Downloaded 92350609 of ? bytes. ...done. (25 seconds, 0 min)\n"
     ]
    },
    {
     "name": "stdout",
     "output_type": "stream",
     "text": [
      "Downloading data from https://openneuro.org/crn/datasets/ds000228/snapshots/00001/files/derivatives:fmriprep:sub-pixar086:sub-pixar086_task-pixar_run-001_swrf_bold.nii.gz ...\n"
     ]
    },
    {
     "name": "stderr",
     "output_type": "stream",
     "text": [
      "Downloaded 87294474 of ? bytes. ...done. (24 seconds, 0 min)\n"
     ]
    },
    {
     "name": "stdout",
     "output_type": "stream",
     "text": [
      "Downloading data from https://openneuro.org/crn/datasets/ds000228/snapshots/00001/files/derivatives:fmriprep:sub-pixar087:sub-pixar087_task-pixar_run-001_swrf_bold.nii.gz ...\n"
     ]
    },
    {
     "name": "stderr",
     "output_type": "stream",
     "text": [
      "Downloaded 90755534 of ? bytes. ...done. (26 seconds, 0 min)\n"
     ]
    },
    {
     "name": "stdout",
     "output_type": "stream",
     "text": [
      "Downloading data from https://openneuro.org/crn/datasets/ds000228/snapshots/00001/files/derivatives:fmriprep:sub-pixar088:sub-pixar088_task-pixar_run-001_swrf_bold.nii.gz ...\n"
     ]
    },
    {
     "name": "stderr",
     "output_type": "stream",
     "text": [
      "Downloaded 86988237 of ? bytes. ...done. (23 seconds, 0 min)\n"
     ]
    },
    {
     "name": "stdout",
     "output_type": "stream",
     "text": [
      "Downloading data from https://openneuro.org/crn/datasets/ds000228/snapshots/00001/files/derivatives:fmriprep:sub-pixar089:sub-pixar089_task-pixar_run-001_swrf_bold.nii.gz ...\n"
     ]
    },
    {
     "name": "stderr",
     "output_type": "stream",
     "text": [
      "Downloaded 87415118 of ? bytes. ...done. (23 seconds, 0 min)\n"
     ]
    },
    {
     "name": "stdout",
     "output_type": "stream",
     "text": [
      "Downloading data from https://openneuro.org/crn/datasets/ds000228/snapshots/00001/files/derivatives:fmriprep:sub-pixar090:sub-pixar090_task-pixar_run-001_swrf_bold.nii.gz ...\n"
     ]
    },
    {
     "name": "stderr",
     "output_type": "stream",
     "text": [
      "Downloaded 88054181 of ? bytes. ...done. (24 seconds, 0 min)\n"
     ]
    },
    {
     "name": "stdout",
     "output_type": "stream",
     "text": [
      "Downloading data from https://openneuro.org/crn/datasets/ds000228/snapshots/00001/files/derivatives:fmriprep:sub-pixar091:sub-pixar091_task-pixar_run-001_swrf_bold.nii.gz ...\n"
     ]
    },
    {
     "name": "stderr",
     "output_type": "stream",
     "text": [
      "Downloaded 85968308 of ? bytes. ...done. (23 seconds, 0 min)\n"
     ]
    },
    {
     "name": "stdout",
     "output_type": "stream",
     "text": [
      "Downloading data from https://openneuro.org/crn/datasets/ds000228/snapshots/00001/files/derivatives:fmriprep:sub-pixar092:sub-pixar092_task-pixar_run-001_swrf_bold.nii.gz ...\n"
     ]
    },
    {
     "name": "stderr",
     "output_type": "stream",
     "text": [
      "Downloaded 87548409 of ? bytes. ...done. (24 seconds, 0 min)\n"
     ]
    },
    {
     "name": "stdout",
     "output_type": "stream",
     "text": [
      "Downloading data from https://openneuro.org/crn/datasets/ds000228/snapshots/00001/files/derivatives:fmriprep:sub-pixar093:sub-pixar093_task-pixar_run-001_swrf_bold.nii.gz ...\n"
     ]
    },
    {
     "name": "stderr",
     "output_type": "stream",
     "text": [
      "Downloaded 91317156 of ? bytes. ...done. (25 seconds, 0 min)\n"
     ]
    },
    {
     "name": "stdout",
     "output_type": "stream",
     "text": [
      "Downloading data from https://openneuro.org/crn/datasets/ds000228/snapshots/00001/files/derivatives:fmriprep:sub-pixar094:sub-pixar094_task-pixar_run-001_swrf_bold.nii.gz ...\n"
     ]
    },
    {
     "name": "stderr",
     "output_type": "stream",
     "text": [
      "Downloaded 94220418 of ? bytes. ...done. (51 seconds, 0 min)\n"
     ]
    },
    {
     "name": "stdout",
     "output_type": "stream",
     "text": [
      "Downloading data from https://openneuro.org/crn/datasets/ds000228/snapshots/00001/files/derivatives:fmriprep:sub-pixar095:sub-pixar095_task-pixar_run-001_swrf_bold.nii.gz ...\n"
     ]
    },
    {
     "name": "stderr",
     "output_type": "stream",
     "text": [
      "Downloaded 92244044 of ? bytes. ...done. (44 seconds, 0 min)\n"
     ]
    },
    {
     "name": "stdout",
     "output_type": "stream",
     "text": [
      "Downloading data from https://openneuro.org/crn/datasets/ds000228/snapshots/00001/files/derivatives:fmriprep:sub-pixar096:sub-pixar096_task-pixar_run-001_swrf_bold.nii.gz ...\n"
     ]
    },
    {
     "name": "stderr",
     "output_type": "stream",
     "text": [
      "Downloaded 89140653 of ? bytes. ...done. (24 seconds, 0 min)\n"
     ]
    },
    {
     "name": "stdout",
     "output_type": "stream",
     "text": [
      "Downloading data from https://openneuro.org/crn/datasets/ds000228/snapshots/00001/files/derivatives:fmriprep:sub-pixar097:sub-pixar097_task-pixar_run-001_swrf_bold.nii.gz ...\n"
     ]
    },
    {
     "name": "stderr",
     "output_type": "stream",
     "text": [
      "Downloaded 81761546 of ? bytes. ...done. (23 seconds, 0 min)\n"
     ]
    },
    {
     "name": "stdout",
     "output_type": "stream",
     "text": [
      "Downloading data from https://openneuro.org/crn/datasets/ds000228/snapshots/00001/files/derivatives:fmriprep:sub-pixar098:sub-pixar098_task-pixar_run-001_swrf_bold.nii.gz ...\n"
     ]
    },
    {
     "name": "stderr",
     "output_type": "stream",
     "text": [
      "Downloaded 86393275 of ? bytes. ...done. (24 seconds, 0 min)\n"
     ]
    },
    {
     "name": "stdout",
     "output_type": "stream",
     "text": [
      "Downloading data from https://openneuro.org/crn/datasets/ds000228/snapshots/00001/files/derivatives:fmriprep:sub-pixar099:sub-pixar099_task-pixar_run-001_swrf_bold.nii.gz ...\n"
     ]
    },
    {
     "name": "stderr",
     "output_type": "stream",
     "text": [
      "Downloaded 93045355 of ? bytes. ...done. (28 seconds, 0 min)\n"
     ]
    },
    {
     "name": "stdout",
     "output_type": "stream",
     "text": [
      "Downloading data from https://openneuro.org/crn/datasets/ds000228/snapshots/00001/files/derivatives:fmriprep:sub-pixar100:sub-pixar100_task-pixar_run-001_swrf_bold.nii.gz ...\n"
     ]
    },
    {
     "name": "stderr",
     "output_type": "stream",
     "text": [
      "Downloaded 101280465 of ? bytes. ...done. (29 seconds, 0 min)\n"
     ]
    },
    {
     "name": "stdout",
     "output_type": "stream",
     "text": [
      "Downloading data from https://openneuro.org/crn/datasets/ds000228/snapshots/00001/files/derivatives:fmriprep:sub-pixar101:sub-pixar101_task-pixar_run-001_swrf_bold.nii.gz ...\n"
     ]
    },
    {
     "name": "stderr",
     "output_type": "stream",
     "text": [
      "Downloaded 83104724 of ? bytes. ...done. (22 seconds, 0 min)\n"
     ]
    },
    {
     "name": "stdout",
     "output_type": "stream",
     "text": [
      "Downloading data from https://openneuro.org/crn/datasets/ds000228/snapshots/00001/files/derivatives:fmriprep:sub-pixar102:sub-pixar102_task-pixar_run-001_swrf_bold.nii.gz ...\n"
     ]
    },
    {
     "name": "stderr",
     "output_type": "stream",
     "text": [
      "Downloaded 86088293 of ? bytes. ...done. (24 seconds, 0 min)\n"
     ]
    },
    {
     "name": "stdout",
     "output_type": "stream",
     "text": [
      "Downloading data from https://openneuro.org/crn/datasets/ds000228/snapshots/00001/files/derivatives:fmriprep:sub-pixar103:sub-pixar103_task-pixar_run-001_swrf_bold.nii.gz ...\n"
     ]
    },
    {
     "name": "stderr",
     "output_type": "stream",
     "text": [
      "Downloaded 86131406 of ? bytes. ...done. (27 seconds, 0 min)\n"
     ]
    },
    {
     "name": "stdout",
     "output_type": "stream",
     "text": [
      "Downloading data from https://openneuro.org/crn/datasets/ds000228/snapshots/00001/files/derivatives:fmriprep:sub-pixar104:sub-pixar104_task-pixar_run-001_swrf_bold.nii.gz ...\n"
     ]
    },
    {
     "name": "stderr",
     "output_type": "stream",
     "text": [
      "Downloaded 77087830 of ? bytes. ...done. (21 seconds, 0 min)\n"
     ]
    },
    {
     "name": "stdout",
     "output_type": "stream",
     "text": [
      "Downloading data from https://openneuro.org/crn/datasets/ds000228/snapshots/00001/files/derivatives:fmriprep:sub-pixar105:sub-pixar105_task-pixar_run-001_swrf_bold.nii.gz ...\n"
     ]
    },
    {
     "name": "stderr",
     "output_type": "stream",
     "text": [
      "Downloaded 70870001 of ? bytes. ...done. (19 seconds, 0 min)\n"
     ]
    },
    {
     "name": "stdout",
     "output_type": "stream",
     "text": [
      "Downloading data from https://openneuro.org/crn/datasets/ds000228/snapshots/00001/files/derivatives:fmriprep:sub-pixar106:sub-pixar106_task-pixar_run-001_swrf_bold.nii.gz ...\n"
     ]
    },
    {
     "name": "stderr",
     "output_type": "stream",
     "text": [
      "Downloaded 74148049 of ? bytes. ...done. (25 seconds, 0 min)\n"
     ]
    },
    {
     "name": "stdout",
     "output_type": "stream",
     "text": [
      "Downloading data from https://openneuro.org/crn/datasets/ds000228/snapshots/00001/files/derivatives:fmriprep:sub-pixar107:sub-pixar107_task-pixar_run-001_swrf_bold.nii.gz ...\n"
     ]
    },
    {
     "name": "stderr",
     "output_type": "stream",
     "text": [
      "Downloaded 83043886 of ? bytes. ...done. (26 seconds, 0 min)\n"
     ]
    },
    {
     "name": "stdout",
     "output_type": "stream",
     "text": [
      "Downloading data from https://openneuro.org/crn/datasets/ds000228/snapshots/00001/files/derivatives:fmriprep:sub-pixar108:sub-pixar108_task-pixar_run-001_swrf_bold.nii.gz ...\n"
     ]
    },
    {
     "name": "stderr",
     "output_type": "stream",
     "text": [
      "Downloaded 87466224 of ? bytes. ...done. (24 seconds, 0 min)\n"
     ]
    },
    {
     "name": "stdout",
     "output_type": "stream",
     "text": [
      "Downloading data from https://openneuro.org/crn/datasets/ds000228/snapshots/00001/files/derivatives:fmriprep:sub-pixar109:sub-pixar109_task-pixar_run-001_swrf_bold.nii.gz ...\n"
     ]
    },
    {
     "name": "stderr",
     "output_type": "stream",
     "text": [
      "Downloaded 85424314 of ? bytes. ...done. (24 seconds, 0 min)\n"
     ]
    },
    {
     "name": "stdout",
     "output_type": "stream",
     "text": [
      "Downloading data from https://openneuro.org/crn/datasets/ds000228/snapshots/00001/files/derivatives:fmriprep:sub-pixar110:sub-pixar110_task-pixar_run-001_swrf_bold.nii.gz ...\n"
     ]
    },
    {
     "name": "stderr",
     "output_type": "stream",
     "text": [
      "Downloaded 84231819 of ? bytes. ...done. (22 seconds, 0 min)\n"
     ]
    },
    {
     "name": "stdout",
     "output_type": "stream",
     "text": [
      "Downloading data from https://openneuro.org/crn/datasets/ds000228/snapshots/00001/files/derivatives:fmriprep:sub-pixar111:sub-pixar111_task-pixar_run-001_swrf_bold.nii.gz ...\n"
     ]
    },
    {
     "name": "stderr",
     "output_type": "stream",
     "text": [
      "Downloaded 89805403 of ? bytes. ...done. (25 seconds, 0 min)\n"
     ]
    },
    {
     "name": "stdout",
     "output_type": "stream",
     "text": [
      "Downloading data from https://openneuro.org/crn/datasets/ds000228/snapshots/00001/files/derivatives:fmriprep:sub-pixar112:sub-pixar112_task-pixar_run-001_swrf_bold.nii.gz ...\n"
     ]
    },
    {
     "name": "stderr",
     "output_type": "stream",
     "text": [
      "Downloaded 82874340 of ? bytes. ...done. (24 seconds, 0 min)\n"
     ]
    },
    {
     "name": "stdout",
     "output_type": "stream",
     "text": [
      "Downloading data from https://openneuro.org/crn/datasets/ds000228/snapshots/00001/files/derivatives:fmriprep:sub-pixar113:sub-pixar113_task-pixar_run-001_swrf_bold.nii.gz ...\n"
     ]
    },
    {
     "name": "stderr",
     "output_type": "stream",
     "text": [
      "Downloaded 80169100 of ? bytes. ...done. (23 seconds, 0 min)\n"
     ]
    },
    {
     "name": "stdout",
     "output_type": "stream",
     "text": [
      "Downloading data from https://openneuro.org/crn/datasets/ds000228/snapshots/00001/files/derivatives:fmriprep:sub-pixar114:sub-pixar114_task-pixar_run-001_swrf_bold.nii.gz ...\n"
     ]
    },
    {
     "name": "stderr",
     "output_type": "stream",
     "text": [
      "Downloaded 86581540 of ? bytes. ...done. (23 seconds, 0 min)\n"
     ]
    },
    {
     "name": "stdout",
     "output_type": "stream",
     "text": [
      "Downloading data from https://openneuro.org/crn/datasets/ds000228/snapshots/00001/files/derivatives:fmriprep:sub-pixar115:sub-pixar115_task-pixar_run-001_swrf_bold.nii.gz ...\n"
     ]
    },
    {
     "name": "stderr",
     "output_type": "stream",
     "text": [
      "Downloaded 91609949 of ? bytes. ...done. (26 seconds, 0 min)\n"
     ]
    },
    {
     "name": "stdout",
     "output_type": "stream",
     "text": [
      "Downloading data from https://openneuro.org/crn/datasets/ds000228/snapshots/00001/files/derivatives:fmriprep:sub-pixar116:sub-pixar116_task-pixar_run-001_swrf_bold.nii.gz ...\n"
     ]
    },
    {
     "name": "stderr",
     "output_type": "stream",
     "text": [
      "Downloaded 73988221 of ? bytes. ...done. (19 seconds, 0 min)\n"
     ]
    },
    {
     "name": "stdout",
     "output_type": "stream",
     "text": [
      "Downloading data from https://openneuro.org/crn/datasets/ds000228/snapshots/00001/files/derivatives:fmriprep:sub-pixar117:sub-pixar117_task-pixar_run-001_swrf_bold.nii.gz ...\n"
     ]
    },
    {
     "name": "stderr",
     "output_type": "stream",
     "text": [
      "Downloaded 81548693 of ? bytes. ...done. (22 seconds, 0 min)\n"
     ]
    },
    {
     "name": "stdout",
     "output_type": "stream",
     "text": [
      "Downloading data from https://openneuro.org/crn/datasets/ds000228/snapshots/00001/files/derivatives:fmriprep:sub-pixar118:sub-pixar118_task-pixar_run-001_swrf_bold.nii.gz ...\n"
     ]
    },
    {
     "name": "stderr",
     "output_type": "stream",
     "text": [
      "Downloaded 83892218 of ? bytes. ...done. (24 seconds, 0 min)\n"
     ]
    },
    {
     "name": "stdout",
     "output_type": "stream",
     "text": [
      "Downloading data from https://openneuro.org/crn/datasets/ds000228/snapshots/00001/files/derivatives:fmriprep:sub-pixar119:sub-pixar119_task-pixar_run-001_swrf_bold.nii.gz ...\n"
     ]
    },
    {
     "name": "stderr",
     "output_type": "stream",
     "text": [
      "Downloaded 88087809 of ? bytes. ...done. (24 seconds, 0 min)\n"
     ]
    },
    {
     "name": "stdout",
     "output_type": "stream",
     "text": [
      "Downloading data from https://openneuro.org/crn/datasets/ds000228/snapshots/00001/files/derivatives:fmriprep:sub-pixar120:sub-pixar120_task-pixar_run-001_swrf_bold.nii.gz ...\n"
     ]
    },
    {
     "name": "stderr",
     "output_type": "stream",
     "text": [
      "Downloaded 91180937 of ? bytes. ...done. (24 seconds, 0 min)\n"
     ]
    },
    {
     "name": "stdout",
     "output_type": "stream",
     "text": [
      "Downloading data from https://openneuro.org/crn/datasets/ds000228/snapshots/00001/files/derivatives:fmriprep:sub-pixar121:sub-pixar121_task-pixar_run-001_swrf_bold.nii.gz ...\n"
     ]
    },
    {
     "name": "stderr",
     "output_type": "stream",
     "text": [
      "Downloaded 75037019 of ? bytes. ...done. (20 seconds, 0 min)\n"
     ]
    },
    {
     "name": "stdout",
     "output_type": "stream",
     "text": [
      "Downloading data from https://openneuro.org/crn/datasets/ds000228/snapshots/00001/files/derivatives:fmriprep:sub-pixar122:sub-pixar122_task-pixar_run-001_swrf_bold.nii.gz ...\n"
     ]
    },
    {
     "name": "stderr",
     "output_type": "stream",
     "text": [
      "Downloaded 89523203 of ? bytes. ...done. (24 seconds, 0 min)\n"
     ]
    },
    {
     "name": "stdout",
     "output_type": "stream",
     "text": [
      "Downloading data from https://openneuro.org/crn/datasets/ds000228/snapshots/00001/files/derivatives:fmriprep:sub-pixar123:sub-pixar123_task-pixar_run-001_swrf_bold.nii.gz ...\n"
     ]
    },
    {
     "name": "stderr",
     "output_type": "stream",
     "text": [
      "Downloaded 84199221 of ? bytes. ...done. (24 seconds, 0 min)\n"
     ]
    },
    {
     "name": "stdout",
     "output_type": "stream",
     "text": [
      "Downloading data from https://openneuro.org/crn/datasets/ds000228/snapshots/00001/files/derivatives:fmriprep:sub-pixar124:sub-pixar124_task-pixar_run-001_swrf_bold.nii.gz ...\n"
     ]
    },
    {
     "name": "stderr",
     "output_type": "stream",
     "text": [
      "Downloaded 87860232 of ? bytes. ...done. (24 seconds, 0 min)\n"
     ]
    },
    {
     "name": "stdout",
     "output_type": "stream",
     "text": [
      "Downloading data from https://openneuro.org/crn/datasets/ds000228/snapshots/00001/files/derivatives:fmriprep:sub-pixar125:sub-pixar125_task-pixar_run-001_swrf_bold.nii.gz ...\n"
     ]
    },
    {
     "name": "stderr",
     "output_type": "stream",
     "text": [
      "Downloaded 90945578 of ? bytes. ...done. (26 seconds, 0 min)\n"
     ]
    },
    {
     "name": "stdout",
     "output_type": "stream",
     "text": [
      "Downloading data from https://openneuro.org/crn/datasets/ds000228/snapshots/00001/files/derivatives:fmriprep:sub-pixar126:sub-pixar126_task-pixar_run-001_swrf_bold.nii.gz ...\n"
     ]
    },
    {
     "name": "stderr",
     "output_type": "stream",
     "text": [
      "Downloaded 91199050 of ? bytes. ...done. (31 seconds, 0 min)\n"
     ]
    },
    {
     "name": "stdout",
     "output_type": "stream",
     "text": [
      "Downloading data from https://openneuro.org/crn/datasets/ds000228/snapshots/00001/files/derivatives:fmriprep:sub-pixar127:sub-pixar127_task-pixar_run-001_swrf_bold.nii.gz ...\n"
     ]
    },
    {
     "name": "stderr",
     "output_type": "stream",
     "text": [
      "Downloaded 88870664 of ? bytes. ...done. (27 seconds, 0 min)\n"
     ]
    },
    {
     "name": "stdout",
     "output_type": "stream",
     "text": [
      "Downloading data from https://openneuro.org/crn/datasets/ds000228/snapshots/00001/files/derivatives:fmriprep:sub-pixar128:sub-pixar128_task-pixar_run-001_swrf_bold.nii.gz ...\n"
     ]
    },
    {
     "name": "stderr",
     "output_type": "stream",
     "text": [
      "Downloaded 93712454 of ? bytes. ...done. (28 seconds, 0 min)\n"
     ]
    },
    {
     "name": "stdout",
     "output_type": "stream",
     "text": [
      "Downloading data from https://openneuro.org/crn/datasets/ds000228/snapshots/00001/files/derivatives:fmriprep:sub-pixar129:sub-pixar129_task-pixar_run-001_swrf_bold.nii.gz ...\n"
     ]
    },
    {
     "name": "stderr",
     "output_type": "stream",
     "text": [
      "Downloaded 90357096 of ? bytes. ...done. (26 seconds, 0 min)\n"
     ]
    },
    {
     "name": "stdout",
     "output_type": "stream",
     "text": [
      "Downloading data from https://openneuro.org/crn/datasets/ds000228/snapshots/00001/files/derivatives:fmriprep:sub-pixar130:sub-pixar130_task-pixar_run-001_swrf_bold.nii.gz ...\n"
     ]
    },
    {
     "name": "stderr",
     "output_type": "stream",
     "text": [
      "Downloaded 88000695 of ? bytes. ...done. (24 seconds, 0 min)\n"
     ]
    },
    {
     "name": "stdout",
     "output_type": "stream",
     "text": [
      "Downloading data from https://openneuro.org/crn/datasets/ds000228/snapshots/00001/files/derivatives:fmriprep:sub-pixar131:sub-pixar131_task-pixar_run-001_swrf_bold.nii.gz ...\n"
     ]
    },
    {
     "name": "stderr",
     "output_type": "stream",
     "text": [
      "Downloaded 91025844 of ? bytes. ...done. (25 seconds, 0 min)\n"
     ]
    },
    {
     "name": "stdout",
     "output_type": "stream",
     "text": [
      "Downloading data from https://openneuro.org/crn/datasets/ds000228/snapshots/00001/files/derivatives:fmriprep:sub-pixar132:sub-pixar132_task-pixar_run-001_swrf_bold.nii.gz ...\n"
     ]
    },
    {
     "name": "stderr",
     "output_type": "stream",
     "text": [
      "Downloaded 96314195 of ? bytes. ...done. (40 seconds, 0 min)\n"
     ]
    },
    {
     "name": "stdout",
     "output_type": "stream",
     "text": [
      "Downloading data from https://openneuro.org/crn/datasets/ds000228/snapshots/00001/files/derivatives:fmriprep:sub-pixar133:sub-pixar133_task-pixar_run-001_swrf_bold.nii.gz ...\n"
     ]
    },
    {
     "name": "stderr",
     "output_type": "stream",
     "text": [
      "Downloaded 90637387 of ? bytes. ...done. (34 seconds, 0 min)\n"
     ]
    },
    {
     "name": "stdout",
     "output_type": "stream",
     "text": [
      "Downloading data from https://openneuro.org/crn/datasets/ds000228/snapshots/00001/files/derivatives:fmriprep:sub-pixar134:sub-pixar134_task-pixar_run-001_swrf_bold.nii.gz ...\n"
     ]
    },
    {
     "name": "stderr",
     "output_type": "stream",
     "text": [
      "Downloaded 90837335 of ? bytes. ...done. (31 seconds, 0 min)\n"
     ]
    },
    {
     "name": "stdout",
     "output_type": "stream",
     "text": [
      "Downloading data from https://openneuro.org/crn/datasets/ds000228/snapshots/00001/files/derivatives:fmriprep:sub-pixar135:sub-pixar135_task-pixar_run-001_swrf_bold.nii.gz ...\n"
     ]
    },
    {
     "name": "stderr",
     "output_type": "stream",
     "text": [
      "Downloaded 91494348 of ? bytes. ...done. (40 seconds, 0 min)\n"
     ]
    },
    {
     "name": "stdout",
     "output_type": "stream",
     "text": [
      "Downloading data from https://openneuro.org/crn/datasets/ds000228/snapshots/00001/files/derivatives:fmriprep:sub-pixar136:sub-pixar136_task-pixar_run-001_swrf_bold.nii.gz ...\n"
     ]
    },
    {
     "name": "stderr",
     "output_type": "stream",
     "text": [
      "Downloaded 88479512 of ? bytes. ...done. (31 seconds, 0 min)\n"
     ]
    },
    {
     "name": "stdout",
     "output_type": "stream",
     "text": [
      "Downloading data from https://openneuro.org/crn/datasets/ds000228/snapshots/00001/files/derivatives:fmriprep:sub-pixar137:sub-pixar137_task-pixar_run-001_swrf_bold.nii.gz ...\n"
     ]
    },
    {
     "name": "stderr",
     "output_type": "stream",
     "text": [
      "Downloaded 90219114 of ? bytes. ...done. (28 seconds, 0 min)\n"
     ]
    },
    {
     "name": "stdout",
     "output_type": "stream",
     "text": [
      "Downloading data from https://openneuro.org/crn/datasets/ds000228/snapshots/00001/files/derivatives:fmriprep:sub-pixar138:sub-pixar138_task-pixar_run-001_swrf_bold.nii.gz ...\n"
     ]
    },
    {
     "name": "stderr",
     "output_type": "stream",
     "text": [
      "Downloaded 92703958 of ? bytes. ...done. (29 seconds, 0 min)\n"
     ]
    },
    {
     "name": "stdout",
     "output_type": "stream",
     "text": [
      "Downloading data from https://openneuro.org/crn/datasets/ds000228/snapshots/00001/files/derivatives:fmriprep:sub-pixar139:sub-pixar139_task-pixar_run-001_swrf_bold.nii.gz ...\n"
     ]
    },
    {
     "name": "stderr",
     "output_type": "stream",
     "text": [
      "Downloaded 91500886 of ? bytes. ...done. (29 seconds, 0 min)\n"
     ]
    },
    {
     "name": "stdout",
     "output_type": "stream",
     "text": [
      "Downloading data from https://openneuro.org/crn/datasets/ds000228/snapshots/00001/files/derivatives:fmriprep:sub-pixar140:sub-pixar140_task-pixar_run-001_swrf_bold.nii.gz ...\n"
     ]
    },
    {
     "name": "stderr",
     "output_type": "stream",
     "text": [
      "Downloaded 91188054 of ? bytes. ...done. (29 seconds, 0 min)\n"
     ]
    },
    {
     "name": "stdout",
     "output_type": "stream",
     "text": [
      "Downloading data from https://openneuro.org/crn/datasets/ds000228/snapshots/00001/files/derivatives:fmriprep:sub-pixar141:sub-pixar141_task-pixar_run-001_swrf_bold.nii.gz ...\n"
     ]
    },
    {
     "name": "stderr",
     "output_type": "stream",
     "text": [
      "Downloaded 90552671 of ? bytes. ...done. (27 seconds, 0 min)\n"
     ]
    },
    {
     "name": "stdout",
     "output_type": "stream",
     "text": [
      "Downloading data from https://openneuro.org/crn/datasets/ds000228/snapshots/00001/files/derivatives:fmriprep:sub-pixar142:sub-pixar142_task-pixar_run-001_swrf_bold.nii.gz ...\n"
     ]
    },
    {
     "name": "stderr",
     "output_type": "stream",
     "text": [
      "Downloaded 93357791 of ? bytes. ...done. (25 seconds, 0 min)\n"
     ]
    },
    {
     "name": "stdout",
     "output_type": "stream",
     "text": [
      "Downloading data from https://openneuro.org/crn/datasets/ds000228/snapshots/00001/files/derivatives:fmriprep:sub-pixar143:sub-pixar143_task-pixar_run-001_swrf_bold.nii.gz ...\n"
     ]
    },
    {
     "name": "stderr",
     "output_type": "stream",
     "text": [
      "Downloaded 95390552 of ? bytes. ...done. (25 seconds, 0 min)\n"
     ]
    },
    {
     "name": "stdout",
     "output_type": "stream",
     "text": [
      "Downloading data from https://openneuro.org/crn/datasets/ds000228/snapshots/00001/files/derivatives:fmriprep:sub-pixar144:sub-pixar144_task-pixar_run-001_swrf_bold.nii.gz ...\n"
     ]
    },
    {
     "name": "stderr",
     "output_type": "stream",
     "text": [
      "Downloaded 99956178 of ? bytes. ...done. (29 seconds, 0 min)\n"
     ]
    },
    {
     "name": "stdout",
     "output_type": "stream",
     "text": [
      "Downloading data from https://openneuro.org/crn/datasets/ds000228/snapshots/00001/files/derivatives:fmriprep:sub-pixar145:sub-pixar145_task-pixar_run-001_swrf_bold.nii.gz ...\n"
     ]
    },
    {
     "name": "stderr",
     "output_type": "stream",
     "text": [
      "Downloaded 98556604 of ? bytes. ...done. (27 seconds, 0 min)\n"
     ]
    },
    {
     "name": "stdout",
     "output_type": "stream",
     "text": [
      "Downloading data from https://openneuro.org/crn/datasets/ds000228/snapshots/00001/files/derivatives:fmriprep:sub-pixar146:sub-pixar146_task-pixar_run-001_swrf_bold.nii.gz ...\n"
     ]
    },
    {
     "name": "stderr",
     "output_type": "stream",
     "text": [
      "Downloaded 98927223 of ? bytes. ...done. (27 seconds, 0 min)\n"
     ]
    },
    {
     "name": "stdout",
     "output_type": "stream",
     "text": [
      "Downloading data from https://openneuro.org/crn/datasets/ds000228/snapshots/00001/files/derivatives:fmriprep:sub-pixar147:sub-pixar147_task-pixar_run-001_swrf_bold.nii.gz ...\n"
     ]
    },
    {
     "name": "stderr",
     "output_type": "stream",
     "text": [
      "Downloaded 94481772 of ? bytes. ...done. (25 seconds, 0 min)\n"
     ]
    },
    {
     "name": "stdout",
     "output_type": "stream",
     "text": [
      "Downloading data from https://openneuro.org/crn/datasets/ds000228/snapshots/00001/files/derivatives:fmriprep:sub-pixar148:sub-pixar148_task-pixar_run-001_swrf_bold.nii.gz ...\n"
     ]
    },
    {
     "name": "stderr",
     "output_type": "stream",
     "text": [
      "Downloaded 95943389 of ? bytes. ...done. (26 seconds, 0 min)\n"
     ]
    },
    {
     "name": "stdout",
     "output_type": "stream",
     "text": [
      "Downloading data from https://openneuro.org/crn/datasets/ds000228/snapshots/00001/files/derivatives:fmriprep:sub-pixar149:sub-pixar149_task-pixar_run-001_swrf_bold.nii.gz ...\n"
     ]
    },
    {
     "name": "stderr",
     "output_type": "stream",
     "text": [
      "Downloaded 93038815 of ? bytes. ...done. (25 seconds, 0 min)\n"
     ]
    },
    {
     "name": "stdout",
     "output_type": "stream",
     "text": [
      "Downloading data from https://openneuro.org/crn/datasets/ds000228/snapshots/00001/files/derivatives:fmriprep:sub-pixar150:sub-pixar150_task-pixar_run-001_swrf_bold.nii.gz ...\n"
     ]
    },
    {
     "name": "stderr",
     "output_type": "stream",
     "text": [
      "Downloaded 90331033 of ? bytes. ...done. (25 seconds, 0 min)\n"
     ]
    },
    {
     "name": "stdout",
     "output_type": "stream",
     "text": [
      "Downloading data from https://openneuro.org/crn/datasets/ds000228/snapshots/00001/files/derivatives:fmriprep:sub-pixar151:sub-pixar151_task-pixar_run-001_swrf_bold.nii.gz ...\n"
     ]
    },
    {
     "name": "stderr",
     "output_type": "stream",
     "text": [
      "Downloaded 94218279 of ? bytes. ...done. (26 seconds, 0 min)\n"
     ]
    },
    {
     "name": "stdout",
     "output_type": "stream",
     "text": [
      "Downloading data from https://openneuro.org/crn/datasets/ds000228/snapshots/00001/files/derivatives:fmriprep:sub-pixar152:sub-pixar152_task-pixar_run-001_swrf_bold.nii.gz ...\n"
     ]
    },
    {
     "name": "stderr",
     "output_type": "stream",
     "text": [
      "Downloaded 98664876 of ? bytes. ...done. (31 seconds, 0 min)\n"
     ]
    },
    {
     "name": "stdout",
     "output_type": "stream",
     "text": [
      "Downloading data from https://openneuro.org/crn/datasets/ds000228/snapshots/00001/files/derivatives:fmriprep:sub-pixar153:sub-pixar153_task-pixar_run-001_swrf_bold.nii.gz ...\n"
     ]
    },
    {
     "name": "stderr",
     "output_type": "stream",
     "text": [
      "Downloaded 96897527 of ? bytes. ...done. (33 seconds, 0 min)\n"
     ]
    },
    {
     "name": "stdout",
     "output_type": "stream",
     "text": [
      "Downloading data from https://openneuro.org/crn/datasets/ds000228/snapshots/00001/files/derivatives:fmriprep:sub-pixar154:sub-pixar154_task-pixar_run-001_swrf_bold.nii.gz ...\n"
     ]
    },
    {
     "name": "stderr",
     "output_type": "stream",
     "text": [
      "Downloaded 89639691 of ? bytes. ...done. (39 seconds, 0 min)\n"
     ]
    },
    {
     "name": "stdout",
     "output_type": "stream",
     "text": [
      "Downloading data from https://openneuro.org/crn/datasets/ds000228/snapshots/00001/files/derivatives:fmriprep:sub-pixar155:sub-pixar155_task-pixar_run-001_swrf_bold.nii.gz ...\n"
     ]
    },
    {
     "name": "stderr",
     "output_type": "stream",
     "text": [
      "Downloaded 91574379 of ? bytes. ...done. (34 seconds, 0 min)\n"
     ]
    },
    {
     "name": "stdout",
     "output_type": "stream",
     "text": [
      "Downloading data from https://openneuro.org/crn/datasets/ds000228/snapshots/00001/files/derivatives:fmriprep:sub-pixar031:sub-pixar031_task-pixar_run-001_ART_and_CompCor_nuisance_regressors.mat ...\n",
      "Downloading data from https://openneuro.org/crn/datasets/ds000228/snapshots/00001/files/derivatives:fmriprep:sub-pixar032:sub-pixar032_task-pixar_run-001_ART_and_CompCor_nuisance_regressors.mat ...\n"
     ]
    },
    {
     "name": "stderr",
     "output_type": "stream",
     "text": [
      "\r",
      "Downloaded 7800 of ? bytes. ...done. (0 seconds, 0 min)\n",
      "\r",
      "Downloaded 11320 of ? bytes. ...done. (0 seconds, 0 min)\n"
     ]
    },
    {
     "name": "stdout",
     "output_type": "stream",
     "text": [
      "Downloading data from https://openneuro.org/crn/datasets/ds000228/snapshots/00001/files/derivatives:fmriprep:sub-pixar033:sub-pixar033_task-pixar_run-001_ART_and_CompCor_nuisance_regressors.mat ...\n",
      "Downloading data from https://openneuro.org/crn/datasets/ds000228/snapshots/00001/files/derivatives:fmriprep:sub-pixar034:sub-pixar034_task-pixar_run-001_ART_and_CompCor_nuisance_regressors.mat ...\n"
     ]
    },
    {
     "name": "stderr",
     "output_type": "stream",
     "text": [
      "\r",
      "Downloaded 5944 of ? bytes. ...done. (0 seconds, 0 min)\n",
      "\r",
      "Downloaded 7958 of ? bytes. ...done. (0 seconds, 0 min)\n"
     ]
    },
    {
     "name": "stdout",
     "output_type": "stream",
     "text": [
      "Downloading data from https://openneuro.org/crn/datasets/ds000228/snapshots/00001/files/derivatives:fmriprep:sub-pixar035:sub-pixar035_task-pixar_run-001_ART_and_CompCor_nuisance_regressors.mat ...\n",
      "Downloading data from https://openneuro.org/crn/datasets/ds000228/snapshots/00001/files/derivatives:fmriprep:sub-pixar036:sub-pixar036_task-pixar_run-001_ART_and_CompCor_nuisance_regressors.mat ...\n"
     ]
    },
    {
     "name": "stderr",
     "output_type": "stream",
     "text": [
      "\r",
      "Downloaded 7994 of ? bytes. ...done. (0 seconds, 0 min)\n",
      "\r",
      "Downloaded 7929 of ? bytes. ...done. (0 seconds, 0 min)\n"
     ]
    },
    {
     "name": "stdout",
     "output_type": "stream",
     "text": [
      "Downloading data from https://openneuro.org/crn/datasets/ds000228/snapshots/00001/files/derivatives:fmriprep:sub-pixar037:sub-pixar037_task-pixar_run-001_ART_and_CompCor_nuisance_regressors.mat ...\n",
      "Downloading data from https://openneuro.org/crn/datasets/ds000228/snapshots/00001/files/derivatives:fmriprep:sub-pixar038:sub-pixar038_task-pixar_run-001_ART_and_CompCor_nuisance_regressors.mat ...\n"
     ]
    },
    {
     "name": "stderr",
     "output_type": "stream",
     "text": [
      "Downloaded 7932 of ? bytes. ...done. (0 seconds, 0 min)\n",
      "Downloaded 9304 of ? bytes. ...done. (0 seconds, 0 min)\n",
      "Downloaded 7913 of ? bytes. ...done. (0 seconds, 0 min)\n"
     ]
    },
    {
     "name": "stdout",
     "output_type": "stream",
     "text": [
      "Downloading data from https://openneuro.org/crn/datasets/ds000228/snapshots/00001/files/derivatives:fmriprep:sub-pixar039:sub-pixar039_task-pixar_run-001_ART_and_CompCor_nuisance_regressors.mat ...\n",
      "Downloading data from https://openneuro.org/crn/datasets/ds000228/snapshots/00001/files/derivatives:fmriprep:sub-pixar040:sub-pixar040_task-pixar_run-001_ART_and_CompCor_nuisance_regressors.mat ...\n"
     ]
    },
    {
     "name": "stderr",
     "output_type": "stream",
     "text": [
      "\r",
      "Downloaded 8140 of ? bytes. ...done. (0 seconds, 0 min)\n",
      "\r",
      "Downloaded 7960 of ? bytes. ...done. (0 seconds, 0 min)\n"
     ]
    },
    {
     "name": "stdout",
     "output_type": "stream",
     "text": [
      "Downloading data from https://openneuro.org/crn/datasets/ds000228/snapshots/00001/files/derivatives:fmriprep:sub-pixar041:sub-pixar041_task-pixar_run-001_ART_and_CompCor_nuisance_regressors.mat ...\n",
      "Downloading data from https://openneuro.org/crn/datasets/ds000228/snapshots/00001/files/derivatives:fmriprep:sub-pixar042:sub-pixar042_task-pixar_run-001_ART_and_CompCor_nuisance_regressors.mat ...\n"
     ]
    },
    {
     "name": "stderr",
     "output_type": "stream",
     "text": [
      "\r",
      "Downloaded 11320 of ? bytes. ...done. (0 seconds, 0 min)\n"
     ]
    },
    {
     "name": "stdout",
     "output_type": "stream",
     "text": [
      "Downloading data from https://openneuro.org/crn/datasets/ds000228/snapshots/00001/files/derivatives:fmriprep:sub-pixar043:sub-pixar043_task-pixar_run-001_ART_and_CompCor_nuisance_regressors.mat ...\n"
     ]
    },
    {
     "name": "stderr",
     "output_type": "stream",
     "text": [
      "\r",
      "Downloaded 5272 of ? bytes. ...done. (0 seconds, 0 min)\n",
      "\r",
      "Downloaded 11320 of ? bytes. ...done. (0 seconds, 0 min)\n"
     ]
    },
    {
     "name": "stdout",
     "output_type": "stream",
     "text": [
      "Downloading data from https://openneuro.org/crn/datasets/ds000228/snapshots/00001/files/derivatives:fmriprep:sub-pixar044:sub-pixar044_task-pixar_run-001_ART_and_CompCor_nuisance_regressors.mat ...\n",
      "Downloading data from https://openneuro.org/crn/datasets/ds000228/snapshots/00001/files/derivatives:fmriprep:sub-pixar045:sub-pixar045_task-pixar_run-001_ART_and_CompCor_nuisance_regressors.mat ...\n"
     ]
    },
    {
     "name": "stderr",
     "output_type": "stream",
     "text": [
      "\r",
      "Downloaded 8632 of ? bytes. ...done. (0 seconds, 0 min)\n",
      "\r",
      "Downloaded 7978 of ? bytes. ...done. (0 seconds, 0 min)\n"
     ]
    },
    {
     "name": "stdout",
     "output_type": "stream",
     "text": [
      "Downloading data from https://openneuro.org/crn/datasets/ds000228/snapshots/00001/files/derivatives:fmriprep:sub-pixar046:sub-pixar046_task-pixar_run-001_ART_and_CompCor_nuisance_regressors.mat ...\n",
      "Downloading data from https://openneuro.org/crn/datasets/ds000228/snapshots/00001/files/derivatives:fmriprep:sub-pixar047:sub-pixar047_task-pixar_run-001_ART_and_CompCor_nuisance_regressors.mat ...\n"
     ]
    },
    {
     "name": "stderr",
     "output_type": "stream",
     "text": [
      "\r",
      "Downloaded 11320 of ? bytes. ...done. (0 seconds, 0 min)\n"
     ]
    },
    {
     "name": "stdout",
     "output_type": "stream",
     "text": [
      "Downloading data from https://openneuro.org/crn/datasets/ds000228/snapshots/00001/files/derivatives:fmriprep:sub-pixar048:sub-pixar048_task-pixar_run-001_ART_and_CompCor_nuisance_regressors.mat ...\n"
     ]
    },
    {
     "name": "stderr",
     "output_type": "stream",
     "text": [
      "\r",
      "Downloaded 7841 of ? bytes. ...done. (0 seconds, 0 min)\n",
      "\r",
      "Downloaded 5272 of ? bytes. ...done. (0 seconds, 0 min)\n"
     ]
    },
    {
     "name": "stdout",
     "output_type": "stream",
     "text": [
      "Downloading data from https://openneuro.org/crn/datasets/ds000228/snapshots/00001/files/derivatives:fmriprep:sub-pixar049:sub-pixar049_task-pixar_run-001_ART_and_CompCor_nuisance_regressors.mat ...\n",
      "Downloading data from https://openneuro.org/crn/datasets/ds000228/snapshots/00001/files/derivatives:fmriprep:sub-pixar050:sub-pixar050_task-pixar_run-001_ART_and_CompCor_nuisance_regressors.mat ...\n"
     ]
    },
    {
     "name": "stderr",
     "output_type": "stream",
     "text": [
      "\r",
      "Downloaded 8632 of ? bytes. ...done. (0 seconds, 0 min)\n",
      "\r",
      "Downloaded 7815 of ? bytes. ...done. (0 seconds, 0 min)\n"
     ]
    },
    {
     "name": "stdout",
     "output_type": "stream",
     "text": [
      "Downloading data from https://openneuro.org/crn/datasets/ds000228/snapshots/00001/files/derivatives:fmriprep:sub-pixar051:sub-pixar051_task-pixar_run-001_ART_and_CompCor_nuisance_regressors.mat ...\n",
      "Downloading data from https://openneuro.org/crn/datasets/ds000228/snapshots/00001/files/derivatives:fmriprep:sub-pixar052:sub-pixar052_task-pixar_run-001_ART_and_CompCor_nuisance_regressors.mat ...\n"
     ]
    },
    {
     "name": "stderr",
     "output_type": "stream",
     "text": [
      "\r",
      "Downloaded 8632 of ? bytes. ...done. (0 seconds, 0 min)\n",
      "\r",
      "Downloaded 9304 of ? bytes. ...done. (0 seconds, 0 min)\n"
     ]
    },
    {
     "name": "stdout",
     "output_type": "stream",
     "text": [
      "Downloading data from https://openneuro.org/crn/datasets/ds000228/snapshots/00001/files/derivatives:fmriprep:sub-pixar053:sub-pixar053_task-pixar_run-001_ART_and_CompCor_nuisance_regressors.mat ...\n",
      "Downloading data from https://openneuro.org/crn/datasets/ds000228/snapshots/00001/files/derivatives:fmriprep:sub-pixar054:sub-pixar054_task-pixar_run-001_ART_and_CompCor_nuisance_regressors.mat ...\n"
     ]
    },
    {
     "name": "stderr",
     "output_type": "stream",
     "text": [
      "\r",
      "Downloaded 7288 of ? bytes. ...done. (0 seconds, 0 min)\n",
      "\r",
      "Downloaded 9976 of ? bytes. ...done. (0 seconds, 0 min)\n"
     ]
    },
    {
     "name": "stdout",
     "output_type": "stream",
     "text": [
      "Downloading data from https://openneuro.org/crn/datasets/ds000228/snapshots/00001/files/derivatives:fmriprep:sub-pixar055:sub-pixar055_task-pixar_run-001_ART_and_CompCor_nuisance_regressors.mat ...\n",
      "Downloading data from https://openneuro.org/crn/datasets/ds000228/snapshots/00001/files/derivatives:fmriprep:sub-pixar056:sub-pixar056_task-pixar_run-001_ART_and_CompCor_nuisance_regressors.mat ...\n"
     ]
    },
    {
     "name": "stderr",
     "output_type": "stream",
     "text": [
      "\r",
      "Downloaded 7960 of ? bytes. ...done. (0 seconds, 0 min)\n",
      "\r",
      "Downloaded 9304 of ? bytes. ...done. (0 seconds, 0 min)\n"
     ]
    },
    {
     "name": "stdout",
     "output_type": "stream",
     "text": [
      "Downloading data from https://openneuro.org/crn/datasets/ds000228/snapshots/00001/files/derivatives:fmriprep:sub-pixar057:sub-pixar057_task-pixar_run-001_ART_and_CompCor_nuisance_regressors.mat ...\n",
      "Downloading data from https://openneuro.org/crn/datasets/ds000228/snapshots/00001/files/derivatives:fmriprep:sub-pixar058:sub-pixar058_task-pixar_run-001_ART_and_CompCor_nuisance_regressors.mat ...\n"
     ]
    },
    {
     "name": "stderr",
     "output_type": "stream",
     "text": [
      "\r",
      "Downloaded 7960 of ? bytes. ...done. (0 seconds, 0 min)\n",
      "\r",
      "Downloaded 7878 of ? bytes. ...done. (0 seconds, 0 min)\n"
     ]
    },
    {
     "name": "stdout",
     "output_type": "stream",
     "text": [
      "Downloading data from https://openneuro.org/crn/datasets/ds000228/snapshots/00001/files/derivatives:fmriprep:sub-pixar059:sub-pixar059_task-pixar_run-001_ART_and_CompCor_nuisance_regressors.mat ...\n",
      "Downloading data from https://openneuro.org/crn/datasets/ds000228/snapshots/00001/files/derivatives:fmriprep:sub-pixar060:sub-pixar060_task-pixar_run-001_ART_and_CompCor_nuisance_regressors.mat ...\n"
     ]
    },
    {
     "name": "stderr",
     "output_type": "stream",
     "text": [
      "\r",
      "Downloaded 7809 of ? bytes. ...done. (0 seconds, 0 min)\n",
      "\r",
      "Downloaded 8135 of ? bytes. ...done. (0 seconds, 0 min)\n"
     ]
    },
    {
     "name": "stdout",
     "output_type": "stream",
     "text": [
      "Downloading data from https://openneuro.org/crn/datasets/ds000228/snapshots/00001/files/derivatives:fmriprep:sub-pixar061:sub-pixar061_task-pixar_run-001_ART_and_CompCor_nuisance_regressors.mat ...\n",
      "Downloading data from https://openneuro.org/crn/datasets/ds000228/snapshots/00001/files/derivatives:fmriprep:sub-pixar062:sub-pixar062_task-pixar_run-001_ART_and_CompCor_nuisance_regressors.mat ...\n"
     ]
    },
    {
     "name": "stderr",
     "output_type": "stream",
     "text": [
      "\r",
      "Downloaded 7799 of ? bytes. ...done. (0 seconds, 0 min)\n",
      "\r",
      "Downloaded 5272 of ? bytes. ...done. (0 seconds, 0 min)\n"
     ]
    },
    {
     "name": "stdout",
     "output_type": "stream",
     "text": [
      "Downloading data from https://openneuro.org/crn/datasets/ds000228/snapshots/00001/files/derivatives:fmriprep:sub-pixar063:sub-pixar063_task-pixar_run-001_ART_and_CompCor_nuisance_regressors.mat ...\n",
      "Downloading data from https://openneuro.org/crn/datasets/ds000228/snapshots/00001/files/derivatives:fmriprep:sub-pixar064:sub-pixar064_task-pixar_run-001_ART_and_CompCor_nuisance_regressors.mat ...\n"
     ]
    },
    {
     "name": "stderr",
     "output_type": "stream",
     "text": [
      "\r",
      "Downloaded 7879 of ? bytes. ...done. (0 seconds, 0 min)\n",
      "\r",
      "Downloaded 8632 of ? bytes. ...done. (0 seconds, 0 min)\n"
     ]
    },
    {
     "name": "stdout",
     "output_type": "stream",
     "text": [
      "Downloading data from https://openneuro.org/crn/datasets/ds000228/snapshots/00001/files/derivatives:fmriprep:sub-pixar065:sub-pixar065_task-pixar_run-001_ART_and_CompCor_nuisance_regressors.mat ...\n",
      "Downloading data from https://openneuro.org/crn/datasets/ds000228/snapshots/00001/files/derivatives:fmriprep:sub-pixar066:sub-pixar066_task-pixar_run-001_ART_and_CompCor_nuisance_regressors.mat ...\n"
     ]
    },
    {
     "name": "stderr",
     "output_type": "stream",
     "text": [
      "\r",
      "Downloaded 7960 of ? bytes. ...done. (0 seconds, 0 min)\n",
      "\r",
      "Downloaded 9976 of ? bytes. ...done. (0 seconds, 0 min)\n"
     ]
    },
    {
     "name": "stdout",
     "output_type": "stream",
     "text": [
      "Downloading data from https://openneuro.org/crn/datasets/ds000228/snapshots/00001/files/derivatives:fmriprep:sub-pixar067:sub-pixar067_task-pixar_run-001_ART_and_CompCor_nuisance_regressors.mat ...\n",
      "Downloading data from https://openneuro.org/crn/datasets/ds000228/snapshots/00001/files/derivatives:fmriprep:sub-pixar068:sub-pixar068_task-pixar_run-001_ART_and_CompCor_nuisance_regressors.mat ...\n"
     ]
    },
    {
     "name": "stderr",
     "output_type": "stream",
     "text": [
      "\r",
      "Downloaded 7851 of ? bytes. ...done. (0 seconds, 0 min)\n",
      "\r",
      "Downloaded 11320 of ? bytes. ...done. (0 seconds, 0 min)\n"
     ]
    },
    {
     "name": "stdout",
     "output_type": "stream",
     "text": [
      "Downloading data from https://openneuro.org/crn/datasets/ds000228/snapshots/00001/files/derivatives:fmriprep:sub-pixar069:sub-pixar069_task-pixar_run-001_ART_and_CompCor_nuisance_regressors.mat ...\n",
      "Downloading data from https://openneuro.org/crn/datasets/ds000228/snapshots/00001/files/derivatives:fmriprep:sub-pixar070:sub-pixar070_task-pixar_run-001_ART_and_CompCor_nuisance_regressors.mat ...\n"
     ]
    },
    {
     "name": "stderr",
     "output_type": "stream",
     "text": [
      "\r",
      "Downloaded 8632 of ? bytes. ...done. (0 seconds, 0 min)\n",
      "\r",
      "Downloaded 8632 of ? bytes. ...done. (0 seconds, 0 min)\n"
     ]
    },
    {
     "name": "stdout",
     "output_type": "stream",
     "text": [
      "Downloading data from https://openneuro.org/crn/datasets/ds000228/snapshots/00001/files/derivatives:fmriprep:sub-pixar071:sub-pixar071_task-pixar_run-001_ART_and_CompCor_nuisance_regressors.mat ...\n",
      "Downloading data from https://openneuro.org/crn/datasets/ds000228/snapshots/00001/files/derivatives:fmriprep:sub-pixar072:sub-pixar072_task-pixar_run-001_ART_and_CompCor_nuisance_regressors.mat ...\n"
     ]
    },
    {
     "name": "stderr",
     "output_type": "stream",
     "text": [
      "\r",
      "Downloaded 7799 of ? bytes. ...done. (0 seconds, 0 min)\n",
      "\r",
      "Downloaded 5944 of ? bytes. ...done. (0 seconds, 0 min)\n"
     ]
    },
    {
     "name": "stdout",
     "output_type": "stream",
     "text": [
      "Downloading data from https://openneuro.org/crn/datasets/ds000228/snapshots/00001/files/derivatives:fmriprep:sub-pixar073:sub-pixar073_task-pixar_run-001_ART_and_CompCor_nuisance_regressors.mat ...\n",
      "Downloading data from https://openneuro.org/crn/datasets/ds000228/snapshots/00001/files/derivatives:fmriprep:sub-pixar074:sub-pixar074_task-pixar_run-001_ART_and_CompCor_nuisance_regressors.mat ...\n"
     ]
    },
    {
     "name": "stderr",
     "output_type": "stream",
     "text": [
      "\r",
      "Downloaded 8632 of ? bytes. ...done. (0 seconds, 0 min)\n",
      "\r",
      "Downloaded 7996 of ? bytes. ...done. (0 seconds, 0 min)\n"
     ]
    },
    {
     "name": "stdout",
     "output_type": "stream",
     "text": [
      "Downloading data from https://openneuro.org/crn/datasets/ds000228/snapshots/00001/files/derivatives:fmriprep:sub-pixar075:sub-pixar075_task-pixar_run-001_ART_and_CompCor_nuisance_regressors.mat ...\n",
      "Downloading data from https://openneuro.org/crn/datasets/ds000228/snapshots/00001/files/derivatives:fmriprep:sub-pixar076:sub-pixar076_task-pixar_run-001_ART_and_CompCor_nuisance_regressors.mat ...\n"
     ]
    },
    {
     "name": "stderr",
     "output_type": "stream",
     "text": [
      "\r",
      "Downloaded 7800 of ? bytes. ...done. (0 seconds, 0 min)\n",
      "\r",
      "Downloaded 7960 of ? bytes."
     ]
    },
    {
     "name": "stdout",
     "output_type": "stream",
     "text": [
      "Downloading data from https://openneuro.org/crn/datasets/ds000228/snapshots/00001/files/derivatives:fmriprep:sub-pixar077:sub-pixar077_task-pixar_run-001_ART_and_CompCor_nuisance_regressors.mat ...\n",
      "Downloading data from https://openneuro.org/crn/datasets/ds000228/snapshots/00001/files/derivatives:fmriprep:sub-pixar078:sub-pixar078_task-pixar_run-001_ART_and_CompCor_nuisance_regressors.mat ...\n"
     ]
    },
    {
     "name": "stderr",
     "output_type": "stream",
     "text": [
      " ...done. (0 seconds, 0 min)\n",
      "\r",
      "Downloaded 8039 of ? bytes. ...done. (0 seconds, 0 min)\n"
     ]
    },
    {
     "name": "stdout",
     "output_type": "stream",
     "text": [
      "Downloading data from https://openneuro.org/crn/datasets/ds000228/snapshots/00001/files/derivatives:fmriprep:sub-pixar079:sub-pixar079_task-pixar_run-001_ART_and_CompCor_nuisance_regressors.mat ...\n",
      "Downloading data from https://openneuro.org/crn/datasets/ds000228/snapshots/00001/files/derivatives:fmriprep:sub-pixar080:sub-pixar080_task-pixar_run-001_ART_and_CompCor_nuisance_regressors.mat ...\n"
     ]
    },
    {
     "name": "stderr",
     "output_type": "stream",
     "text": [
      "Downloaded 5272 of ? bytes. ...done. (0 seconds, 0 min)\n",
      "Downloaded 7288 of ? bytes. ...done. (0 seconds, 0 min)\n"
     ]
    },
    {
     "name": "stdout",
     "output_type": "stream",
     "text": [
      "Downloading data from https://openneuro.org/crn/datasets/ds000228/snapshots/00001/files/derivatives:fmriprep:sub-pixar081:sub-pixar081_task-pixar_run-001_ART_and_CompCor_nuisance_regressors.mat ...\n"
     ]
    },
    {
     "name": "stderr",
     "output_type": "stream",
     "text": [
      "\r",
      "Downloaded 7938 of ? bytes. ...done. (0 seconds, 0 min)\n",
      "\r",
      "Downloaded 7288 of ? bytes. ...done. (0 seconds, 0 min)\n"
     ]
    },
    {
     "name": "stdout",
     "output_type": "stream",
     "text": [
      "Downloading data from https://openneuro.org/crn/datasets/ds000228/snapshots/00001/files/derivatives:fmriprep:sub-pixar082:sub-pixar082_task-pixar_run-001_ART_and_CompCor_nuisance_regressors.mat ...\n",
      "Downloading data from https://openneuro.org/crn/datasets/ds000228/snapshots/00001/files/derivatives:fmriprep:sub-pixar083:sub-pixar083_task-pixar_run-001_ART_and_CompCor_nuisance_regressors.mat ...\n"
     ]
    },
    {
     "name": "stderr",
     "output_type": "stream",
     "text": [
      "\r",
      "Downloaded 7854 of ? bytes. ...done. (0 seconds, 0 min)\n",
      "\r",
      "Downloaded 6616 of ? bytes. ...done. (0 seconds, 0 min)\n"
     ]
    },
    {
     "name": "stdout",
     "output_type": "stream",
     "text": [
      "Downloading data from https://openneuro.org/crn/datasets/ds000228/snapshots/00001/files/derivatives:fmriprep:sub-pixar084:sub-pixar084_task-pixar_run-001_ART_and_CompCor_nuisance_regressors.mat ...\n",
      "Downloading data from https://openneuro.org/crn/datasets/ds000228/snapshots/00001/files/derivatives:fmriprep:sub-pixar085:sub-pixar085_task-pixar_run-001_ART_and_CompCor_nuisance_regressors.mat ...\n"
     ]
    },
    {
     "name": "stderr",
     "output_type": "stream",
     "text": [
      "\r",
      "Downloaded 7822 of ? bytes. ...done. (0 seconds, 0 min)\n",
      "\r",
      "Downloaded 5272 of ? bytes. ...done. (0 seconds, 0 min)\n"
     ]
    },
    {
     "name": "stdout",
     "output_type": "stream",
     "text": [
      "Downloading data from https://openneuro.org/crn/datasets/ds000228/snapshots/00001/files/derivatives:fmriprep:sub-pixar086:sub-pixar086_task-pixar_run-001_ART_and_CompCor_nuisance_regressors.mat ...\n",
      "Downloading data from https://openneuro.org/crn/datasets/ds000228/snapshots/00001/files/derivatives:fmriprep:sub-pixar087:sub-pixar087_task-pixar_run-001_ART_and_CompCor_nuisance_regressors.mat ...\n"
     ]
    },
    {
     "name": "stderr",
     "output_type": "stream",
     "text": [
      "\r",
      "Downloaded 7288 of ? bytes. ...done. (0 seconds, 0 min)\n",
      "\r",
      "Downloaded 8632 of ? bytes. ...done. (0 seconds, 0 min)\n"
     ]
    },
    {
     "name": "stdout",
     "output_type": "stream",
     "text": [
      "Downloading data from https://openneuro.org/crn/datasets/ds000228/snapshots/00001/files/derivatives:fmriprep:sub-pixar088:sub-pixar088_task-pixar_run-001_ART_and_CompCor_nuisance_regressors.mat ...\n",
      "Downloading data from https://openneuro.org/crn/datasets/ds000228/snapshots/00001/files/derivatives:fmriprep:sub-pixar089:sub-pixar089_task-pixar_run-001_ART_and_CompCor_nuisance_regressors.mat ...\n"
     ]
    },
    {
     "name": "stderr",
     "output_type": "stream",
     "text": [
      "\r",
      "Downloaded 6616 of ? bytes. ...done. (0 seconds, 0 min)\n"
     ]
    },
    {
     "name": "stdout",
     "output_type": "stream",
     "text": [
      "Downloading data from https://openneuro.org/crn/datasets/ds000228/snapshots/00001/files/derivatives:fmriprep:sub-pixar090:sub-pixar090_task-pixar_run-001_ART_and_CompCor_nuisance_regressors.mat ...\n"
     ]
    },
    {
     "name": "stderr",
     "output_type": "stream",
     "text": [
      "\r",
      "Downloaded 7934 of ? bytes. ...done. (0 seconds, 0 min)\n",
      "\r",
      "Downloaded 7796 of ? bytes. ...done. (0 seconds, 0 min)\n"
     ]
    },
    {
     "name": "stdout",
     "output_type": "stream",
     "text": [
      "Downloading data from https://openneuro.org/crn/datasets/ds000228/snapshots/00001/files/derivatives:fmriprep:sub-pixar091:sub-pixar091_task-pixar_run-001_ART_and_CompCor_nuisance_regressors.mat ...\n",
      "Downloading data from https://openneuro.org/crn/datasets/ds000228/snapshots/00001/files/derivatives:fmriprep:sub-pixar092:sub-pixar092_task-pixar_run-001_ART_and_CompCor_nuisance_regressors.mat ...\n"
     ]
    },
    {
     "name": "stderr",
     "output_type": "stream",
     "text": [
      "\r",
      "Downloaded 5944 of ? bytes. ...done. (0 seconds, 0 min)\n"
     ]
    },
    {
     "name": "stdout",
     "output_type": "stream",
     "text": [
      "Downloading data from https://openneuro.org/crn/datasets/ds000228/snapshots/00001/files/derivatives:fmriprep:sub-pixar093:sub-pixar093_task-pixar_run-001_ART_and_CompCor_nuisance_regressors.mat ...\n"
     ]
    },
    {
     "name": "stderr",
     "output_type": "stream",
     "text": [
      "\r",
      "Downloaded 5272 of ? bytes. ...done. (0 seconds, 0 min)\n",
      "\r",
      "Downloaded 9976 of ? bytes. ...done. (0 seconds, 0 min)\n"
     ]
    },
    {
     "name": "stdout",
     "output_type": "stream",
     "text": [
      "Downloading data from https://openneuro.org/crn/datasets/ds000228/snapshots/00001/files/derivatives:fmriprep:sub-pixar094:sub-pixar094_task-pixar_run-001_ART_and_CompCor_nuisance_regressors.mat ...\n",
      "Downloading data from https://openneuro.org/crn/datasets/ds000228/snapshots/00001/files/derivatives:fmriprep:sub-pixar095:sub-pixar095_task-pixar_run-001_ART_and_CompCor_nuisance_regressors.mat ...\n"
     ]
    },
    {
     "name": "stderr",
     "output_type": "stream",
     "text": [
      "\r",
      "Downloaded 7288 of ? bytes. ...done. (0 seconds, 0 min)\n",
      "\r",
      "Downloaded 5944 of ? bytes. ...done. (0 seconds, 0 min)\n"
     ]
    },
    {
     "name": "stdout",
     "output_type": "stream",
     "text": [
      "Downloading data from https://openneuro.org/crn/datasets/ds000228/snapshots/00001/files/derivatives:fmriprep:sub-pixar096:sub-pixar096_task-pixar_run-001_ART_and_CompCor_nuisance_regressors.mat ...\n",
      "Downloading data from https://openneuro.org/crn/datasets/ds000228/snapshots/00001/files/derivatives:fmriprep:sub-pixar097:sub-pixar097_task-pixar_run-001_ART_and_CompCor_nuisance_regressors.mat ...\n"
     ]
    },
    {
     "name": "stderr",
     "output_type": "stream",
     "text": [
      "\r",
      "Downloaded 7819 of ? bytes. ...done. (0 seconds, 0 min)\n",
      "\r",
      "Downloaded 9304 of ? bytes. ...done. (0 seconds, 0 min)\n"
     ]
    },
    {
     "name": "stdout",
     "output_type": "stream",
     "text": [
      "Downloading data from https://openneuro.org/crn/datasets/ds000228/snapshots/00001/files/derivatives:fmriprep:sub-pixar098:sub-pixar098_task-pixar_run-001_ART_and_CompCor_nuisance_regressors.mat ...\n",
      "Downloading data from https://openneuro.org/crn/datasets/ds000228/snapshots/00001/files/derivatives:fmriprep:sub-pixar099:sub-pixar099_task-pixar_run-001_ART_and_CompCor_nuisance_regressors.mat ...\n"
     ]
    },
    {
     "name": "stderr",
     "output_type": "stream",
     "text": [
      "\r",
      "Downloaded 9976 of ? bytes. ...done. (0 seconds, 0 min)\n",
      "\r",
      "Downloaded 10648 of ? bytes. ...done. (0 seconds, 0 min)\n"
     ]
    },
    {
     "name": "stdout",
     "output_type": "stream",
     "text": [
      "Downloading data from https://openneuro.org/crn/datasets/ds000228/snapshots/00001/files/derivatives:fmriprep:sub-pixar100:sub-pixar100_task-pixar_run-001_ART_and_CompCor_nuisance_regressors.mat ...\n",
      "Downloading data from https://openneuro.org/crn/datasets/ds000228/snapshots/00001/files/derivatives:fmriprep:sub-pixar101:sub-pixar101_task-pixar_run-001_ART_and_CompCor_nuisance_regressors.mat ...\n"
     ]
    },
    {
     "name": "stderr",
     "output_type": "stream",
     "text": [
      "\r",
      "Downloaded 9304 of ? bytes. ...done. (0 seconds, 0 min)\n"
     ]
    },
    {
     "name": "stdout",
     "output_type": "stream",
     "text": [
      "Downloading data from https://openneuro.org/crn/datasets/ds000228/snapshots/00001/files/derivatives:fmriprep:sub-pixar102:sub-pixar102_task-pixar_run-001_ART_and_CompCor_nuisance_regressors.mat ...\n"
     ]
    },
    {
     "name": "stderr",
     "output_type": "stream",
     "text": [
      "\r",
      "Downloaded 10648 of ? bytes. ...done. (0 seconds, 0 min)\n",
      "\r",
      "Downloaded 8013 of ? bytes. ...done. (0 seconds, 0 min)\n"
     ]
    },
    {
     "name": "stdout",
     "output_type": "stream",
     "text": [
      "Downloading data from https://openneuro.org/crn/datasets/ds000228/snapshots/00001/files/derivatives:fmriprep:sub-pixar103:sub-pixar103_task-pixar_run-001_ART_and_CompCor_nuisance_regressors.mat ...\n",
      "Downloading data from https://openneuro.org/crn/datasets/ds000228/snapshots/00001/files/derivatives:fmriprep:sub-pixar104:sub-pixar104_task-pixar_run-001_ART_and_CompCor_nuisance_regressors.mat ...\n"
     ]
    },
    {
     "name": "stderr",
     "output_type": "stream",
     "text": [
      "\r",
      "Downloaded 7912 of ? bytes. ...done. (0 seconds, 0 min)\n",
      "\r",
      "Downloaded 7814 of ? bytes. ...done. (0 seconds, 0 min)\n"
     ]
    },
    {
     "name": "stdout",
     "output_type": "stream",
     "text": [
      "Downloading data from https://openneuro.org/crn/datasets/ds000228/snapshots/00001/files/derivatives:fmriprep:sub-pixar105:sub-pixar105_task-pixar_run-001_ART_and_CompCor_nuisance_regressors.mat ...\n",
      "Downloading data from https://openneuro.org/crn/datasets/ds000228/snapshots/00001/files/derivatives:fmriprep:sub-pixar106:sub-pixar106_task-pixar_run-001_ART_and_CompCor_nuisance_regressors.mat ...\n"
     ]
    },
    {
     "name": "stderr",
     "output_type": "stream",
     "text": [
      "\r",
      "Downloaded 7878 of ? bytes. ...done. (0 seconds, 0 min)\n",
      "\r",
      "Downloaded 7806 of ? bytes. ...done. (0 seconds, 0 min)\n"
     ]
    },
    {
     "name": "stdout",
     "output_type": "stream",
     "text": [
      "Downloading data from https://openneuro.org/crn/datasets/ds000228/snapshots/00001/files/derivatives:fmriprep:sub-pixar107:sub-pixar107_task-pixar_run-001_ART_and_CompCor_nuisance_regressors.mat ...\n",
      "Downloading data from https://openneuro.org/crn/datasets/ds000228/snapshots/00001/files/derivatives:fmriprep:sub-pixar108:sub-pixar108_task-pixar_run-001_ART_and_CompCor_nuisance_regressors.mat ...\n"
     ]
    },
    {
     "name": "stderr",
     "output_type": "stream",
     "text": [
      "\r",
      "Downloaded 7288 of ? bytes. ...done. (0 seconds, 0 min)\n",
      "\r",
      "Downloaded 6616 of ? bytes. ...done. (0 seconds, 0 min)\n"
     ]
    },
    {
     "name": "stdout",
     "output_type": "stream",
     "text": [
      "Downloading data from https://openneuro.org/crn/datasets/ds000228/snapshots/00001/files/derivatives:fmriprep:sub-pixar109:sub-pixar109_task-pixar_run-001_ART_and_CompCor_nuisance_regressors.mat ...\n",
      "Downloading data from https://openneuro.org/crn/datasets/ds000228/snapshots/00001/files/derivatives:fmriprep:sub-pixar110:sub-pixar110_task-pixar_run-001_ART_and_CompCor_nuisance_regressors.mat ...\n"
     ]
    },
    {
     "name": "stderr",
     "output_type": "stream",
     "text": [
      "\r",
      "Downloaded 10648 of ? bytes. ...done. (0 seconds, 0 min)\n",
      "\r",
      "Downloaded 7924 of ? bytes. ...done. (0 seconds, 0 min)\n"
     ]
    },
    {
     "name": "stdout",
     "output_type": "stream",
     "text": [
      "Downloading data from https://openneuro.org/crn/datasets/ds000228/snapshots/00001/files/derivatives:fmriprep:sub-pixar111:sub-pixar111_task-pixar_run-001_ART_and_CompCor_nuisance_regressors.mat ...\n",
      "Downloading data from https://openneuro.org/crn/datasets/ds000228/snapshots/00001/files/derivatives:fmriprep:sub-pixar112:sub-pixar112_task-pixar_run-001_ART_and_CompCor_nuisance_regressors.mat ...\n"
     ]
    },
    {
     "name": "stderr",
     "output_type": "stream",
     "text": [
      "\r",
      "Downloaded 5944 of ? bytes. ...done. (0 seconds, 0 min)\n"
     ]
    },
    {
     "name": "stdout",
     "output_type": "stream",
     "text": [
      "Downloading data from https://openneuro.org/crn/datasets/ds000228/snapshots/00001/files/derivatives:fmriprep:sub-pixar113:sub-pixar113_task-pixar_run-001_ART_and_CompCor_nuisance_regressors.mat ...\n"
     ]
    },
    {
     "name": "stderr",
     "output_type": "stream",
     "text": [
      "\r",
      "Downloaded 7851 of ? bytes. ...done. (0 seconds, 0 min)\n",
      "\r",
      "Downloaded 7930 of ? bytes. ...done. (0 seconds, 0 min)\n"
     ]
    },
    {
     "name": "stdout",
     "output_type": "stream",
     "text": [
      "Downloading data from https://openneuro.org/crn/datasets/ds000228/snapshots/00001/files/derivatives:fmriprep:sub-pixar114:sub-pixar114_task-pixar_run-001_ART_and_CompCor_nuisance_regressors.mat ...\n",
      "Downloading data from https://openneuro.org/crn/datasets/ds000228/snapshots/00001/files/derivatives:fmriprep:sub-pixar115:sub-pixar115_task-pixar_run-001_ART_and_CompCor_nuisance_regressors.mat ...\n"
     ]
    },
    {
     "name": "stderr",
     "output_type": "stream",
     "text": [
      "\r",
      "Downloaded 5272 of ? bytes. ...done. (0 seconds, 0 min)\n",
      "\r",
      "Downloaded 7769 of ? bytes. ...done. (0 seconds, 0 min)\n"
     ]
    },
    {
     "name": "stdout",
     "output_type": "stream",
     "text": [
      "Downloading data from https://openneuro.org/crn/datasets/ds000228/snapshots/00001/files/derivatives:fmriprep:sub-pixar116:sub-pixar116_task-pixar_run-001_ART_and_CompCor_nuisance_regressors.mat ...\n",
      "Downloading data from https://openneuro.org/crn/datasets/ds000228/snapshots/00001/files/derivatives:fmriprep:sub-pixar117:sub-pixar117_task-pixar_run-001_ART_and_CompCor_nuisance_regressors.mat ...\n"
     ]
    },
    {
     "name": "stderr",
     "output_type": "stream",
     "text": [
      "\r",
      "Downloaded 5944 of ? bytes. ...done. (0 seconds, 0 min)\n",
      "\r",
      "Downloaded 6616 of ? bytes. ...done. (0 seconds, 0 min)\n"
     ]
    },
    {
     "name": "stdout",
     "output_type": "stream",
     "text": [
      "Downloading data from https://openneuro.org/crn/datasets/ds000228/snapshots/00001/files/derivatives:fmriprep:sub-pixar118:sub-pixar118_task-pixar_run-001_ART_and_CompCor_nuisance_regressors.mat ...\n",
      "Downloading data from https://openneuro.org/crn/datasets/ds000228/snapshots/00001/files/derivatives:fmriprep:sub-pixar119:sub-pixar119_task-pixar_run-001_ART_and_CompCor_nuisance_regressors.mat ...\n"
     ]
    },
    {
     "name": "stderr",
     "output_type": "stream",
     "text": [
      "\r",
      "Downloaded 7838 of ? bytes. ...done. (0 seconds, 0 min)\n",
      "\r",
      "Downloaded 7288 of ? bytes. ...done. (0 seconds, 0 min)\n"
     ]
    },
    {
     "name": "stdout",
     "output_type": "stream",
     "text": [
      "Downloading data from https://openneuro.org/crn/datasets/ds000228/snapshots/00001/files/derivatives:fmriprep:sub-pixar120:sub-pixar120_task-pixar_run-001_ART_and_CompCor_nuisance_regressors.mat ...\n",
      "Downloading data from https://openneuro.org/crn/datasets/ds000228/snapshots/00001/files/derivatives:fmriprep:sub-pixar121:sub-pixar121_task-pixar_run-001_ART_and_CompCor_nuisance_regressors.mat ...\n"
     ]
    },
    {
     "name": "stderr",
     "output_type": "stream",
     "text": [
      "\r",
      "Downloaded 7847 of ? bytes. ...done. (0 seconds, 0 min)\n",
      "\r",
      "Downloaded 7288 of ? bytes. ...done. (0 seconds, 0 min)\n"
     ]
    },
    {
     "name": "stdout",
     "output_type": "stream",
     "text": [
      "Downloading data from https://openneuro.org/crn/datasets/ds000228/snapshots/00001/files/derivatives:fmriprep:sub-pixar122:sub-pixar122_task-pixar_run-001_ART_and_CompCor_nuisance_regressors.mat ...\n",
      "Downloading data from https://openneuro.org/crn/datasets/ds000228/snapshots/00001/files/derivatives:fmriprep:sub-pixar123:sub-pixar123_task-pixar_run-001_ART_and_CompCor_nuisance_regressors.mat ...\n"
     ]
    },
    {
     "name": "stderr",
     "output_type": "stream",
     "text": [
      "\r",
      "Downloaded 5272 of ? bytes. ...done. (0 seconds, 0 min)\n",
      "\r",
      "Downloaded 7850 of ? bytes. ...done. (0 seconds, 0 min)\n"
     ]
    },
    {
     "name": "stdout",
     "output_type": "stream",
     "text": [
      "Downloading data from https://openneuro.org/crn/datasets/ds000228/snapshots/00001/files/derivatives:fmriprep:sub-pixar124:sub-pixar124_task-pixar_run-001_ART_and_CompCor_nuisance_regressors.mat ...\n",
      "Downloading data from https://openneuro.org/crn/datasets/ds000228/snapshots/00001/files/derivatives:fmriprep:sub-pixar125:sub-pixar125_task-pixar_run-001_ART_and_CompCor_nuisance_regressors.mat ...\n"
     ]
    },
    {
     "name": "stderr",
     "output_type": "stream",
     "text": [
      "\r",
      "Downloaded 6616 of ? bytes. ...done. (0 seconds, 0 min)\n"
     ]
    },
    {
     "name": "stdout",
     "output_type": "stream",
     "text": [
      "Downloading data from https://openneuro.org/crn/datasets/ds000228/snapshots/00001/files/derivatives:fmriprep:sub-pixar126:sub-pixar126_task-pixar_run-001_ART_and_CompCor_nuisance_regressors.mat ...\n"
     ]
    },
    {
     "name": "stderr",
     "output_type": "stream",
     "text": [
      "\r",
      "Downloaded 7288 of ? bytes. ...done. (0 seconds, 0 min)\n",
      "\r",
      "Downloaded 6616 of ? bytes. ...done. (0 seconds, 0 min)\n"
     ]
    },
    {
     "name": "stdout",
     "output_type": "stream",
     "text": [
      "Downloading data from https://openneuro.org/crn/datasets/ds000228/snapshots/00001/files/derivatives:fmriprep:sub-pixar127:sub-pixar127_task-pixar_run-001_ART_and_CompCor_nuisance_regressors.mat ...\n",
      "Downloading data from https://openneuro.org/crn/datasets/ds000228/snapshots/00001/files/derivatives:fmriprep:sub-pixar128:sub-pixar128_task-pixar_run-001_ART_and_CompCor_nuisance_regressors.mat ...\n"
     ]
    },
    {
     "name": "stderr",
     "output_type": "stream",
     "text": [
      "\r",
      "Downloaded 5272 of ? bytes. ...done. (0 seconds, 0 min)\n",
      "\r",
      "Downloaded 5272 of ? bytes. ...done. (0 seconds, 0 min)\n"
     ]
    },
    {
     "name": "stdout",
     "output_type": "stream",
     "text": [
      "Downloading data from https://openneuro.org/crn/datasets/ds000228/snapshots/00001/files/derivatives:fmriprep:sub-pixar129:sub-pixar129_task-pixar_run-001_ART_and_CompCor_nuisance_regressors.mat ...\n",
      "Downloading data from https://openneuro.org/crn/datasets/ds000228/snapshots/00001/files/derivatives:fmriprep:sub-pixar130:sub-pixar130_task-pixar_run-001_ART_and_CompCor_nuisance_regressors.mat ...\n"
     ]
    },
    {
     "name": "stderr",
     "output_type": "stream",
     "text": [
      "\r",
      "Downloaded 5272 of ? bytes. ...done. (0 seconds, 0 min)\n",
      "\r",
      "Downloaded 10648 of ? bytes. ...done. (0 seconds, 0 min)\n"
     ]
    },
    {
     "name": "stdout",
     "output_type": "stream",
     "text": [
      "Downloading data from https://openneuro.org/crn/datasets/ds000228/snapshots/00001/files/derivatives:fmriprep:sub-pixar131:sub-pixar131_task-pixar_run-001_ART_and_CompCor_nuisance_regressors.mat ...\n",
      "Downloading data from https://openneuro.org/crn/datasets/ds000228/snapshots/00001/files/derivatives:fmriprep:sub-pixar132:sub-pixar132_task-pixar_run-001_ART_and_CompCor_nuisance_regressors.mat ...\n"
     ]
    },
    {
     "name": "stderr",
     "output_type": "stream",
     "text": [
      "\r",
      "Downloaded 5272 of ? bytes. ...done. (0 seconds, 0 min)\n",
      "\r",
      "Downloaded 5272 of ? bytes. ...done. (0 seconds, 0 min)\n"
     ]
    },
    {
     "name": "stdout",
     "output_type": "stream",
     "text": [
      "Downloading data from https://openneuro.org/crn/datasets/ds000228/snapshots/00001/files/derivatives:fmriprep:sub-pixar133:sub-pixar133_task-pixar_run-001_ART_and_CompCor_nuisance_regressors.mat ...\n",
      "Downloading data from https://openneuro.org/crn/datasets/ds000228/snapshots/00001/files/derivatives:fmriprep:sub-pixar134:sub-pixar134_task-pixar_run-001_ART_and_CompCor_nuisance_regressors.mat ...\n"
     ]
    },
    {
     "name": "stderr",
     "output_type": "stream",
     "text": [
      "\r",
      "Downloaded 7960 of ? bytes. ...done. (0 seconds, 0 min)\n",
      "\r",
      "Downloaded 11320 of ? bytes. ...done. (0 seconds, 0 min)\n"
     ]
    },
    {
     "name": "stdout",
     "output_type": "stream",
     "text": [
      "Downloading data from https://openneuro.org/crn/datasets/ds000228/snapshots/00001/files/derivatives:fmriprep:sub-pixar135:sub-pixar135_task-pixar_run-001_ART_and_CompCor_nuisance_regressors.mat ...\n",
      "Downloading data from https://openneuro.org/crn/datasets/ds000228/snapshots/00001/files/derivatives:fmriprep:sub-pixar136:sub-pixar136_task-pixar_run-001_ART_and_CompCor_nuisance_regressors.mat ...\n"
     ]
    },
    {
     "name": "stderr",
     "output_type": "stream",
     "text": [
      "\r",
      "Downloaded 7288 of ? bytes. ...done. (0 seconds, 0 min)\n",
      "\r",
      "Downloaded 5272 of ? bytes. ...done. (0 seconds, 0 min)\n"
     ]
    },
    {
     "name": "stdout",
     "output_type": "stream",
     "text": [
      "Downloading data from https://openneuro.org/crn/datasets/ds000228/snapshots/00001/files/derivatives:fmriprep:sub-pixar137:sub-pixar137_task-pixar_run-001_ART_and_CompCor_nuisance_regressors.mat ...\n",
      "Downloading data from https://openneuro.org/crn/datasets/ds000228/snapshots/00001/files/derivatives:fmriprep:sub-pixar138:sub-pixar138_task-pixar_run-001_ART_and_CompCor_nuisance_regressors.mat ...\n"
     ]
    },
    {
     "name": "stderr",
     "output_type": "stream",
     "text": [
      "\r",
      "Downloaded 5272 of ? bytes. ...done. (0 seconds, 0 min)\n",
      "\r",
      "Downloaded 5944 of ? bytes. ...done. (0 seconds, 0 min)\n"
     ]
    },
    {
     "name": "stdout",
     "output_type": "stream",
     "text": [
      "Downloading data from https://openneuro.org/crn/datasets/ds000228/snapshots/00001/files/derivatives:fmriprep:sub-pixar139:sub-pixar139_task-pixar_run-001_ART_and_CompCor_nuisance_regressors.mat ...\n",
      "Downloading data from https://openneuro.org/crn/datasets/ds000228/snapshots/00001/files/derivatives:fmriprep:sub-pixar140:sub-pixar140_task-pixar_run-001_ART_and_CompCor_nuisance_regressors.mat ...\n"
     ]
    },
    {
     "name": "stderr",
     "output_type": "stream",
     "text": [
      "\r",
      "Downloaded 7288 of ? bytes. ...done. (0 seconds, 0 min)\n",
      "\r",
      "Downloaded 5272 of ? bytes. ...done. (0 seconds, 0 min)\n"
     ]
    },
    {
     "name": "stdout",
     "output_type": "stream",
     "text": [
      "Downloading data from https://openneuro.org/crn/datasets/ds000228/snapshots/00001/files/derivatives:fmriprep:sub-pixar141:sub-pixar141_task-pixar_run-001_ART_and_CompCor_nuisance_regressors.mat ...\n",
      "Downloading data from https://openneuro.org/crn/datasets/ds000228/snapshots/00001/files/derivatives:fmriprep:sub-pixar142:sub-pixar142_task-pixar_run-001_ART_and_CompCor_nuisance_regressors.mat ...\n"
     ]
    },
    {
     "name": "stderr",
     "output_type": "stream",
     "text": [
      "\r",
      "Downloaded 5944 of ? bytes. ...done. (0 seconds, 0 min)\n",
      "\r",
      "Downloaded 5272 of ? bytes. ...done. (0 seconds, 0 min)\n"
     ]
    },
    {
     "name": "stdout",
     "output_type": "stream",
     "text": [
      "Downloading data from https://openneuro.org/crn/datasets/ds000228/snapshots/00001/files/derivatives:fmriprep:sub-pixar143:sub-pixar143_task-pixar_run-001_ART_and_CompCor_nuisance_regressors.mat ...\n",
      "Downloading data from https://openneuro.org/crn/datasets/ds000228/snapshots/00001/files/derivatives:fmriprep:sub-pixar144:sub-pixar144_task-pixar_run-001_ART_and_CompCor_nuisance_regressors.mat ...\n"
     ]
    },
    {
     "name": "stderr",
     "output_type": "stream",
     "text": [
      "\r",
      "Downloaded 8632 of ? bytes. ...done. (0 seconds, 0 min)\n",
      "\r",
      "Downloaded 9304 of ? bytes. ...done. (0 seconds, 0 min)\n"
     ]
    },
    {
     "name": "stdout",
     "output_type": "stream",
     "text": [
      "Downloading data from https://openneuro.org/crn/datasets/ds000228/snapshots/00001/files/derivatives:fmriprep:sub-pixar145:sub-pixar145_task-pixar_run-001_ART_and_CompCor_nuisance_regressors.mat ...\n",
      "Downloading data from https://openneuro.org/crn/datasets/ds000228/snapshots/00001/files/derivatives:fmriprep:sub-pixar146:sub-pixar146_task-pixar_run-001_ART_and_CompCor_nuisance_regressors.mat ...\n"
     ]
    },
    {
     "name": "stderr",
     "output_type": "stream",
     "text": [
      "\r",
      "Downloaded 5272 of ? bytes. ...done. (0 seconds, 0 min)\n",
      "\r",
      "Downloaded 5944 of ? bytes. ...done. (0 seconds, 0 min)\n"
     ]
    },
    {
     "name": "stdout",
     "output_type": "stream",
     "text": [
      "Downloading data from https://openneuro.org/crn/datasets/ds000228/snapshots/00001/files/derivatives:fmriprep:sub-pixar147:sub-pixar147_task-pixar_run-001_ART_and_CompCor_nuisance_regressors.mat ...\n",
      "Downloading data from https://openneuro.org/crn/datasets/ds000228/snapshots/00001/files/derivatives:fmriprep:sub-pixar148:sub-pixar148_task-pixar_run-001_ART_and_CompCor_nuisance_regressors.mat ...\n"
     ]
    },
    {
     "name": "stderr",
     "output_type": "stream",
     "text": [
      "\r",
      "Downloaded 5272 of ? bytes. ...done. (0 seconds, 0 min)\n",
      "\r",
      "Downloaded 7798 of ? bytes. ...done. (0 seconds, 0 min)\n"
     ]
    },
    {
     "name": "stdout",
     "output_type": "stream",
     "text": [
      "Downloading data from https://openneuro.org/crn/datasets/ds000228/snapshots/00001/files/derivatives:fmriprep:sub-pixar149:sub-pixar149_task-pixar_run-001_ART_and_CompCor_nuisance_regressors.mat ...\n",
      "Downloading data from https://openneuro.org/crn/datasets/ds000228/snapshots/00001/files/derivatives:fmriprep:sub-pixar150:sub-pixar150_task-pixar_run-001_ART_and_CompCor_nuisance_regressors.mat ...\n"
     ]
    },
    {
     "name": "stderr",
     "output_type": "stream",
     "text": [
      "\r",
      "Downloaded 7851 of ? bytes. ...done. (0 seconds, 0 min)\n"
     ]
    },
    {
     "name": "stdout",
     "output_type": "stream",
     "text": [
      "Downloading data from https://openneuro.org/crn/datasets/ds000228/snapshots/00001/files/derivatives:fmriprep:sub-pixar151:sub-pixar151_task-pixar_run-001_ART_and_CompCor_nuisance_regressors.mat ...\n"
     ]
    },
    {
     "name": "stderr",
     "output_type": "stream",
     "text": [
      "\r",
      "Downloaded 7288 of ? bytes. ...done. (0 seconds, 0 min)\n",
      "\r",
      "Downloaded 5944 of ? bytes. ...done. (0 seconds, 0 min)\n"
     ]
    },
    {
     "name": "stdout",
     "output_type": "stream",
     "text": [
      "Downloading data from https://openneuro.org/crn/datasets/ds000228/snapshots/00001/files/derivatives:fmriprep:sub-pixar152:sub-pixar152_task-pixar_run-001_ART_and_CompCor_nuisance_regressors.mat ...\n",
      "Downloading data from https://openneuro.org/crn/datasets/ds000228/snapshots/00001/files/derivatives:fmriprep:sub-pixar153:sub-pixar153_task-pixar_run-001_ART_and_CompCor_nuisance_regressors.mat ...\n"
     ]
    },
    {
     "name": "stderr",
     "output_type": "stream",
     "text": [
      "\r",
      "Downloaded 5272 of ? bytes. ...done. (0 seconds, 0 min)\n",
      "\r",
      "Downloaded 5272 of ? bytes. ...done. (0 seconds, 0 min)\n"
     ]
    },
    {
     "name": "stdout",
     "output_type": "stream",
     "text": [
      "Downloading data from https://openneuro.org/crn/datasets/ds000228/snapshots/00001/files/derivatives:fmriprep:sub-pixar154:sub-pixar154_task-pixar_run-001_ART_and_CompCor_nuisance_regressors.mat ...\n",
      "Downloading data from https://openneuro.org/crn/datasets/ds000228/snapshots/00001/files/derivatives:fmriprep:sub-pixar155:sub-pixar155_task-pixar_run-001_ART_and_CompCor_nuisance_regressors.mat ...\n"
     ]
    },
    {
     "name": "stderr",
     "output_type": "stream",
     "text": [
      "\r",
      "Downloaded 7288 of ? bytes. ...done. (0 seconds, 0 min)\n"
     ]
    }
   ],
   "source": [
    "wdir = '/Users/jakevogel/Science/Nilearn_tutorial/ds000028/'\n",
    "dataset = dl.fetch_data(None,data_dir=wdir)"
   ]
  },
  {
   "cell_type": "code",
   "execution_count": 17,
   "metadata": {},
   "outputs": [
    {
     "data": {
      "text/plain": [
       "155"
      ]
     },
     "execution_count": 17,
     "metadata": {},
     "output_type": "execute_result"
    }
   ],
   "source": [
    "len(dataset.func)"
   ]
  },
  {
   "cell_type": "markdown",
   "metadata": {},
   "source": [
    "## Get Y and assess its distribution"
   ]
  },
  {
   "cell_type": "code",
   "execution_count": 18,
   "metadata": {},
   "outputs": [
    {
     "data": {
      "text/html": [
       "<div>\n",
       "<style>\n",
       "    .dataframe thead tr:only-child th {\n",
       "        text-align: right;\n",
       "    }\n",
       "\n",
       "    .dataframe thead th {\n",
       "        text-align: left;\n",
       "    }\n",
       "\n",
       "    .dataframe tbody tr th {\n",
       "        vertical-align: top;\n",
       "    }\n",
       "</style>\n",
       "<table border=\"1\" class=\"dataframe\">\n",
       "  <thead>\n",
       "    <tr style=\"text-align: right;\">\n",
       "      <th></th>\n",
       "      <th>participant_id</th>\n",
       "      <th>Age</th>\n",
       "      <th>AgeGroup</th>\n",
       "      <th>Child_Adult</th>\n",
       "      <th>Gender</th>\n",
       "      <th>Handedness</th>\n",
       "      <th>ToM_BookletMatched</th>\n",
       "      <th>ToM_BookletMatchedNOFB</th>\n",
       "      <th>FB_Composite</th>\n",
       "      <th>FB_Group</th>\n",
       "      <th>WPPSI_BD_raw</th>\n",
       "      <th>WPPSI_BD_scaled</th>\n",
       "      <th>KBIT_raw</th>\n",
       "      <th>KBIT_standard</th>\n",
       "      <th>DCCS_Summary</th>\n",
       "      <th>Scanlog_Scanner</th>\n",
       "      <th>Scanlog_Coil</th>\n",
       "      <th>Scanlog_Voxel_slize</th>\n",
       "      <th>Scanlog_Slice_Gap</th>\n",
       "    </tr>\n",
       "  </thead>\n",
       "  <tbody>\n",
       "    <tr>\n",
       "      <th>0</th>\n",
       "      <td>b'sub-pixar001'</td>\n",
       "      <td>4.774812</td>\n",
       "      <td>b'4yo'</td>\n",
       "      <td>b'child'</td>\n",
       "      <td>b'M'</td>\n",
       "      <td>b'R'</td>\n",
       "      <td>b'0.8'</td>\n",
       "      <td>b'0.736842105'</td>\n",
       "      <td>b'6'</td>\n",
       "      <td>b'pass'</td>\n",
       "      <td>b'22'</td>\n",
       "      <td>b'13'</td>\n",
       "      <td>b'n/a'</td>\n",
       "      <td>b'n/a'</td>\n",
       "      <td>b'3'</td>\n",
       "      <td>b'3T1'</td>\n",
       "      <td>b'7-8yo 32ch'</td>\n",
       "      <td>b'3mm iso'</td>\n",
       "      <td>b'0.1'</td>\n",
       "    </tr>\n",
       "    <tr>\n",
       "      <th>1</th>\n",
       "      <td>b'sub-pixar002'</td>\n",
       "      <td>4.856947</td>\n",
       "      <td>b'4yo'</td>\n",
       "      <td>b'child'</td>\n",
       "      <td>b'F'</td>\n",
       "      <td>b'R'</td>\n",
       "      <td>b'0.72'</td>\n",
       "      <td>b'0.736842105'</td>\n",
       "      <td>b'4'</td>\n",
       "      <td>b'inc'</td>\n",
       "      <td>b'18'</td>\n",
       "      <td>b'9'</td>\n",
       "      <td>b'n/a'</td>\n",
       "      <td>b'n/a'</td>\n",
       "      <td>b'2'</td>\n",
       "      <td>b'3T1'</td>\n",
       "      <td>b'7-8yo 32ch'</td>\n",
       "      <td>b'3mm iso'</td>\n",
       "      <td>b'0.1'</td>\n",
       "    </tr>\n",
       "    <tr>\n",
       "      <th>2</th>\n",
       "      <td>b'sub-pixar003'</td>\n",
       "      <td>4.153320</td>\n",
       "      <td>b'4yo'</td>\n",
       "      <td>b'child'</td>\n",
       "      <td>b'F'</td>\n",
       "      <td>b'R'</td>\n",
       "      <td>b'0.44'</td>\n",
       "      <td>b'0.421052632'</td>\n",
       "      <td>b'3'</td>\n",
       "      <td>b'inc'</td>\n",
       "      <td>b'15'</td>\n",
       "      <td>b'9'</td>\n",
       "      <td>b'n/a'</td>\n",
       "      <td>b'n/a'</td>\n",
       "      <td>b'3'</td>\n",
       "      <td>b'3T1'</td>\n",
       "      <td>b'7-8yo 32ch'</td>\n",
       "      <td>b'3mm iso'</td>\n",
       "      <td>b'0.1'</td>\n",
       "    </tr>\n",
       "    <tr>\n",
       "      <th>3</th>\n",
       "      <td>b'sub-pixar004'</td>\n",
       "      <td>4.473648</td>\n",
       "      <td>b'4yo'</td>\n",
       "      <td>b'child'</td>\n",
       "      <td>b'F'</td>\n",
       "      <td>b'R'</td>\n",
       "      <td>b'0.64'</td>\n",
       "      <td>b'0.736842105'</td>\n",
       "      <td>b'2'</td>\n",
       "      <td>b'fail'</td>\n",
       "      <td>b'17'</td>\n",
       "      <td>b'10'</td>\n",
       "      <td>b'n/a'</td>\n",
       "      <td>b'n/a'</td>\n",
       "      <td>b'3'</td>\n",
       "      <td>b'3T1'</td>\n",
       "      <td>b'7-8yo 32ch'</td>\n",
       "      <td>b'3mm iso'</td>\n",
       "      <td>b'0.2'</td>\n",
       "    </tr>\n",
       "    <tr>\n",
       "      <th>4</th>\n",
       "      <td>b'sub-pixar005'</td>\n",
       "      <td>4.837782</td>\n",
       "      <td>b'4yo'</td>\n",
       "      <td>b'child'</td>\n",
       "      <td>b'F'</td>\n",
       "      <td>b'R'</td>\n",
       "      <td>b'0.6'</td>\n",
       "      <td>b'0.578947368'</td>\n",
       "      <td>b'4'</td>\n",
       "      <td>b'inc'</td>\n",
       "      <td>b'13'</td>\n",
       "      <td>b'5'</td>\n",
       "      <td>b'n/a'</td>\n",
       "      <td>b'n/a'</td>\n",
       "      <td>b'2'</td>\n",
       "      <td>b'3T1'</td>\n",
       "      <td>b'7-8yo 32ch'</td>\n",
       "      <td>b'3mm iso'</td>\n",
       "      <td>b'0.2'</td>\n",
       "    </tr>\n",
       "  </tbody>\n",
       "</table>\n",
       "</div>"
      ],
      "text/plain": [
       "    participant_id       Age AgeGroup Child_Adult Gender Handedness  \\\n",
       "0  b'sub-pixar001'  4.774812   b'4yo'    b'child'   b'M'       b'R'   \n",
       "1  b'sub-pixar002'  4.856947   b'4yo'    b'child'   b'F'       b'R'   \n",
       "2  b'sub-pixar003'  4.153320   b'4yo'    b'child'   b'F'       b'R'   \n",
       "3  b'sub-pixar004'  4.473648   b'4yo'    b'child'   b'F'       b'R'   \n",
       "4  b'sub-pixar005'  4.837782   b'4yo'    b'child'   b'F'       b'R'   \n",
       "\n",
       "  ToM_BookletMatched ToM_BookletMatchedNOFB FB_Composite FB_Group  \\\n",
       "0             b'0.8'         b'0.736842105'         b'6'  b'pass'   \n",
       "1            b'0.72'         b'0.736842105'         b'4'   b'inc'   \n",
       "2            b'0.44'         b'0.421052632'         b'3'   b'inc'   \n",
       "3            b'0.64'         b'0.736842105'         b'2'  b'fail'   \n",
       "4             b'0.6'         b'0.578947368'         b'4'   b'inc'   \n",
       "\n",
       "  WPPSI_BD_raw WPPSI_BD_scaled KBIT_raw KBIT_standard DCCS_Summary  \\\n",
       "0        b'22'           b'13'   b'n/a'        b'n/a'         b'3'   \n",
       "1        b'18'            b'9'   b'n/a'        b'n/a'         b'2'   \n",
       "2        b'15'            b'9'   b'n/a'        b'n/a'         b'3'   \n",
       "3        b'17'           b'10'   b'n/a'        b'n/a'         b'3'   \n",
       "4        b'13'            b'5'   b'n/a'        b'n/a'         b'2'   \n",
       "\n",
       "  Scanlog_Scanner   Scanlog_Coil Scanlog_Voxel_slize Scanlog_Slice_Gap  \n",
       "0          b'3T1'  b'7-8yo 32ch'          b'3mm iso'            b'0.1'  \n",
       "1          b'3T1'  b'7-8yo 32ch'          b'3mm iso'            b'0.1'  \n",
       "2          b'3T1'  b'7-8yo 32ch'          b'3mm iso'            b'0.1'  \n",
       "3          b'3T1'  b'7-8yo 32ch'          b'3mm iso'            b'0.2'  \n",
       "4          b'3T1'  b'7-8yo 32ch'          b'3mm iso'            b'0.2'  "
      ]
     },
     "execution_count": 18,
     "metadata": {},
     "output_type": "execute_result"
    }
   ],
   "source": [
    "pheno = pd.DataFrame(dataset.phenotypic)\n",
    "pheno.head()"
   ]
  },
  {
   "cell_type": "code",
   "execution_count": 20,
   "metadata": {},
   "outputs": [
    {
     "data": {
      "text/plain": [
       "0    4.774812\n",
       "1    4.856947\n",
       "2    4.153320\n",
       "3    4.473648\n",
       "4    4.837782\n",
       "Name: Age, dtype: float64"
      ]
     },
     "execution_count": 20,
     "metadata": {},
     "output_type": "execute_result"
    }
   ],
   "source": [
    "full_y = pheno['Age']\n",
    "full_y.head()"
   ]
  },
  {
   "cell_type": "code",
   "execution_count": 24,
   "metadata": {},
   "outputs": [
    {
     "data": {
      "image/png": "[encoded data removed]",
      "text/plain": [
       "<matplotlib.figure.Figure at 0x117bdfef0>"
      ]
     },
     "metadata": {},
     "output_type": "display_data"
    }
   ],
   "source": [
    "plt.close()\n",
    "plt.hist(full_y)\n",
    "plt.show()"
   ]
  },
  {
   "cell_type": "code",
   "execution_count": 28,
   "metadata": {},
   "outputs": [
    {
     "data": {
      "image/png": "[encoded data removed]",
      "text/plain": [
       "<matplotlib.figure.Figure at 0x105041978>"
      ]
     },
     "metadata": {},
     "output_type": "display_data"
    }
   ],
   "source": [
    "plt.close()\n",
    "plt.hist(np.log(full_y))\n",
    "plt.show()"
   ]
  },
  {
   "cell_type": "code",
   "execution_count": 30,
   "metadata": {},
   "outputs": [
    {
     "name": "stdout",
     "output_type": "stream",
     "text": [
      "children: 122 young adults: 33\n"
     ]
    }
   ],
   "source": [
    "print('children:',len(pheno[pheno.Age<15]),\n",
    "      'young adults:', len(pheno[pheno.Age>15]))"
   ]
  },
  {
   "cell_type": "code",
   "execution_count": 104,
   "metadata": {},
   "outputs": [
    {
     "data": {
      "text/plain": [
       "b'8-12yo'    34\n",
       "b'5yo'       34\n",
       "b'Adult'     33\n",
       "b'7yo'       23\n",
       "b'3yo'       17\n",
       "b'4yo'       14\n",
       "Name: AgeGroup, dtype: int64"
      ]
     },
     "execution_count": 104,
     "metadata": {},
     "output_type": "execute_result"
    }
   ],
   "source": [
    "pheno.AgeGroup.value_counts()"
   ]
  },
  {
   "cell_type": "markdown",
   "metadata": {},
   "source": [
    "## Extract features"
   ]
  },
  {
   "cell_type": "code",
   "execution_count": 70,
   "metadata": {},
   "outputs": [],
   "source": [
    "from nilearn import datasets\n",
    "parcellations = datasets.fetch_atlas_basc_multiscale_2015()\n",
    "atlas_filename = parcellations.scale064"
   ]
  },
  {
   "cell_type": "code",
   "execution_count": 72,
   "metadata": {},
   "outputs": [],
   "source": [
    "from nilearn.input_data import NiftiLabelsMasker\n",
    "from nilearn.connectome import ConnectivityMeasure\n",
    "\n",
    "masker = NiftiLabelsMasker(labels_img=atlas_filename, standardize=True, \n",
    "                           memory='nilearn_cache', verbose=0)\n",
    "correlation_measure = ConnectivityMeasure(kind='correlation')"
   ]
  },
  {
   "cell_type": "code",
   "execution_count": 47,
   "metadata": {
    "collapsed": true
   },
   "outputs": [],
   "source": [
    "masker.fit_transform?"
   ]
  },
  {
   "cell_type": "code",
   "execution_count": 54,
   "metadata": {},
   "outputs": [],
   "source": [
    "from scipy.io import loadmat\n",
    "import h5py\n",
    "# practice subject:\n",
    "sub = dataset.func[0]\n",
    "arrays = {}\n",
    "f = h5py.File(conf)\n",
    "for k, v in f.items():\n",
    "    arrays[k] = np.array(v)"
   ]
  },
  {
   "cell_type": "code",
   "execution_count": 59,
   "metadata": {},
   "outputs": [
    {
     "data": {
      "text/plain": [
       "(29, 168)"
      ]
     },
     "execution_count": 59,
     "metadata": {},
     "output_type": "execute_result"
    }
   ],
   "source": [
    "arrays['R'].shape"
   ]
  },
  {
   "cell_type": "code",
   "execution_count": 73,
   "metadata": {},
   "outputs": [],
   "source": [
    "time_series = masker.fit_transform(sub, confounds=arrays['R'].T)\n",
    "correlation_matrix = correlation_measure.fit_transform([time_series])[0]\n",
    "upper_triang_corr = sym_matrix_to_vec(correlation_matrix, discard_diagonal=True)"
   ]
  },
  {
   "cell_type": "code",
   "execution_count": 74,
   "metadata": {},
   "outputs": [
    {
     "data": {
      "text/plain": [
       "(2016,)"
      ]
     },
     "execution_count": 74,
     "metadata": {},
     "output_type": "execute_result"
    }
   ],
   "source": [
    "upper_triang_corr.shape"
   ]
  },
  {
   "cell_type": "code",
   "execution_count": 75,
   "metadata": {},
   "outputs": [
    {
     "name": "stdout",
     "output_type": "stream",
     "text": [
      "finished 1 of 155\n",
      "finished 2 of 155\n",
      "finished 3 of 155\n",
      "finished 4 of 155\n",
      "finished 5 of 155\n",
      "finished 6 of 155\n",
      "finished 7 of 155\n",
      "finished 8 of 155\n",
      "finished 9 of 155\n",
      "finished 10 of 155\n",
      "finished 11 of 155\n",
      "finished 12 of 155\n",
      "finished 13 of 155\n",
      "finished 14 of 155\n",
      "finished 15 of 155\n",
      "finished 16 of 155\n",
      "finished 17 of 155\n",
      "finished 18 of 155\n",
      "finished 19 of 155\n",
      "finished 20 of 155\n",
      "finished 21 of 155\n",
      "finished 22 of 155\n",
      "finished 23 of 155\n",
      "finished 24 of 155\n",
      "finished 25 of 155\n",
      "finished 26 of 155\n",
      "finished 27 of 155\n",
      "finished 28 of 155\n",
      "finished 29 of 155\n",
      "finished 30 of 155\n",
      "finished 31 of 155\n",
      "finished 32 of 155\n",
      "finished 33 of 155\n",
      "finished 34 of 155\n",
      "finished 35 of 155\n",
      "finished 36 of 155\n",
      "finished 37 of 155\n",
      "finished 38 of 155\n",
      "finished 39 of 155\n",
      "finished 40 of 155\n",
      "finished 41 of 155\n",
      "finished 42 of 155\n",
      "finished 43 of 155\n",
      "finished 44 of 155\n",
      "finished 45 of 155\n",
      "finished 46 of 155\n",
      "finished 47 of 155\n",
      "finished 48 of 155\n",
      "finished 49 of 155\n",
      "finished 50 of 155\n",
      "finished 51 of 155\n",
      "finished 52 of 155\n",
      "finished 53 of 155\n",
      "finished 54 of 155\n",
      "finished 55 of 155\n",
      "finished 56 of 155\n",
      "finished 57 of 155\n",
      "finished 58 of 155\n",
      "finished 59 of 155\n",
      "finished 60 of 155\n",
      "finished 61 of 155\n",
      "finished 62 of 155\n",
      "finished 63 of 155\n",
      "finished 64 of 155\n",
      "finished 65 of 155\n",
      "finished 66 of 155\n",
      "finished 67 of 155\n",
      "finished 68 of 155\n",
      "finished 69 of 155\n",
      "finished 70 of 155\n",
      "finished 71 of 155\n",
      "finished 72 of 155\n",
      "finished 73 of 155\n",
      "finished 74 of 155\n",
      "finished 75 of 155\n",
      "finished 76 of 155\n",
      "finished 77 of 155\n",
      "finished 78 of 155\n",
      "finished 79 of 155\n",
      "finished 80 of 155\n",
      "finished 81 of 155\n",
      "finished 82 of 155\n",
      "finished 83 of 155\n",
      "finished 84 of 155\n",
      "finished 85 of 155\n",
      "finished 86 of 155\n",
      "finished 87 of 155\n",
      "finished 88 of 155\n",
      "finished 89 of 155\n",
      "finished 90 of 155\n",
      "finished 91 of 155\n",
      "finished 92 of 155\n",
      "finished 93 of 155\n",
      "finished 94 of 155\n",
      "finished 95 of 155\n",
      "finished 96 of 155\n",
      "finished 97 of 155\n",
      "finished 98 of 155\n",
      "finished 99 of 155\n",
      "finished 100 of 155\n",
      "finished 101 of 155\n",
      "finished 102 of 155\n",
      "finished 103 of 155\n",
      "finished 104 of 155\n",
      "finished 105 of 155\n",
      "finished 106 of 155\n",
      "finished 107 of 155\n",
      "finished 108 of 155\n",
      "finished 109 of 155\n",
      "finished 110 of 155\n",
      "finished 111 of 155\n",
      "finished 112 of 155\n",
      "finished 113 of 155\n",
      "finished 114 of 155\n",
      "finished 115 of 155\n",
      "finished 116 of 155\n",
      "finished 117 of 155\n",
      "finished 118 of 155\n",
      "finished 119 of 155\n",
      "finished 120 of 155\n",
      "finished 121 of 155\n",
      "finished 122 of 155\n",
      "finished 123 of 155\n",
      "finished 124 of 155\n",
      "finished 125 of 155\n",
      "finished 126 of 155\n",
      "finished 127 of 155\n",
      "finished 128 of 155\n",
      "finished 129 of 155\n",
      "finished 130 of 155\n",
      "finished 131 of 155\n",
      "finished 132 of 155\n",
      "finished 133 of 155\n",
      "finished 134 of 155\n",
      "finished 135 of 155\n",
      "finished 136 of 155\n",
      "finished 137 of 155\n",
      "finished 138 of 155\n",
      "finished 139 of 155\n",
      "finished 140 of 155\n",
      "finished 141 of 155\n",
      "finished 142 of 155\n",
      "finished 143 of 155\n",
      "finished 144 of 155\n",
      "finished 145 of 155\n",
      "finished 146 of 155\n",
      "finished 147 of 155\n",
      "finished 148 of 155\n",
      "finished 149 of 155\n",
      "finished 150 of 155\n",
      "finished 151 of 155\n",
      "finished 152 of 155\n",
      "finished 153 of 155\n",
      "finished 154 of 155\n",
      "finished 155 of 155\n",
      "CPU times: user 29min 2s, sys: 2min 59s, total: 32min 1s\n",
      "Wall time: 32min 18s\n"
     ]
    }
   ],
   "source": [
    "%%time\n",
    "from nilearn.connectome import ConnectivityMeasure, sym_matrix_to_vec\n",
    "\n",
    "all_features = [] # here is where we will put the data (a container)\n",
    "for i,sub in enumerate(dataset.func):\n",
    "    # convert confounds to readable format\n",
    "    arrays = {}\n",
    "    f = h5py.File(dataset.confounds[i])\n",
    "    for k, v in f.items():\n",
    "        arrays[k] = np.array(v)\n",
    "    conf = arrays['R'].T\n",
    "    # extract the timeseries from the ROIs in the atlas\n",
    "    time_series = masker.fit_transform(sub, confounds=conf)\n",
    "    # create a region x region correlation matrix\n",
    "    correlation_matrix = correlation_measure.fit_transform([time_series])[0]\n",
    "    # isolate non-redundant features\n",
    "    upper_triang_corr = sym_matrix_to_vec(correlation_matrix, discard_diagonal=True)\n",
    "    # add to our container\n",
    "    all_features.append(upper_triang_corr)\n",
    "    # keep track of status\n",
    "    print('finished %s of %s'%(i+1,len(dataset.func)))"
   ]
  },
  {
   "cell_type": "code",
   "execution_count": 82,
   "metadata": {
    "collapsed": true
   },
   "outputs": [],
   "source": [
    "np.savez_compressed?"
   ]
  },
  {
   "cell_type": "code",
   "execution_count": 85,
   "metadata": {},
   "outputs": [],
   "source": [
    "# save data so we don't have to rerun that again\n",
    "outdir = os.getcwd()\n",
    "np.savez_compressed(os.path.join(outdir,'BASC064_features'),a = all_features, b = full_y)"
   ]
  },
  {
   "cell_type": "code",
   "execution_count": 110,
   "metadata": {
    "collapsed": true
   },
   "outputs": [],
   "source": [
    "X = np.array(all_features)"
   ]
  },
  {
   "cell_type": "markdown",
   "metadata": {},
   "source": [
    "## Create training sample to experiment with different models\n",
    "* Basic model\n",
    "* Log_transform\n",
    "* More balanced ages\n",
    "* Weighting adults more\n",
    "* Child vs adult?"
   ]
  },
  {
   "cell_type": "markdown",
   "metadata": {},
   "source": [
    "#### First take out the test set for later"
   ]
  },
  {
   "cell_type": "code",
   "execution_count": 105,
   "metadata": {
    "collapsed": true
   },
   "outputs": [],
   "source": [
    "age_groups = pheno.AgeGroup"
   ]
  },
  {
   "cell_type": "code",
   "execution_count": 123,
   "metadata": {},
   "outputs": [],
   "source": [
    "from sklearn.model_selection import StratifiedShuffleSplit\n",
    "splitter = StratifiedShuffleSplit(n_splits=1, test_size=0.4, random_state=123)\n",
    "splits = splitter.split(all_features,age_groups)"
   ]
  },
  {
   "cell_type": "code",
   "execution_count": 124,
   "metadata": {},
   "outputs": [],
   "source": [
    "for train_index, test_index in splits:\n",
    "    X_train, X_test = X[train_index], X[test_index]\n",
    "    y_train, y_test = full_y[train_index], full_y[test_index]\n",
    "    ageGroup_train, ageGroup_test = age_groups[train_index], age_groups[test_index]"
   ]
  },
  {
   "cell_type": "code",
   "execution_count": 134,
   "metadata": {},
   "outputs": [
    {
     "name": "stdout",
     "output_type": "stream",
     "text": [
      "training: 93 testing: 62\n"
     ]
    }
   ],
   "source": [
    "print('training:', len(X_train),\n",
    "     'testing:', len(X_test))"
   ]
  },
  {
   "cell_type": "code",
   "execution_count": 130,
   "metadata": {},
   "outputs": [
    {
     "data": {
      "text/plain": [
       "b'Adult'     0.215054\n",
       "b'8-12yo'    0.215054\n",
       "b'5yo'       0.215054\n",
       "b'7yo'       0.150538\n",
       "b'3yo'       0.107527\n",
       "b'4yo'       0.096774\n",
       "Name: AgeGroup, dtype: float64"
      ]
     },
     "execution_count": 130,
     "metadata": {},
     "output_type": "execute_result"
    }
   ],
   "source": [
    "ageGroup_train.value_counts() / len(ageGroup_train)"
   ]
  },
  {
   "cell_type": "code",
   "execution_count": 131,
   "metadata": {},
   "outputs": [
    {
     "data": {
      "text/plain": [
       "b'5yo'       0.225806\n",
       "b'8-12yo'    0.225806\n",
       "b'Adult'     0.209677\n",
       "b'7yo'       0.145161\n",
       "b'3yo'       0.112903\n",
       "b'4yo'       0.080645\n",
       "Name: AgeGroup, dtype: float64"
      ]
     },
     "execution_count": 131,
     "metadata": {},
     "output_type": "execute_result"
    }
   ],
   "source": [
    "ageGroup_test.value_counts() / len(ageGroup_test)"
   ]
  },
  {
   "cell_type": "markdown",
   "metadata": {},
   "source": [
    "#### Let's just run a regular old model with cross-validation on the training set"
   ]
  },
  {
   "cell_type": "code",
   "execution_count": 159,
   "metadata": {},
   "outputs": [],
   "source": [
    "from sklearn.ensemble import RandomForestRegressor\n",
    "from sklearn.model_selection import cross_val_predict, cross_val_score\n",
    "\n",
    "rf = RandomForestRegressor(n_estimators=20, random_state=123)\n",
    "y_pred = cross_val_predict(rf, X_train, y_train, groups=ageGroup_train, cv=10)\n",
    "r2_score = cross_val_score(rf, X_train, y_train, groups=ageGroup_train, cv=10)\n",
    "mae_score = cross_val_score(rf, X_train, y_train, groups=ageGroup_train, cv=10,\n",
    "                           scoring = 'neg_mean_absolute_error')"
   ]
  },
  {
   "cell_type": "code",
   "execution_count": 160,
   "metadata": {},
   "outputs": [
    {
     "data": {
      "text/plain": [
       "[(-1.8255977558510836, -2.7518500684150005),\n",
       " (0.39280026944891344, -4.15383032158),\n",
       " (0.7291880992353247, -4.016434051999999),\n",
       " (0.20557814903847393, -3.3637206251500005),\n",
       " (0.15511386445337838, -8.605169290483333),\n",
       " (0.6174592096381848, -4.6535766598277775),\n",
       " (-0.13450146643419658, -6.491634306838888),\n",
       " (0.5417873630703542, -3.680270476888888),\n",
       " (-0.2437434308711608, -1.8550974979666661),\n",
       " (0.4938851965336654, -4.010787208155555)]"
      ]
     },
     "execution_count": 160,
     "metadata": {},
     "output_type": "execute_result"
    }
   ],
   "source": [
    "list(zip(r2_score,mae_score))"
   ]
  },
  {
   "cell_type": "code",
   "execution_count": 173,
   "metadata": {},
   "outputs": [
    {
     "data": {
      "image/png": "[encoded data removed]",
      "text/plain": [
       "<matplotlib.figure.Figure at 0x11d0b3748>"
      ]
     },
     "metadata": {},
     "output_type": "display_data"
    },
    {
     "name": "stdout",
     "output_type": "stream",
     "text": [
      "r2 =  -1294.453155157546 \"real\" r2 =  0.40170760458116234 mae =  8.362973471979299\n"
     ]
    }
   ],
   "source": [
    "from sklearn.metrics import r2_score, mean_absolute_error\n",
    "from scipy.stats import pearsonr\n",
    "plt.close()\n",
    "plt.scatter(y_pred, y_train)\n",
    "plt.show()\n",
    "\n",
    "print('r2 = ',r2_score(y_pred,y_train),\n",
    "      '\"real\" r2 = ', pearsonr(y_pred,y_train)[0]**2,\n",
    "     'mae = ',mean_absolute_error(y_pred,y_train))"
   ]
  },
  {
   "cell_type": "markdown",
   "metadata": {},
   "source": [
    "#### What if we log-transform age"
   ]
  },
  {
   "cell_type": "code",
   "execution_count": 198,
   "metadata": {},
   "outputs": [],
   "source": [
    "log_y_train = np.log(y_train)"
   ]
  },
  {
   "cell_type": "code",
   "execution_count": 186,
   "metadata": {},
   "outputs": [],
   "source": [
    "y_pred = cross_val_predict(rf, X_train, log_y_train, groups=ageGroup_train, cv=10)\n",
    "r2 = cross_val_score(rf, X_train, log_y_train, groups=ageGroup_train, cv=10)\n",
    "mae_score = cross_val_score(rf, X_train, log_y_train, groups=ageGroup_train, cv=10,\n",
    "                           scoring = 'neg_mean_absolute_error')"
   ]
  },
  {
   "cell_type": "code",
   "execution_count": 187,
   "metadata": {},
   "outputs": [
    {
     "data": {
      "text/plain": [
       "[(-0.41481439700494294, -0.32153886311435975),\n",
       " (0.47072151786691185, -0.4037805517049028),\n",
       " (0.5577158014410151, -0.35220518564108455),\n",
       " (0.26169422325472813, -0.27761017597442794),\n",
       " (0.26554800923425803, -0.6509614481244498),\n",
       " (0.39453470109589583, -0.41193064817009467),\n",
       " (0.1835883715786355, -0.4589371530827005),\n",
       " (0.460283282002008, -0.3592292041080869),\n",
       " (-0.033268456073531905, -0.30492487465717777),\n",
       " (0.5428618117763904, -0.3541124012249057)]"
      ]
     },
     "execution_count": 187,
     "metadata": {},
     "output_type": "execute_result"
    }
   ],
   "source": [
    "list(zip(r2,mae_score))"
   ]
  },
  {
   "cell_type": "code",
   "execution_count": 188,
   "metadata": {},
   "outputs": [
    {
     "data": {
      "image/png": "[encoded data removed]",
      "text/plain": [
       "<matplotlib.figure.Figure at 0x11dc251d0>"
      ]
     },
     "metadata": {},
     "output_type": "display_data"
    },
    {
     "name": "stdout",
     "output_type": "stream",
     "text": [
      "r2 =  -1.3208205374405941 \"real\" r2 =  0.4579850096189085 mae =  0.3885440769105384\n"
     ]
    }
   ],
   "source": [
    "plt.close()\n",
    "plt.scatter(y_pred, np.log(y_train))\n",
    "plt.show()\n",
    "\n",
    "print('r2 = ',r2_score(y_pred,log_y_train),\n",
    "      '\"real\" r2 = ', pearsonr(y_pred,log_y_train)[0]**2,\n",
    "     'mae = ',mean_absolute_error(y_pred,log_y_train))"
   ]
  },
  {
   "cell_type": "code",
   "execution_count": 200,
   "metadata": {},
   "outputs": [
    {
     "data": {
      "text/plain": [
       "1.4748319880697072"
      ]
     },
     "execution_count": 200,
     "metadata": {},
     "output_type": "execute_result"
    }
   ],
   "source": [
    "np.exp(mean_absolute_error(y_pred,log_y_train))"
   ]
  },
  {
   "cell_type": "markdown",
   "metadata": {},
   "source": [
    "#### Looking good. Just for the sake of due diligence, let's try a few other things"
   ]
  },
  {
   "cell_type": "code",
   "execution_count": null,
   "metadata": {
    "collapsed": true
   },
   "outputs": [],
   "source": []
  }
 ],
 "metadata": {
  "kernelspec": {
   "display_name": "Python 3",
   "language": "python",
   "name": "python3"
  },
  "language_info": {
   "codemirror_mode": {
    "name": "ipython",
    "version": 3
   },
   "file_extension": ".py",
   "mimetype": "text/x-python",
   "name": "python",
   "nbconvert_exporter": "python",
   "pygments_lexer": "ipython3",
   "version": "3.6.2"
  }
 },
 "nbformat": 4,
 "nbformat_minor": 2
}
