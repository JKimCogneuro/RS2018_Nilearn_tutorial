{
 "cells": [
  {
   "cell_type": "markdown",
   "metadata": {},
   "source": [
    "## TO DO\n",
    "* Reproduce age prediction\n",
    "* Reduce data (sampling resolution + precision)\n",
    "* Reproduce again\n",
    "* Clean up code"
   ]
  },
  {
   "cell_type": "markdown",
   "metadata": {},
   "source": [
    "### reproducing CNP_func_preprocess_corr_matrix\n",
    "https://github.com/danielmlow/brain_age/blob/master/CNP_func_preprocess_corr_matrix.ipynb"
   ]
  },
  {
   "cell_type": "code",
   "execution_count": 5,
   "metadata": {
    "collapsed": true
   },
   "outputs": [],
   "source": [
    "import pandas as pd\n",
    "import numpy as np\n",
    "import nibabel as nib\n",
    "import datetime\n",
    "import os\n",
    "from glob import glob"
   ]
  },
  {
   "cell_type": "code",
   "execution_count": 129,
   "metadata": {
    "collapsed": true
   },
   "outputs": [],
   "source": [
    "toy = False\n",
    "run_all = True\n",
    "path = '/data1/users/jvogel/nilearn_tutorial/ds000030_R1.0.5/derivatives/fmriprep/'\n",
    "output_dir = '/data1/users/jvogel/nilearn_tutorial/output/'\n",
    "input_dir = '/data1/users/jvogel/nilearn_tutorial/'\n",
    "\n",
    "n_jobs = 2 #amount of cores #orignally 20\n",
    "cv=4\n",
    "description = 'CNP_func_gridsearch_age_'\n",
    "log_file = description+datetime.datetime.now().strftime(\"%y-%m-%d-%H-%M-%S\")"
   ]
  },
  {
   "cell_type": "code",
   "execution_count": 130,
   "metadata": {},
   "outputs": [
    {
     "data": {
      "text/plain": [
       "'CNP_func_gridsearch_age_18-09-21-16-57-18'"
      ]
     },
     "execution_count": 130,
     "metadata": {},
     "output_type": "execute_result"
    }
   ],
   "source": [
    "log_file"
   ]
  },
  {
   "cell_type": "code",
   "execution_count": 131,
   "metadata": {},
   "outputs": [
    {
     "data": {
      "text/plain": [
       "['sub-10159',\n",
       " 'sub-10171',\n",
       " 'sub-10189',\n",
       " 'sub-10193',\n",
       " 'sub-10206',\n",
       " 'sub-10217',\n",
       " 'sub-10225',\n",
       " 'sub-10227',\n",
       " 'sub-10228',\n",
       " 'sub-10235',\n",
       " 'sub-10249',\n",
       " 'sub-10269',\n",
       " 'sub-10271',\n",
       " 'sub-10273',\n",
       " 'sub-10274',\n",
       " 'sub-10280',\n",
       " 'sub-10290',\n",
       " 'sub-10292',\n",
       " 'sub-10304',\n",
       " 'sub-10316',\n",
       " 'sub-10321',\n",
       " 'sub-10325',\n",
       " 'sub-10329',\n",
       " 'sub-10339',\n",
       " 'sub-10340',\n",
       " 'sub-10345',\n",
       " 'sub-10347',\n",
       " 'sub-10356',\n",
       " 'sub-10361',\n",
       " 'sub-10365',\n",
       " 'sub-10376',\n",
       " 'sub-10377',\n",
       " 'sub-10388',\n",
       " 'sub-10429',\n",
       " 'sub-10438',\n",
       " 'sub-10440',\n",
       " 'sub-10448',\n",
       " 'sub-10455',\n",
       " 'sub-10460',\n",
       " 'sub-10471',\n",
       " 'sub-10478',\n",
       " 'sub-10487',\n",
       " 'sub-10492',\n",
       " 'sub-10506',\n",
       " 'sub-10517',\n",
       " 'sub-10523',\n",
       " 'sub-10524',\n",
       " 'sub-10525',\n",
       " 'sub-10527',\n",
       " 'sub-10530',\n",
       " 'sub-10557',\n",
       " 'sub-10565',\n",
       " 'sub-10570',\n",
       " 'sub-10575',\n",
       " 'sub-10624',\n",
       " 'sub-10629',\n",
       " 'sub-10631',\n",
       " 'sub-10638',\n",
       " 'sub-10668',\n",
       " 'sub-10672',\n",
       " 'sub-10674',\n",
       " 'sub-10678',\n",
       " 'sub-10680',\n",
       " 'sub-10686',\n",
       " 'sub-10692',\n",
       " 'sub-10696',\n",
       " 'sub-10697',\n",
       " 'sub-10704',\n",
       " 'sub-10707',\n",
       " 'sub-10708',\n",
       " 'sub-10719',\n",
       " 'sub-10724',\n",
       " 'sub-10746',\n",
       " 'sub-10762',\n",
       " 'sub-10779',\n",
       " 'sub-10785',\n",
       " 'sub-10788',\n",
       " 'sub-10844',\n",
       " 'sub-10855',\n",
       " 'sub-10871',\n",
       " 'sub-10877',\n",
       " 'sub-10882',\n",
       " 'sub-10891',\n",
       " 'sub-10893',\n",
       " 'sub-10912',\n",
       " 'sub-10934',\n",
       " 'sub-10940',\n",
       " 'sub-10948',\n",
       " 'sub-10949',\n",
       " 'sub-10958',\n",
       " 'sub-10963',\n",
       " 'sub-10968',\n",
       " 'sub-10975',\n",
       " 'sub-10977',\n",
       " 'sub-10987',\n",
       " 'sub-10998',\n",
       " 'sub-11019',\n",
       " 'sub-11030',\n",
       " 'sub-11044',\n",
       " 'sub-11050',\n",
       " 'sub-11052',\n",
       " 'sub-11059',\n",
       " 'sub-11061',\n",
       " 'sub-11062',\n",
       " 'sub-11066',\n",
       " 'sub-11067',\n",
       " 'sub-11068',\n",
       " 'sub-11077',\n",
       " 'sub-11082',\n",
       " 'sub-11088',\n",
       " 'sub-11090',\n",
       " 'sub-11097',\n",
       " 'sub-11098',\n",
       " 'sub-11104',\n",
       " 'sub-11105',\n",
       " 'sub-11106',\n",
       " 'sub-11108',\n",
       " 'sub-11112',\n",
       " 'sub-11122',\n",
       " 'sub-11128',\n",
       " 'sub-11131',\n",
       " 'sub-11142',\n",
       " 'sub-11143',\n",
       " 'sub-11149',\n",
       " 'sub-11156',\n",
       " 'sub-50004',\n",
       " 'sub-50005',\n",
       " 'sub-50006',\n",
       " 'sub-50007',\n",
       " 'sub-50008',\n",
       " 'sub-50010',\n",
       " 'sub-50013',\n",
       " 'sub-50014',\n",
       " 'sub-50015',\n",
       " 'sub-50016',\n",
       " 'sub-50020',\n",
       " 'sub-50021',\n",
       " 'sub-50022',\n",
       " 'sub-50023',\n",
       " 'sub-50025',\n",
       " 'sub-50027',\n",
       " 'sub-50029',\n",
       " 'sub-50032',\n",
       " 'sub-50033',\n",
       " 'sub-50034',\n",
       " 'sub-50035',\n",
       " 'sub-50036',\n",
       " 'sub-50038',\n",
       " 'sub-50043',\n",
       " 'sub-50047',\n",
       " 'sub-50048',\n",
       " 'sub-50049',\n",
       " 'sub-50050',\n",
       " 'sub-50051',\n",
       " 'sub-50052',\n",
       " 'sub-50053',\n",
       " 'sub-50054',\n",
       " 'sub-50055',\n",
       " 'sub-50056',\n",
       " 'sub-50058',\n",
       " 'sub-50059',\n",
       " 'sub-50060',\n",
       " 'sub-50061',\n",
       " 'sub-50064',\n",
       " 'sub-50066',\n",
       " 'sub-50067',\n",
       " 'sub-50069',\n",
       " 'sub-50073',\n",
       " 'sub-50075',\n",
       " 'sub-50076',\n",
       " 'sub-50077',\n",
       " 'sub-50080',\n",
       " 'sub-50081',\n",
       " 'sub-50083',\n",
       " 'sub-50085',\n",
       " 'sub-60001',\n",
       " 'sub-60005',\n",
       " 'sub-60006',\n",
       " 'sub-60008',\n",
       " 'sub-60010',\n",
       " 'sub-60011',\n",
       " 'sub-60012',\n",
       " 'sub-60014',\n",
       " 'sub-60015',\n",
       " 'sub-60016',\n",
       " 'sub-60017',\n",
       " 'sub-60020',\n",
       " 'sub-60021',\n",
       " 'sub-60022',\n",
       " 'sub-60028',\n",
       " 'sub-60030',\n",
       " 'sub-60033',\n",
       " 'sub-60036',\n",
       " 'sub-60037',\n",
       " 'sub-60038',\n",
       " 'sub-60042',\n",
       " 'sub-60043',\n",
       " 'sub-60045',\n",
       " 'sub-60046',\n",
       " 'sub-60048',\n",
       " 'sub-60049',\n",
       " 'sub-60051',\n",
       " 'sub-60052',\n",
       " 'sub-60053',\n",
       " 'sub-60055',\n",
       " 'sub-60056',\n",
       " 'sub-60057',\n",
       " 'sub-60060',\n",
       " 'sub-60062',\n",
       " 'sub-60065',\n",
       " 'sub-60066',\n",
       " 'sub-60068',\n",
       " 'sub-60070',\n",
       " 'sub-60072',\n",
       " 'sub-60073',\n",
       " 'sub-60074',\n",
       " 'sub-60076',\n",
       " 'sub-60077',\n",
       " 'sub-60078',\n",
       " 'sub-60079',\n",
       " 'sub-60080',\n",
       " 'sub-60084',\n",
       " 'sub-60087',\n",
       " 'sub-60089',\n",
       " 'sub-70001',\n",
       " 'sub-70002',\n",
       " 'sub-70004',\n",
       " 'sub-70007',\n",
       " 'sub-70010',\n",
       " 'sub-70015',\n",
       " 'sub-70017',\n",
       " 'sub-70020',\n",
       " 'sub-70021',\n",
       " 'sub-70022',\n",
       " 'sub-70026',\n",
       " 'sub-70029',\n",
       " 'sub-70033',\n",
       " 'sub-70034',\n",
       " 'sub-70037',\n",
       " 'sub-70040',\n",
       " 'sub-70046',\n",
       " 'sub-70048',\n",
       " 'sub-70049',\n",
       " 'sub-70051',\n",
       " 'sub-70052',\n",
       " 'sub-70055',\n",
       " 'sub-70057',\n",
       " 'sub-70058',\n",
       " 'sub-70060',\n",
       " 'sub-70061',\n",
       " 'sub-70065',\n",
       " 'sub-70068',\n",
       " 'sub-70069',\n",
       " 'sub-70070',\n",
       " 'sub-70072',\n",
       " 'sub-70073',\n",
       " 'sub-70074',\n",
       " 'sub-70075',\n",
       " 'sub-70076',\n",
       " 'sub-70077',\n",
       " 'sub-70079',\n",
       " 'sub-70080',\n",
       " 'sub-70081',\n",
       " 'sub-70083',\n",
       " 'sub-70086']"
      ]
     },
     "execution_count": 131,
     "metadata": {},
     "output_type": "execute_result"
    }
   ],
   "source": [
    "# Load subject ids\n",
    "scandirs = sorted(glob(os.path.join(path,'*/')))\n",
    "subids = [x.split('/')[-2] for x in scandirs]\n",
    "subids"
   ]
  },
  {
   "cell_type": "code",
   "execution_count": 132,
   "metadata": {},
   "outputs": [
    {
     "data": {
      "text/plain": [
       "265"
      ]
     },
     "execution_count": 132,
     "metadata": {},
     "output_type": "execute_result"
    }
   ],
   "source": [
    "len(subids)"
   ]
  },
  {
   "cell_type": "markdown",
   "metadata": {},
   "source": [
    "Okay that's weird.. seems we have about 100 more subjects than they do...\n",
    "Later on they do a train-test split -- could they have already left out 100 subjects before this notebook? \n",
    "Need to check this.\n",
    "\n",
    "Okay figured it out. They are using only controls. Need to separate the controls..."
   ]
  },
  {
   "cell_type": "code",
   "execution_count": 133,
   "metadata": {},
   "outputs": [
    {
     "data": {
      "text/html": [
       "<div>\n",
       "<style>\n",
       "    .dataframe thead tr:only-child th {\n",
       "        text-align: right;\n",
       "    }\n",
       "\n",
       "    .dataframe thead th {\n",
       "        text-align: left;\n",
       "    }\n",
       "\n",
       "    .dataframe tbody tr th {\n",
       "        vertical-align: top;\n",
       "    }\n",
       "</style>\n",
       "<table border=\"1\" class=\"dataframe\">\n",
       "  <thead>\n",
       "    <tr style=\"text-align: right;\">\n",
       "      <th></th>\n",
       "      <th>participant_id</th>\n",
       "      <th>diagnosis</th>\n",
       "      <th>age</th>\n",
       "      <th>gender</th>\n",
       "      <th>bart</th>\n",
       "      <th>bht</th>\n",
       "      <th>dwi</th>\n",
       "      <th>pamenc</th>\n",
       "      <th>pamret</th>\n",
       "      <th>rest</th>\n",
       "      <th>scap</th>\n",
       "      <th>stopsignal</th>\n",
       "      <th>T1w</th>\n",
       "      <th>taskswitch</th>\n",
       "      <th>ScannerSerialNumber</th>\n",
       "    </tr>\n",
       "  </thead>\n",
       "  <tbody>\n",
       "    <tr>\n",
       "      <th>0</th>\n",
       "      <td>sub-10159</td>\n",
       "      <td>CONTROL</td>\n",
       "      <td>30</td>\n",
       "      <td>F</td>\n",
       "      <td>1</td>\n",
       "      <td>n/a</td>\n",
       "      <td>1</td>\n",
       "      <td>n/a</td>\n",
       "      <td>n/a</td>\n",
       "      <td>1</td>\n",
       "      <td>1</td>\n",
       "      <td>1</td>\n",
       "      <td>1</td>\n",
       "      <td>1</td>\n",
       "      <td>35343.0</td>\n",
       "    </tr>\n",
       "    <tr>\n",
       "      <th>1</th>\n",
       "      <td>sub-10171</td>\n",
       "      <td>CONTROL</td>\n",
       "      <td>24</td>\n",
       "      <td>M</td>\n",
       "      <td>1</td>\n",
       "      <td>1</td>\n",
       "      <td>1</td>\n",
       "      <td>n/a</td>\n",
       "      <td>n/a</td>\n",
       "      <td>1</td>\n",
       "      <td>1</td>\n",
       "      <td>1</td>\n",
       "      <td>1</td>\n",
       "      <td>1</td>\n",
       "      <td>35343.0</td>\n",
       "    </tr>\n",
       "    <tr>\n",
       "      <th>2</th>\n",
       "      <td>sub-10189</td>\n",
       "      <td>CONTROL</td>\n",
       "      <td>49</td>\n",
       "      <td>M</td>\n",
       "      <td>1</td>\n",
       "      <td>n/a</td>\n",
       "      <td>1</td>\n",
       "      <td>n/a</td>\n",
       "      <td>n/a</td>\n",
       "      <td>1</td>\n",
       "      <td>1</td>\n",
       "      <td>1</td>\n",
       "      <td>1</td>\n",
       "      <td>1</td>\n",
       "      <td>35343.0</td>\n",
       "    </tr>\n",
       "    <tr>\n",
       "      <th>3</th>\n",
       "      <td>sub-10193</td>\n",
       "      <td>CONTROL</td>\n",
       "      <td>40</td>\n",
       "      <td>M</td>\n",
       "      <td>1</td>\n",
       "      <td>n/a</td>\n",
       "      <td>1</td>\n",
       "      <td>n/a</td>\n",
       "      <td>n/a</td>\n",
       "      <td>n/a</td>\n",
       "      <td>n/a</td>\n",
       "      <td>n/a</td>\n",
       "      <td>1</td>\n",
       "      <td>n/a</td>\n",
       "      <td>35343.0</td>\n",
       "    </tr>\n",
       "    <tr>\n",
       "      <th>4</th>\n",
       "      <td>sub-10206</td>\n",
       "      <td>CONTROL</td>\n",
       "      <td>21</td>\n",
       "      <td>M</td>\n",
       "      <td>1</td>\n",
       "      <td>n/a</td>\n",
       "      <td>1</td>\n",
       "      <td>n/a</td>\n",
       "      <td>n/a</td>\n",
       "      <td>1</td>\n",
       "      <td>1</td>\n",
       "      <td>1</td>\n",
       "      <td>1</td>\n",
       "      <td>1</td>\n",
       "      <td>35343.0</td>\n",
       "    </tr>\n",
       "  </tbody>\n",
       "</table>\n",
       "</div>"
      ],
      "text/plain": [
       "  participant_id diagnosis  age gender bart  bht dwi pamenc pamret rest scap  \\\n",
       "0      sub-10159   CONTROL   30      F    1  n/a   1    n/a    n/a    1    1   \n",
       "1      sub-10171   CONTROL   24      M    1    1   1    n/a    n/a    1    1   \n",
       "2      sub-10189   CONTROL   49      M    1  n/a   1    n/a    n/a    1    1   \n",
       "3      sub-10193   CONTROL   40      M    1  n/a   1    n/a    n/a  n/a  n/a   \n",
       "4      sub-10206   CONTROL   21      M    1  n/a   1    n/a    n/a    1    1   \n",
       "\n",
       "  stopsignal T1w taskswitch  ScannerSerialNumber  \n",
       "0          1   1          1              35343.0  \n",
       "1          1   1          1              35343.0  \n",
       "2          1   1          1              35343.0  \n",
       "3        n/a   1        n/a              35343.0  \n",
       "4          1   1          1              35343.0  "
      ]
     },
     "execution_count": 133,
     "metadata": {},
     "output_type": "execute_result"
    }
   ],
   "source": [
    "df = pd.read_csv('/data1/users/jvogel/nilearn_tutorial/ds000030_R1.0.4/participants.tsv',\n",
    "                    sep = '\\t')\n",
    "df.head()"
   ]
  },
  {
   "cell_type": "code",
   "execution_count": 134,
   "metadata": {
    "collapsed": true
   },
   "outputs": [],
   "source": [
    "control_ids = df[df.diagnosis=='CONTROL']['participant_id'].values"
   ]
  },
  {
   "cell_type": "code",
   "execution_count": 135,
   "metadata": {},
   "outputs": [
    {
     "data": {
      "text/plain": [
       "130"
      ]
     },
     "execution_count": 135,
     "metadata": {},
     "output_type": "execute_result"
    }
   ],
   "source": [
    "len(control_ids)"
   ]
  },
  {
   "cell_type": "markdown",
   "metadata": {},
   "source": [
    "still a disparity but at least we're a lot closer now..."
   ]
  },
  {
   "cell_type": "code",
   "execution_count": 136,
   "metadata": {},
   "outputs": [
    {
     "data": {
      "text/plain": [
       "array([30, 24, 49, 40, 21, 33, 35, 31, 40, 22, 28, 38, 41, 30, 43, 27, 48,\n",
       "       49, 25, 23, 29, 34, 29, 22, 45, 32, 25, 25, 43, 42, 24, 42, 49, 50,\n",
       "       25, 36, 25, 26, 37, 25, 40, 30, 21, 31, 22, 21, 25, 21, 24, 46, 24,\n",
       "       24, 23, 26, 25, 32, 23, 28, 31, 21, 25, 25, 29, 42, 24, 22, 26, 28,\n",
       "       25, 39, 32, 28, 25, 23, 22, 23, 41, 38, 36, 35, 26, 47, 41, 23, 23,\n",
       "       21, 25, 44, 37, 25, 22, 27, 30, 45, 24, 27, 32, 47, 26, 49, 47, 40,\n",
       "       40, 48, 26, 22, 45, 49, 37, 23, 39, 22, 25, 21, 24, 43, 39, 21, 27,\n",
       "       27, 21, 29, 25, 40, 28, 38, 24, 28, 32, 25])"
      ]
     },
     "execution_count": 136,
     "metadata": {},
     "output_type": "execute_result"
    }
   ],
   "source": [
    "y_age = df.loc[df.participant_id.isin(control_ids),'age'].values\n",
    "y_age"
   ]
  },
  {
   "cell_type": "code",
   "execution_count": 137,
   "metadata": {},
   "outputs": [
    {
     "data": {
      "text/plain": [
       "'/data1/users/jvogel/nilearn_tutorial/ds000030_R1.0.5/derivatives/fmriprep/sub-10159/func/sub-10159_task-rest_bold_confounds.tsv'"
      ]
     },
     "execution_count": 137,
     "metadata": {},
     "output_type": "execute_result"
    }
   ],
   "source": [
    "confounds[0]"
   ]
  },
  {
   "cell_type": "code",
   "execution_count": 138,
   "metadata": {},
   "outputs": [
    {
     "name": "stdout",
     "output_type": "stream",
     "text": [
      "122 122\n"
     ]
    }
   ],
   "source": [
    "filenames = sorted(glob(os.path.join(path,'sub-*/func/*MNI*preproc.nii.gz')))\n",
    "filenames = [x for x in filenames if x.split('/')[-1].split('_')[0] in control_ids]\n",
    "confounds = sorted(glob(os.path.join(path,'sub-*/func/*confounds.tsv')))\n",
    "confounds = [x for x in confounds if x.split('/')[-1].split('_')[0] in control_ids]\n",
    "print(len(filenames), len(confounds))"
   ]
  },
  {
   "cell_type": "markdown",
   "metadata": {},
   "source": [
    "Bingo"
   ]
  },
  {
   "cell_type": "markdown",
   "metadata": {},
   "source": [
    "Need to clean up the disparity between y_age and filenames"
   ]
  },
  {
   "cell_type": "code",
   "execution_count": 139,
   "metadata": {},
   "outputs": [
    {
     "data": {
      "text/plain": [
       "['sub-10193',\n",
       " 'sub-10299',\n",
       " 'sub-10428',\n",
       " 'sub-10501',\n",
       " 'sub-10948',\n",
       " 'sub-10971',\n",
       " 'sub-11082',\n",
       " 'sub-11121']"
      ]
     },
     "execution_count": 139,
     "metadata": {},
     "output_type": "execute_result"
    }
   ],
   "source": [
    "good_ids = [x.split('/')[-1].split('_')[0] for x in filenames if x.split('/')[-1].split('_')[0] in subj]\n",
    "extras = [x for x in control_ids if x not in good_ids]\n",
    "sorted(extras)"
   ]
  },
  {
   "cell_type": "code",
   "execution_count": 140,
   "metadata": {},
   "outputs": [
    {
     "data": {
      "text/plain": [
       "122"
      ]
     },
     "execution_count": 140,
     "metadata": {},
     "output_type": "execute_result"
    }
   ],
   "source": [
    "jnk = control_ids.tolist()\n",
    "[jnk.remove(x) for x in extras]\n",
    "final_ids = jnk\n",
    "len(final_ids)"
   ]
  },
  {
   "cell_type": "code",
   "execution_count": 141,
   "metadata": {},
   "outputs": [
    {
     "data": {
      "text/plain": [
       "array([30, 24, 49, 21, 33, 35, 31, 40, 22, 28, 38, 41, 30, 43, 27, 48, 49,\n",
       "       23, 29, 34, 29, 22, 45, 32, 25, 25, 43, 42, 24, 42, 49, 50, 36, 25,\n",
       "       26, 37, 25, 40, 30, 21, 31, 22, 25, 21, 24, 46, 24, 24, 23, 26, 25,\n",
       "       32, 23, 28, 31, 21, 25, 25, 29, 42, 24, 22, 26, 28, 25, 39, 32, 28,\n",
       "       25, 23, 22, 23, 41, 38, 36, 35, 26, 47, 41, 23, 23, 21, 25, 44, 37,\n",
       "       25, 27, 30, 45, 24, 32, 47, 26, 49, 47, 40, 40, 48, 26, 22, 45, 49,\n",
       "       37, 23, 39, 22, 21, 24, 43, 39, 21, 27, 27, 21, 29, 40, 28, 38, 24,\n",
       "       28, 32, 25])"
      ]
     },
     "execution_count": 141,
     "metadata": {},
     "output_type": "execute_result"
    }
   ],
   "source": [
    "y_age = df.loc[df.participant_id.isin(final_ids),'age'].values\n",
    "y_age"
   ]
  },
  {
   "cell_type": "code",
   "execution_count": 159,
   "metadata": {},
   "outputs": [
    {
     "data": {
      "text/plain": [
       "38"
      ]
     },
     "execution_count": 159,
     "metadata": {},
     "output_type": "execute_result"
    }
   ],
   "source": [
    "len(y_age[84:])"
   ]
  },
  {
   "cell_type": "code",
   "execution_count": 142,
   "metadata": {},
   "outputs": [],
   "source": [
    "from nilearn import datasets\n",
    "\n",
    "parcellations = datasets.fetch_atlas_basc_multiscale_2015(version='sym')\n",
    "\n",
    "# We show here networks of 64, 197, 444\n",
    "networks_64 = parcellations['scale064']\n",
    "networks_197 = parcellations['scale197']\n",
    "networks_444 = parcellations['scale444']"
   ]
  },
  {
   "cell_type": "code",
   "execution_count": 143,
   "metadata": {},
   "outputs": [
    {
     "data": {
      "text/plain": [
       "'/data1/users/jvogel/nilearn_tutorial/output/'"
      ]
     },
     "execution_count": 143,
     "metadata": {},
     "output_type": "execute_result"
    }
   ],
   "source": [
    "output_dir"
   ]
  },
  {
   "cell_type": "code",
   "execution_count": 144,
   "metadata": {},
   "outputs": [
    {
     "name": "stderr",
     "output_type": "stream",
     "text": [
      "/home/users/jvogel/anaconda2/envs/py3/lib/python3.6/site-packages/scipy/ndimage/interpolation.py:462: UserWarning: The behaviour of affine_transform with a one-dimensional array supplied for the matrix parameter has changed in scipy 0.18.0.\n",
      "  \"The behaviour of affine_transform with a one-dimensional \"\n"
     ]
    },
    {
     "name": "stdout",
     "output_type": "stream",
     "text": [
      "/data1/users/jvogel/nilearn_tutorial/ds000030_R1.0.5/derivatives/fmriprep/sub-10159/func/sub-10159_task-rest_bold_space-MNI152NLin2009cAsym_preproc.nii.gz finished\n",
      "/data1/users/jvogel/nilearn_tutorial/ds000030_R1.0.5/derivatives/fmriprep/sub-10171/func/sub-10171_task-rest_bold_space-MNI152NLin2009cAsym_preproc.nii.gz finished\n",
      "/data1/users/jvogel/nilearn_tutorial/ds000030_R1.0.5/derivatives/fmriprep/sub-10189/func/sub-10189_task-rest_bold_space-MNI152NLin2009cAsym_preproc.nii.gz finished\n",
      "/data1/users/jvogel/nilearn_tutorial/ds000030_R1.0.5/derivatives/fmriprep/sub-10206/func/sub-10206_task-rest_bold_space-MNI152NLin2009cAsym_preproc.nii.gz finished\n",
      "/data1/users/jvogel/nilearn_tutorial/ds000030_R1.0.5/derivatives/fmriprep/sub-10217/func/sub-10217_task-rest_bold_space-MNI152NLin2009cAsym_preproc.nii.gz finished\n",
      "/data1/users/jvogel/nilearn_tutorial/ds000030_R1.0.5/derivatives/fmriprep/sub-10225/func/sub-10225_task-rest_bold_space-MNI152NLin2009cAsym_preproc.nii.gz finished\n",
      "/data1/users/jvogel/nilearn_tutorial/ds000030_R1.0.5/derivatives/fmriprep/sub-10227/func/sub-10227_task-rest_bold_space-MNI152NLin2009cAsym_preproc.nii.gz finished\n",
      "/data1/users/jvogel/nilearn_tutorial/ds000030_R1.0.5/derivatives/fmriprep/sub-10228/func/sub-10228_task-rest_bold_space-MNI152NLin2009cAsym_preproc.nii.gz finished\n",
      "/data1/users/jvogel/nilearn_tutorial/ds000030_R1.0.5/derivatives/fmriprep/sub-10235/func/sub-10235_task-rest_bold_space-MNI152NLin2009cAsym_preproc.nii.gz finished\n",
      "/data1/users/jvogel/nilearn_tutorial/ds000030_R1.0.5/derivatives/fmriprep/sub-10249/func/sub-10249_task-rest_bold_space-MNI152NLin2009cAsym_preproc.nii.gz finished\n",
      "/data1/users/jvogel/nilearn_tutorial/ds000030_R1.0.5/derivatives/fmriprep/sub-10269/func/sub-10269_task-rest_bold_space-MNI152NLin2009cAsym_preproc.nii.gz finished\n",
      "/data1/users/jvogel/nilearn_tutorial/ds000030_R1.0.5/derivatives/fmriprep/sub-10271/func/sub-10271_task-rest_bold_space-MNI152NLin2009cAsym_preproc.nii.gz finished\n",
      "/data1/users/jvogel/nilearn_tutorial/ds000030_R1.0.5/derivatives/fmriprep/sub-10273/func/sub-10273_task-rest_bold_space-MNI152NLin2009cAsym_preproc.nii.gz finished\n",
      "/data1/users/jvogel/nilearn_tutorial/ds000030_R1.0.5/derivatives/fmriprep/sub-10274/func/sub-10274_task-rest_bold_space-MNI152NLin2009cAsym_preproc.nii.gz finished\n",
      "/data1/users/jvogel/nilearn_tutorial/ds000030_R1.0.5/derivatives/fmriprep/sub-10280/func/sub-10280_task-rest_bold_space-MNI152NLin2009cAsym_preproc.nii.gz finished\n",
      "/data1/users/jvogel/nilearn_tutorial/ds000030_R1.0.5/derivatives/fmriprep/sub-10290/func/sub-10290_task-rest_bold_space-MNI152NLin2009cAsym_preproc.nii.gz finished\n",
      "/data1/users/jvogel/nilearn_tutorial/ds000030_R1.0.5/derivatives/fmriprep/sub-10292/func/sub-10292_task-rest_bold_space-MNI152NLin2009cAsym_preproc.nii.gz finished\n",
      "/data1/users/jvogel/nilearn_tutorial/ds000030_R1.0.5/derivatives/fmriprep/sub-10304/func/sub-10304_task-rest_bold_space-MNI152NLin2009cAsym_preproc.nii.gz finished\n",
      "/data1/users/jvogel/nilearn_tutorial/ds000030_R1.0.5/derivatives/fmriprep/sub-10316/func/sub-10316_task-rest_bold_space-MNI152NLin2009cAsym_preproc.nii.gz finished\n",
      "/data1/users/jvogel/nilearn_tutorial/ds000030_R1.0.5/derivatives/fmriprep/sub-10321/func/sub-10321_task-rest_bold_space-MNI152NLin2009cAsym_preproc.nii.gz finished\n",
      "/data1/users/jvogel/nilearn_tutorial/ds000030_R1.0.5/derivatives/fmriprep/sub-10325/func/sub-10325_task-rest_bold_space-MNI152NLin2009cAsym_preproc.nii.gz finished\n",
      "/data1/users/jvogel/nilearn_tutorial/ds000030_R1.0.5/derivatives/fmriprep/sub-10329/func/sub-10329_task-rest_bold_space-MNI152NLin2009cAsym_preproc.nii.gz finished\n",
      "/data1/users/jvogel/nilearn_tutorial/ds000030_R1.0.5/derivatives/fmriprep/sub-10339/func/sub-10339_task-rest_bold_space-MNI152NLin2009cAsym_preproc.nii.gz finished\n",
      "/data1/users/jvogel/nilearn_tutorial/ds000030_R1.0.5/derivatives/fmriprep/sub-10340/func/sub-10340_task-rest_bold_space-MNI152NLin2009cAsym_preproc.nii.gz finished\n",
      "/data1/users/jvogel/nilearn_tutorial/ds000030_R1.0.5/derivatives/fmriprep/sub-10345/func/sub-10345_task-rest_bold_space-MNI152NLin2009cAsym_preproc.nii.gz finished\n",
      "/data1/users/jvogel/nilearn_tutorial/ds000030_R1.0.5/derivatives/fmriprep/sub-10347/func/sub-10347_task-rest_bold_space-MNI152NLin2009cAsym_preproc.nii.gz finished\n",
      "/data1/users/jvogel/nilearn_tutorial/ds000030_R1.0.5/derivatives/fmriprep/sub-10356/func/sub-10356_task-rest_bold_space-MNI152NLin2009cAsym_preproc.nii.gz finished\n",
      "/data1/users/jvogel/nilearn_tutorial/ds000030_R1.0.5/derivatives/fmriprep/sub-10361/func/sub-10361_task-rest_bold_space-MNI152NLin2009cAsym_preproc.nii.gz finished\n",
      "/data1/users/jvogel/nilearn_tutorial/ds000030_R1.0.5/derivatives/fmriprep/sub-10365/func/sub-10365_task-rest_bold_space-MNI152NLin2009cAsym_preproc.nii.gz finished\n",
      "/data1/users/jvogel/nilearn_tutorial/ds000030_R1.0.5/derivatives/fmriprep/sub-10376/func/sub-10376_task-rest_bold_space-MNI152NLin2009cAsym_preproc.nii.gz finished\n",
      "/data1/users/jvogel/nilearn_tutorial/ds000030_R1.0.5/derivatives/fmriprep/sub-10377/func/sub-10377_task-rest_bold_space-MNI152NLin2009cAsym_preproc.nii.gz finished\n",
      "/data1/users/jvogel/nilearn_tutorial/ds000030_R1.0.5/derivatives/fmriprep/sub-10388/func/sub-10388_task-rest_bold_space-MNI152NLin2009cAsym_preproc.nii.gz finished\n",
      "/data1/users/jvogel/nilearn_tutorial/ds000030_R1.0.5/derivatives/fmriprep/sub-10429/func/sub-10429_task-rest_bold_space-MNI152NLin2009cAsym_preproc.nii.gz finished\n",
      "/data1/users/jvogel/nilearn_tutorial/ds000030_R1.0.5/derivatives/fmriprep/sub-10438/func/sub-10438_task-rest_bold_space-MNI152NLin2009cAsym_preproc.nii.gz finished\n",
      "/data1/users/jvogel/nilearn_tutorial/ds000030_R1.0.5/derivatives/fmriprep/sub-10440/func/sub-10440_task-rest_bold_space-MNI152NLin2009cAsym_preproc.nii.gz finished\n",
      "/data1/users/jvogel/nilearn_tutorial/ds000030_R1.0.5/derivatives/fmriprep/sub-10448/func/sub-10448_task-rest_bold_space-MNI152NLin2009cAsym_preproc.nii.gz finished\n",
      "/data1/users/jvogel/nilearn_tutorial/ds000030_R1.0.5/derivatives/fmriprep/sub-10455/func/sub-10455_task-rest_bold_space-MNI152NLin2009cAsym_preproc.nii.gz finished\n",
      "/data1/users/jvogel/nilearn_tutorial/ds000030_R1.0.5/derivatives/fmriprep/sub-10460/func/sub-10460_task-rest_bold_space-MNI152NLin2009cAsym_preproc.nii.gz finished\n",
      "/data1/users/jvogel/nilearn_tutorial/ds000030_R1.0.5/derivatives/fmriprep/sub-10471/func/sub-10471_task-rest_bold_space-MNI152NLin2009cAsym_preproc.nii.gz finished\n",
      "/data1/users/jvogel/nilearn_tutorial/ds000030_R1.0.5/derivatives/fmriprep/sub-10478/func/sub-10478_task-rest_bold_space-MNI152NLin2009cAsym_preproc.nii.gz finished\n",
      "/data1/users/jvogel/nilearn_tutorial/ds000030_R1.0.5/derivatives/fmriprep/sub-10487/func/sub-10487_task-rest_bold_space-MNI152NLin2009cAsym_preproc.nii.gz finished\n",
      "/data1/users/jvogel/nilearn_tutorial/ds000030_R1.0.5/derivatives/fmriprep/sub-10492/func/sub-10492_task-rest_bold_space-MNI152NLin2009cAsym_preproc.nii.gz finished\n",
      "/data1/users/jvogel/nilearn_tutorial/ds000030_R1.0.5/derivatives/fmriprep/sub-10506/func/sub-10506_task-rest_bold_space-MNI152NLin2009cAsym_preproc.nii.gz finished\n",
      "/data1/users/jvogel/nilearn_tutorial/ds000030_R1.0.5/derivatives/fmriprep/sub-10517/func/sub-10517_task-rest_bold_space-MNI152NLin2009cAsym_preproc.nii.gz finished\n",
      "/data1/users/jvogel/nilearn_tutorial/ds000030_R1.0.5/derivatives/fmriprep/sub-10523/func/sub-10523_task-rest_bold_space-MNI152NLin2009cAsym_preproc.nii.gz finished\n",
      "/data1/users/jvogel/nilearn_tutorial/ds000030_R1.0.5/derivatives/fmriprep/sub-10524/func/sub-10524_task-rest_bold_space-MNI152NLin2009cAsym_preproc.nii.gz finished\n",
      "/data1/users/jvogel/nilearn_tutorial/ds000030_R1.0.5/derivatives/fmriprep/sub-10525/func/sub-10525_task-rest_bold_space-MNI152NLin2009cAsym_preproc.nii.gz finished\n",
      "/data1/users/jvogel/nilearn_tutorial/ds000030_R1.0.5/derivatives/fmriprep/sub-10527/func/sub-10527_task-rest_bold_space-MNI152NLin2009cAsym_preproc.nii.gz finished\n",
      "/data1/users/jvogel/nilearn_tutorial/ds000030_R1.0.5/derivatives/fmriprep/sub-10530/func/sub-10530_task-rest_bold_space-MNI152NLin2009cAsym_preproc.nii.gz finished\n",
      "/data1/users/jvogel/nilearn_tutorial/ds000030_R1.0.5/derivatives/fmriprep/sub-10557/func/sub-10557_task-rest_bold_space-MNI152NLin2009cAsym_preproc.nii.gz finished\n"
     ]
    },
    {
     "name": "stdout",
     "output_type": "stream",
     "text": [
      "/data1/users/jvogel/nilearn_tutorial/ds000030_R1.0.5/derivatives/fmriprep/sub-10565/func/sub-10565_task-rest_bold_space-MNI152NLin2009cAsym_preproc.nii.gz finished\n",
      "/data1/users/jvogel/nilearn_tutorial/ds000030_R1.0.5/derivatives/fmriprep/sub-10570/func/sub-10570_task-rest_bold_space-MNI152NLin2009cAsym_preproc.nii.gz finished\n",
      "/data1/users/jvogel/nilearn_tutorial/ds000030_R1.0.5/derivatives/fmriprep/sub-10575/func/sub-10575_task-rest_bold_space-MNI152NLin2009cAsym_preproc.nii.gz finished\n",
      "/data1/users/jvogel/nilearn_tutorial/ds000030_R1.0.5/derivatives/fmriprep/sub-10624/func/sub-10624_task-rest_bold_space-MNI152NLin2009cAsym_preproc.nii.gz finished\n",
      "/data1/users/jvogel/nilearn_tutorial/ds000030_R1.0.5/derivatives/fmriprep/sub-10629/func/sub-10629_task-rest_bold_space-MNI152NLin2009cAsym_preproc.nii.gz finished\n",
      "/data1/users/jvogel/nilearn_tutorial/ds000030_R1.0.5/derivatives/fmriprep/sub-10631/func/sub-10631_task-rest_bold_space-MNI152NLin2009cAsym_preproc.nii.gz finished\n",
      "/data1/users/jvogel/nilearn_tutorial/ds000030_R1.0.5/derivatives/fmriprep/sub-10638/func/sub-10638_task-rest_bold_space-MNI152NLin2009cAsym_preproc.nii.gz finished\n",
      "/data1/users/jvogel/nilearn_tutorial/ds000030_R1.0.5/derivatives/fmriprep/sub-10668/func/sub-10668_task-rest_bold_space-MNI152NLin2009cAsym_preproc.nii.gz finished\n",
      "/data1/users/jvogel/nilearn_tutorial/ds000030_R1.0.5/derivatives/fmriprep/sub-10672/func/sub-10672_task-rest_bold_space-MNI152NLin2009cAsym_preproc.nii.gz finished\n",
      "/data1/users/jvogel/nilearn_tutorial/ds000030_R1.0.5/derivatives/fmriprep/sub-10674/func/sub-10674_task-rest_bold_space-MNI152NLin2009cAsym_preproc.nii.gz finished\n",
      "/data1/users/jvogel/nilearn_tutorial/ds000030_R1.0.5/derivatives/fmriprep/sub-10678/func/sub-10678_task-rest_bold_space-MNI152NLin2009cAsym_preproc.nii.gz finished\n",
      "/data1/users/jvogel/nilearn_tutorial/ds000030_R1.0.5/derivatives/fmriprep/sub-10680/func/sub-10680_task-rest_bold_space-MNI152NLin2009cAsym_preproc.nii.gz finished\n",
      "/data1/users/jvogel/nilearn_tutorial/ds000030_R1.0.5/derivatives/fmriprep/sub-10686/func/sub-10686_task-rest_bold_space-MNI152NLin2009cAsym_preproc.nii.gz finished\n",
      "/data1/users/jvogel/nilearn_tutorial/ds000030_R1.0.5/derivatives/fmriprep/sub-10692/func/sub-10692_task-rest_bold_space-MNI152NLin2009cAsym_preproc.nii.gz finished\n",
      "/data1/users/jvogel/nilearn_tutorial/ds000030_R1.0.5/derivatives/fmriprep/sub-10696/func/sub-10696_task-rest_bold_space-MNI152NLin2009cAsym_preproc.nii.gz finished\n",
      "/data1/users/jvogel/nilearn_tutorial/ds000030_R1.0.5/derivatives/fmriprep/sub-10697/func/sub-10697_task-rest_bold_space-MNI152NLin2009cAsym_preproc.nii.gz finished\n",
      "/data1/users/jvogel/nilearn_tutorial/ds000030_R1.0.5/derivatives/fmriprep/sub-10704/func/sub-10704_task-rest_bold_space-MNI152NLin2009cAsym_preproc.nii.gz finished\n",
      "/data1/users/jvogel/nilearn_tutorial/ds000030_R1.0.5/derivatives/fmriprep/sub-10707/func/sub-10707_task-rest_bold_space-MNI152NLin2009cAsym_preproc.nii.gz finished\n",
      "/data1/users/jvogel/nilearn_tutorial/ds000030_R1.0.5/derivatives/fmriprep/sub-10708/func/sub-10708_task-rest_bold_space-MNI152NLin2009cAsym_preproc.nii.gz finished\n",
      "/data1/users/jvogel/nilearn_tutorial/ds000030_R1.0.5/derivatives/fmriprep/sub-10719/func/sub-10719_task-rest_bold_space-MNI152NLin2009cAsym_preproc.nii.gz finished\n",
      "/data1/users/jvogel/nilearn_tutorial/ds000030_R1.0.5/derivatives/fmriprep/sub-10724/func/sub-10724_task-rest_bold_space-MNI152NLin2009cAsym_preproc.nii.gz finished\n",
      "/data1/users/jvogel/nilearn_tutorial/ds000030_R1.0.5/derivatives/fmriprep/sub-10746/func/sub-10746_task-rest_bold_space-MNI152NLin2009cAsym_preproc.nii.gz finished\n",
      "/data1/users/jvogel/nilearn_tutorial/ds000030_R1.0.5/derivatives/fmriprep/sub-10762/func/sub-10762_task-rest_bold_space-MNI152NLin2009cAsym_preproc.nii.gz finished\n",
      "/data1/users/jvogel/nilearn_tutorial/ds000030_R1.0.5/derivatives/fmriprep/sub-10779/func/sub-10779_task-rest_bold_space-MNI152NLin2009cAsym_preproc.nii.gz finished\n",
      "/data1/users/jvogel/nilearn_tutorial/ds000030_R1.0.5/derivatives/fmriprep/sub-10785/func/sub-10785_task-rest_bold_space-MNI152NLin2009cAsym_preproc.nii.gz finished\n",
      "/data1/users/jvogel/nilearn_tutorial/ds000030_R1.0.5/derivatives/fmriprep/sub-10788/func/sub-10788_task-rest_bold_space-MNI152NLin2009cAsym_preproc.nii.gz finished\n",
      "/data1/users/jvogel/nilearn_tutorial/ds000030_R1.0.5/derivatives/fmriprep/sub-10844/func/sub-10844_task-rest_bold_space-MNI152NLin2009cAsym_preproc.nii.gz finished\n",
      "/data1/users/jvogel/nilearn_tutorial/ds000030_R1.0.5/derivatives/fmriprep/sub-10855/func/sub-10855_task-rest_bold_space-MNI152NLin2009cAsym_preproc.nii.gz finished\n",
      "/data1/users/jvogel/nilearn_tutorial/ds000030_R1.0.5/derivatives/fmriprep/sub-10871/func/sub-10871_task-rest_bold_space-MNI152NLin2009cAsym_preproc.nii.gz finished\n",
      "/data1/users/jvogel/nilearn_tutorial/ds000030_R1.0.5/derivatives/fmriprep/sub-10877/func/sub-10877_task-rest_bold_space-MNI152NLin2009cAsym_preproc.nii.gz finished\n",
      "/data1/users/jvogel/nilearn_tutorial/ds000030_R1.0.5/derivatives/fmriprep/sub-10882/func/sub-10882_task-rest_bold_space-MNI152NLin2009cAsym_preproc.nii.gz finished\n",
      "/data1/users/jvogel/nilearn_tutorial/ds000030_R1.0.5/derivatives/fmriprep/sub-10891/func/sub-10891_task-rest_bold_space-MNI152NLin2009cAsym_preproc.nii.gz finished\n",
      "/data1/users/jvogel/nilearn_tutorial/ds000030_R1.0.5/derivatives/fmriprep/sub-10893/func/sub-10893_task-rest_bold_space-MNI152NLin2009cAsym_preproc.nii.gz finished\n",
      "/data1/users/jvogel/nilearn_tutorial/ds000030_R1.0.5/derivatives/fmriprep/sub-10912/func/sub-10912_task-rest_bold_space-MNI152NLin2009cAsym_preproc.nii.gz finished\n",
      "/data1/users/jvogel/nilearn_tutorial/ds000030_R1.0.5/derivatives/fmriprep/sub-10934/func/sub-10934_task-rest_bold_space-MNI152NLin2009cAsym_preproc.nii.gz finished\n",
      "/data1/users/jvogel/nilearn_tutorial/ds000030_R1.0.5/derivatives/fmriprep/sub-10940/func/sub-10940_task-rest_bold_space-MNI152NLin2009cAsym_preproc.nii.gz finished\n",
      "/data1/users/jvogel/nilearn_tutorial/ds000030_R1.0.5/derivatives/fmriprep/sub-10949/func/sub-10949_task-rest_bold_space-MNI152NLin2009cAsym_preproc.nii.gz finished\n",
      "/data1/users/jvogel/nilearn_tutorial/ds000030_R1.0.5/derivatives/fmriprep/sub-10958/func/sub-10958_task-rest_bold_space-MNI152NLin2009cAsym_preproc.nii.gz finished\n",
      "/data1/users/jvogel/nilearn_tutorial/ds000030_R1.0.5/derivatives/fmriprep/sub-10963/func/sub-10963_task-rest_bold_space-MNI152NLin2009cAsym_preproc.nii.gz finished\n",
      "/data1/users/jvogel/nilearn_tutorial/ds000030_R1.0.5/derivatives/fmriprep/sub-10968/func/sub-10968_task-rest_bold_space-MNI152NLin2009cAsym_preproc.nii.gz finished\n",
      "/data1/users/jvogel/nilearn_tutorial/ds000030_R1.0.5/derivatives/fmriprep/sub-10975/func/sub-10975_task-rest_bold_space-MNI152NLin2009cAsym_preproc.nii.gz finished\n",
      "/data1/users/jvogel/nilearn_tutorial/ds000030_R1.0.5/derivatives/fmriprep/sub-10977/func/sub-10977_task-rest_bold_space-MNI152NLin2009cAsym_preproc.nii.gz finished\n",
      "/data1/users/jvogel/nilearn_tutorial/ds000030_R1.0.5/derivatives/fmriprep/sub-10987/func/sub-10987_task-rest_bold_space-MNI152NLin2009cAsym_preproc.nii.gz finished\n",
      "/data1/users/jvogel/nilearn_tutorial/ds000030_R1.0.5/derivatives/fmriprep/sub-10998/func/sub-10998_task-rest_bold_space-MNI152NLin2009cAsym_preproc.nii.gz finished\n",
      "/data1/users/jvogel/nilearn_tutorial/ds000030_R1.0.5/derivatives/fmriprep/sub-11019/func/sub-11019_task-rest_bold_space-MNI152NLin2009cAsym_preproc.nii.gz finished\n",
      "/data1/users/jvogel/nilearn_tutorial/ds000030_R1.0.5/derivatives/fmriprep/sub-11030/func/sub-11030_task-rest_bold_space-MNI152NLin2009cAsym_preproc.nii.gz finished\n",
      "/data1/users/jvogel/nilearn_tutorial/ds000030_R1.0.5/derivatives/fmriprep/sub-11044/func/sub-11044_task-rest_bold_space-MNI152NLin2009cAsym_preproc.nii.gz finished\n",
      "/data1/users/jvogel/nilearn_tutorial/ds000030_R1.0.5/derivatives/fmriprep/sub-11050/func/sub-11050_task-rest_bold_space-MNI152NLin2009cAsym_preproc.nii.gz finished\n",
      "/data1/users/jvogel/nilearn_tutorial/ds000030_R1.0.5/derivatives/fmriprep/sub-11052/func/sub-11052_task-rest_bold_space-MNI152NLin2009cAsym_preproc.nii.gz finished\n",
      "/data1/users/jvogel/nilearn_tutorial/ds000030_R1.0.5/derivatives/fmriprep/sub-11059/func/sub-11059_task-rest_bold_space-MNI152NLin2009cAsym_preproc.nii.gz finished\n"
     ]
    },
    {
     "name": "stdout",
     "output_type": "stream",
     "text": [
      "/data1/users/jvogel/nilearn_tutorial/ds000030_R1.0.5/derivatives/fmriprep/sub-11061/func/sub-11061_task-rest_bold_space-MNI152NLin2009cAsym_preproc.nii.gz finished\n",
      "/data1/users/jvogel/nilearn_tutorial/ds000030_R1.0.5/derivatives/fmriprep/sub-11062/func/sub-11062_task-rest_bold_space-MNI152NLin2009cAsym_preproc.nii.gz finished\n",
      "/data1/users/jvogel/nilearn_tutorial/ds000030_R1.0.5/derivatives/fmriprep/sub-11066/func/sub-11066_task-rest_bold_space-MNI152NLin2009cAsym_preproc.nii.gz finished\n",
      "/data1/users/jvogel/nilearn_tutorial/ds000030_R1.0.5/derivatives/fmriprep/sub-11067/func/sub-11067_task-rest_bold_space-MNI152NLin2009cAsym_preproc.nii.gz finished\n",
      "/data1/users/jvogel/nilearn_tutorial/ds000030_R1.0.5/derivatives/fmriprep/sub-11068/func/sub-11068_task-rest_bold_space-MNI152NLin2009cAsym_preproc.nii.gz finished\n",
      "/data1/users/jvogel/nilearn_tutorial/ds000030_R1.0.5/derivatives/fmriprep/sub-11077/func/sub-11077_task-rest_bold_space-MNI152NLin2009cAsym_preproc.nii.gz finished\n",
      "/data1/users/jvogel/nilearn_tutorial/ds000030_R1.0.5/derivatives/fmriprep/sub-11088/func/sub-11088_task-rest_bold_space-MNI152NLin2009cAsym_preproc.nii.gz finished\n",
      "/data1/users/jvogel/nilearn_tutorial/ds000030_R1.0.5/derivatives/fmriprep/sub-11090/func/sub-11090_task-rest_bold_space-MNI152NLin2009cAsym_preproc.nii.gz finished\n",
      "/data1/users/jvogel/nilearn_tutorial/ds000030_R1.0.5/derivatives/fmriprep/sub-11097/func/sub-11097_task-rest_bold_space-MNI152NLin2009cAsym_preproc.nii.gz finished\n",
      "/data1/users/jvogel/nilearn_tutorial/ds000030_R1.0.5/derivatives/fmriprep/sub-11098/func/sub-11098_task-rest_bold_space-MNI152NLin2009cAsym_preproc.nii.gz finished\n",
      "/data1/users/jvogel/nilearn_tutorial/ds000030_R1.0.5/derivatives/fmriprep/sub-11104/func/sub-11104_task-rest_bold_space-MNI152NLin2009cAsym_preproc.nii.gz finished\n",
      "/data1/users/jvogel/nilearn_tutorial/ds000030_R1.0.5/derivatives/fmriprep/sub-11105/func/sub-11105_task-rest_bold_space-MNI152NLin2009cAsym_preproc.nii.gz finished\n",
      "/data1/users/jvogel/nilearn_tutorial/ds000030_R1.0.5/derivatives/fmriprep/sub-11106/func/sub-11106_task-rest_bold_space-MNI152NLin2009cAsym_preproc.nii.gz finished\n",
      "/data1/users/jvogel/nilearn_tutorial/ds000030_R1.0.5/derivatives/fmriprep/sub-11108/func/sub-11108_task-rest_bold_space-MNI152NLin2009cAsym_preproc.nii.gz finished\n",
      "/data1/users/jvogel/nilearn_tutorial/ds000030_R1.0.5/derivatives/fmriprep/sub-11112/func/sub-11112_task-rest_bold_space-MNI152NLin2009cAsym_preproc.nii.gz finished\n",
      "/data1/users/jvogel/nilearn_tutorial/ds000030_R1.0.5/derivatives/fmriprep/sub-11122/func/sub-11122_task-rest_bold_space-MNI152NLin2009cAsym_preproc.nii.gz finished\n",
      "/data1/users/jvogel/nilearn_tutorial/ds000030_R1.0.5/derivatives/fmriprep/sub-11128/func/sub-11128_task-rest_bold_space-MNI152NLin2009cAsym_preproc.nii.gz finished\n",
      "/data1/users/jvogel/nilearn_tutorial/ds000030_R1.0.5/derivatives/fmriprep/sub-11131/func/sub-11131_task-rest_bold_space-MNI152NLin2009cAsym_preproc.nii.gz finished\n",
      "/data1/users/jvogel/nilearn_tutorial/ds000030_R1.0.5/derivatives/fmriprep/sub-11142/func/sub-11142_task-rest_bold_space-MNI152NLin2009cAsym_preproc.nii.gz finished\n",
      "/data1/users/jvogel/nilearn_tutorial/ds000030_R1.0.5/derivatives/fmriprep/sub-11143/func/sub-11143_task-rest_bold_space-MNI152NLin2009cAsym_preproc.nii.gz finished\n",
      "/data1/users/jvogel/nilearn_tutorial/ds000030_R1.0.5/derivatives/fmriprep/sub-11149/func/sub-11149_task-rest_bold_space-MNI152NLin2009cAsym_preproc.nii.gz finished\n",
      "/data1/users/jvogel/nilearn_tutorial/ds000030_R1.0.5/derivatives/fmriprep/sub-11156/func/sub-11156_task-rest_bold_space-MNI152NLin2009cAsym_preproc.nii.gz finished\n"
     ]
    }
   ],
   "source": [
    "from nilearn.input_data import NiftiLabelsMasker\n",
    "from nilearn.connectome import ConnectivityMeasure, sym_matrix_to_vec\n",
    "\n",
    "def func_2_corr_matrix(parcellation, name):\n",
    "    masker = NiftiLabelsMasker(labels_img=parcellation, standardize=True,\n",
    "                               memory='nilearn_cache', verbose=0)\n",
    "    #n_regions = 197\n",
    "    \n",
    "    correlations = []\n",
    "    upper_triang_corrs = []\n",
    "    # Initializing ConnectivityMeasure object with kind='correlation'\n",
    "    connectome_measure = ConnectivityMeasure(kind='correlation')\n",
    "    for filename in filenames:\n",
    "        timeseries_each_subject = masker.fit_transform(filename)\n",
    "        # call fit_transform from ConnectivityMeasure object\n",
    "        correlation = connectome_measure.fit_transform([timeseries_each_subject])\n",
    "        # saving each subject correlation to correlations\n",
    "        correlations.append(correlation)\n",
    "        # get the upper triangular correlation matrix of correlation\n",
    "        upper_triang_corr = sym_matrix_to_vec(correlation, discard_diagonal=True)\n",
    "        # saving each subject upper_triang_corr to upper_triang_corrs\n",
    "        upper_triang_corrs.append(upper_triang_corr) \n",
    "        print(filename,'finished')\n",
    "    #   Split train test sets and save\n",
    "    X_train = upper_triang_corrs[:84]\n",
    "    X_test = upper_triang_corrs[84:]\n",
    "    y_train = y_age[:84]\n",
    "    y_test = y_age[84:]\n",
    "    random_subj_train = subj[:84]\n",
    "    random_subj_test = subj[84:]\n",
    "    np.savez_compressed(output_dir+log_file+'CNP_func'+name+'_train_set',a=X_train, b=y_train, c=random_subj_train)\n",
    "    np.savez_compressed(output_dir+log_file+'CNP_func'+name+'_test_set',a=X_test, b=y_test, c=random_subj_test)\n",
    "    return correlations, upper_triang_corrs\n",
    "\n",
    "#correlations197, upper_triang_corrs197 = func_2_corr_matrix(networks_197, '197')\n",
    "correlations444, upper_triang_corrs444 = func_2_corr_matrix(networks_444, '444')"
   ]
  },
  {
   "cell_type": "code",
   "execution_count": null,
   "metadata": {
    "collapsed": true
   },
   "outputs": [],
   "source": []
  },
  {
   "cell_type": "markdown",
   "metadata": {},
   "source": [
    "### reproducing CNP_func_validation_age.ipynb (skipping grid search)\n",
    "https://github.com/danielmlow/brain_age/blob/master/CNP_func_validation_age.ipynb"
   ]
  },
  {
   "cell_type": "code",
   "execution_count": 84,
   "metadata": {
    "collapsed": true
   },
   "outputs": [],
   "source": [
    "import pandas as pd\n",
    "import numpy as np\n",
    "import nibabel as nib\n",
    "from sklearn.svm import LinearSVR\n",
    "# from sklearn.linear_model import LinearRegression\n",
    "from sklearn.feature_selection import VarianceThreshold, SelectKBest, f_regression\n",
    "import os\n",
    "from sklearn.model_selection import train_test_split\n",
    "from sklearn.model_selection import GridSearchCV\n",
    "from sklearn.metrics import mean_absolute_error, r2_score\n",
    "from nilearn.input_data import NiftiMasker\n",
    "import random\n",
    "import matplotlib.pyplot as plt\n",
    "import datetime"
   ]
  },
  {
   "cell_type": "code",
   "execution_count": 145,
   "metadata": {
    "collapsed": true
   },
   "outputs": [],
   "source": [
    "toy = False\n",
    "run_all = False\n",
    "\n",
    "\n",
    "\n",
    "#AWS cloud\n",
    "# path = '/home/ubuntu/fmriprep/'\n",
    "# output_dir = '/output/' \n",
    "\n",
    "#For Daniel's computer\n",
    "# input_dir = 'data/CNP_func/'\n",
    "# output_dir = 'data/CNP_T1/' \n",
    "\n",
    "#For Jake's computer\n",
    "path = '/data1/users/jvogel/nilearn_tutorial/ds000030_R1.0.5/derivatives/fmriprep/'\n",
    "output_dir = '/data1/users/jvogel/nilearn_tutorial/output/'\n",
    "\n",
    "n_jobs = 2 #amount of cores\n",
    "cv=4\n",
    "\n",
    "parcellation = '444'\n",
    "\n",
    "description = 'CNP_func_validation_age_'\n",
    "log_file = description+datetime.datetime.now().strftime(\"%y-%m-%d-%H-%M-%S\")"
   ]
  },
  {
   "cell_type": "code",
   "execution_count": 146,
   "metadata": {
    "collapsed": true
   },
   "outputs": [],
   "source": [
    "loaded = np.load(os.path.join(output_dir,'CNP_func_gridsearch_age_18-09-21-16-57-18CNP_func%s_train_set.npz'%(\n",
    "                                                                                                parcellation)))\n",
    "X_train, y_train, random_subj_train = loaded['a'], loaded['b'], loaded['c']\n"
   ]
  },
  {
   "cell_type": "code",
   "execution_count": 147,
   "metadata": {},
   "outputs": [
    {
     "name": "stdout",
     "output_type": "stream",
     "text": [
      "(84,)\n",
      "(84, 1, 98346)\n"
     ]
    }
   ],
   "source": [
    "print(y_train.shape)\n",
    "print(X_train.shape)\n",
    "X_train = np.reshape(X_train, (84, X_train.shape[2]))"
   ]
  },
  {
   "cell_type": "code",
   "execution_count": 148,
   "metadata": {
    "collapsed": true
   },
   "outputs": [],
   "source": [
    "X_train, X_validation, y_train, y_validation = train_test_split(X_train, y_train, test_size=0.30, random_state=42)"
   ]
  },
  {
   "cell_type": "markdown",
   "metadata": {},
   "source": [
    "## Validation\n",
    "\n",
    "Grid search returned the best parameters:\n",
    "\n",
    "* ANOVA k selection: 'all'\n",
    "* C parameter of SVR: 1\n",
    "\n"
   ]
  },
  {
   "cell_type": "code",
   "execution_count": 149,
   "metadata": {},
   "outputs": [
    {
     "data": {
      "text/plain": [
       "(58, 98346)"
      ]
     },
     "execution_count": 149,
     "metadata": {},
     "output_type": "execute_result"
    }
   ],
   "source": [
    "X_train.shape"
   ]
  },
  {
   "cell_type": "code",
   "execution_count": 150,
   "metadata": {
    "collapsed": true
   },
   "outputs": [],
   "source": [
    "from sklearn.pipeline import Pipeline\n",
    "\n",
    "if toy:\n",
    "    X_train = X_train[:8]\n",
    "    y_train = y_train[:8]\n",
    "    X_validation = X_validation[:8]\n",
    "    y_validation = y_validation[:8]\n",
    "\n",
    "\n",
    "# Remove features with too low between-subject variance\n",
    "# Here we use a classical univariate feature selection based on F-test,\n",
    "# namely Anova.\n",
    "# We have our predictor (SVR), our feature selection (SelectKBest), and now,\n",
    "# we can plug them together in a *pipeline* that performs the two operations\n",
    "# successively:\n",
    "               \n",
    "anova_svr = Pipeline([\n",
    "            ('anova', SelectKBest(f_regression, k='all')),\n",
    "            ('svr', LinearSVR(C=1.))])\n",
    "\n",
    "# parameters = [{'anova__k': [2000],\n",
    "#                'svr__C': [0.1,1]}]\n",
    "\n",
    "\n",
    "anova_svr.fit(X_train, y_train)\n",
    "predictions = anova_svr.predict(X_validation)\n",
    "\n",
    "# clf = SVR(kernel='linear', C=0.01)\n",
    "# clf.fit(X_train, y_train)\n",
    "# predictions = clf.predict(X_validation)\n",
    "\n",
    "\n",
    "\n",
    "score = mean_absolute_error(y_validation, predictions)\n",
    "r2 = r2_score(y_validation, predictions)\n",
    "# mean_scores = np.array(grid.cv_results_['neg_mean_absolute_error'])\n",
    "# mean_scores = mean_scores.reshape(len(C_OPTIONS), -1, len(N_FEATURES_OPTIONS))\n",
    "# # select score for best C\n",
    "# mean_scores = mean_scores.max(axis=0)\n",
    "# bar_offsets = (np.arange(len(N_FEATURES_OPTIONS)) *\n",
    "#                (len(reducer_labels) + 1) + .5)"
   ]
  },
  {
   "cell_type": "code",
   "execution_count": 151,
   "metadata": {},
   "outputs": [
    {
     "name": "stdout",
     "output_type": "stream",
     "text": [
      "7.78864872315\n",
      "[ 26.26168803  38.66250636  31.24152322  23.1195063   23.58577952\n",
      "  25.43173013  25.97281     45.78965701  29.27291778  36.62519819\n",
      "  39.4060272   30.28851133  35.02458125  22.55522122  21.50435095\n",
      "  40.02839508  34.12155851  37.74734418  33.68356508  33.3873856\n",
      "  42.67267218  26.84710329  25.9889852   29.88908515  28.83029142\n",
      "  37.98564133]\n",
      "[38 30 29 45 30 22 38 29 33 39 31 24 37 21 21 31 25 26 25 26 41 49 21 24 28\n",
      " 25]\n"
     ]
    }
   ],
   "source": [
    "print(score)\n",
    "print(predictions)\n",
    "print(y_validation)"
   ]
  },
  {
   "cell_type": "code",
   "execution_count": 152,
   "metadata": {},
   "outputs": [
    {
     "data": {
      "image/png": "[encoded data removed]",
      "text/plain": [
       "<matplotlib.figure.Figure at 0x7f1a672668d0>"
      ]
     },
     "metadata": {},
     "output_type": "display_data"
    }
   ],
   "source": [
    "plt.close()\n",
    "plt.scatter(predictions,y_validation)\n",
    "plt.show()"
   ]
  },
  {
   "cell_type": "code",
   "execution_count": 153,
   "metadata": {},
   "outputs": [
    {
     "name": "stdout",
     "output_type": "stream",
     "text": [
      "-0.683691046959\n"
     ]
    }
   ],
   "source": [
    "print(r2)"
   ]
  },
  {
   "cell_type": "markdown",
   "metadata": {},
   "source": [
    "## Test"
   ]
  },
  {
   "cell_type": "code",
   "execution_count": 160,
   "metadata": {
    "collapsed": true
   },
   "outputs": [],
   "source": [
    "loaded = np.load(os.path.join(output_dir,'CNP_func_gridsearch_age_18-09-21-16-57-18CNP_func%s_train_set.npz'%(\n",
    "                                                                                                parcellation)))\n",
    "X_train, y_train, random_subj_train = loaded['a'], loaded['b'], loaded['c']\n"
   ]
  },
  {
   "cell_type": "code",
   "execution_count": 161,
   "metadata": {
    "collapsed": true
   },
   "outputs": [],
   "source": [
    "loaded = np.load(os.path.join(output_dir,'CNP_func_gridsearch_age_18-09-21-16-57-18CNP_func%s_test_set.npz'%(\n",
    "                                                                                                parcellation)))\n",
    "X_test, y_test, random_subj_train = loaded['a'], loaded['b'], loaded['c']"
   ]
  },
  {
   "cell_type": "code",
   "execution_count": 162,
   "metadata": {},
   "outputs": [
    {
     "name": "stdout",
     "output_type": "stream",
     "text": [
      "(84,)\n",
      "(84, 1, 98346)\n"
     ]
    }
   ],
   "source": [
    "print(y_train.shape)\n",
    "print(X_train.shape)\n",
    "X_train = np.reshape(X_train, (84, X_train.shape[2]))"
   ]
  },
  {
   "cell_type": "code",
   "execution_count": 125,
   "metadata": {},
   "outputs": [
    {
     "data": {
      "text/plain": [
       "122"
      ]
     },
     "execution_count": 125,
     "metadata": {},
     "output_type": "execute_result"
    }
   ],
   "source": [
    "84+38"
   ]
  },
  {
   "cell_type": "code",
   "execution_count": 164,
   "metadata": {},
   "outputs": [
    {
     "name": "stdout",
     "output_type": "stream",
     "text": [
      "(38,)\n",
      "(38, 1, 98346)\n"
     ]
    }
   ],
   "source": [
    "print(y_test.shape)\n",
    "print(X_test.shape)\n",
    "X_test = np.reshape(X_test, (38, X_test.shape[2]))"
   ]
  },
  {
   "cell_type": "code",
   "execution_count": 168,
   "metadata": {},
   "outputs": [
    {
     "data": {
      "text/plain": [
       "26"
      ]
     },
     "execution_count": 168,
     "metadata": {},
     "output_type": "execute_result"
    }
   ],
   "source": [
    "len(y_validation)"
   ]
  },
  {
   "cell_type": "code",
   "execution_count": 169,
   "metadata": {},
   "outputs": [],
   "source": [
    "\n",
    "if toy:\n",
    "    X_train = X_train[:8]\n",
    "    y_train = y_train[:8]\n",
    "    X_validation = X_validation[:8]\n",
    "    y_validation = y_validation[:8]\n",
    "\n",
    "\n",
    "# Remove features with too low between-subject variance\n",
    "# Here we use a classical univariate feature selection based on F-test,\n",
    "# namely Anova.\n",
    "# We have our predictor (SVR), our feature selection (SelectKBest), and now,\n",
    "# we can plug them together in a *pipeline* that performs the two operations\n",
    "# successively:\n",
    "               \n",
    "anova_svr = Pipeline([\n",
    "            ('anova', SelectKBest(f_regression, k='all')),\n",
    "            ('svr', LinearSVR(C=1.))])\n",
    "\n",
    "# parameters = [{'anova__k': [2000],\n",
    "#                'svr__C': [0.1,1]}]\n",
    "\n",
    "\n",
    "anova_svr.fit(X_train, y_train)\n",
    "predictions = anova_svr.predict(X_test)\n",
    "\n",
    "# clf = SVR(kernel='linear', C=0.01)\n",
    "# clf.fit(X_train, y_train)\n",
    "# predictions = clf.predict(X_validation)\n",
    "\n",
    "\n",
    "\n",
    "score = mean_absolute_error(y_test, predictions)\n",
    "r2 = r2_score(y_test, predictions)\n",
    "# mean_scores = np.array(grid.cv_results_['neg_mean_absolute_error'])\n",
    "# mean_scores = mean_scores.reshape(len(C_OPTIONS), -1, len(N_FEATURES_OPTIONS))\n",
    "# # select score for best C\n",
    "# mean_scores = mean_scores.max(axis=0)\n",
    "# bar_offsets = (np.arange(len(N_FEATURES_OPTIONS)) *\n",
    "#                (len(reducer_labels) + 1) + .5)"
   ]
  },
  {
   "cell_type": "code",
   "execution_count": 170,
   "metadata": {},
   "outputs": [
    {
     "name": "stdout",
     "output_type": "stream",
     "text": [
      "9.91305557423\n",
      "[ 31.82324201  36.12679173  41.16566273  29.66321453  45.74855501\n",
      "  37.04535802  32.6433198   37.30542157  25.14901389  34.86758602\n",
      "  17.06921335  28.55550092  31.95097511  31.54179703  36.60259643\n",
      "  38.9816278   26.94376762  23.52582162  22.95307533  20.31035621\n",
      "  29.52804224  30.13239225  38.19418082  21.14884666  24.00107104\n",
      "  24.72496755  36.66706196  30.21627519  38.38783998  24.51511999\n",
      "  29.72685165  27.38596759  24.64765743  27.56948594  32.04241612\n",
      "  22.62742252  28.79021971  29.58272822]\n",
      "[38 30 29 45 30 22 38 29 33 39 31 24 37 21 21 31 25 26 25 26 41 49 21 24 28\n",
      " 25]\n"
     ]
    }
   ],
   "source": [
    "print(score)\n",
    "print(predictions)\n",
    "print(y_validation)"
   ]
  },
  {
   "cell_type": "code",
   "execution_count": 172,
   "metadata": {},
   "outputs": [
    {
     "data": {
      "image/png": "[encoded data removed]",
      "text/plain": [
       "<matplotlib.figure.Figure at 0x7f1a6c0dd2b0>"
      ]
     },
     "metadata": {},
     "output_type": "display_data"
    },
    {
     "name": "stdout",
     "output_type": "stream",
     "text": [
      "-0.735089967773\n"
     ]
    }
   ],
   "source": [
    "plt.close()\n",
    "plt.scatter(predictions,y_test)\n",
    "plt.show()\n",
    "print(r2)"
   ]
  },
  {
   "cell_type": "code",
   "execution_count": null,
   "metadata": {
    "collapsed": true
   },
   "outputs": [],
   "source": []
  }
 ],
 "metadata": {
  "kernelspec": {
   "display_name": "Python 3",
   "language": "python",
   "name": "python3"
  },
  "language_info": {
   "codemirror_mode": {
    "name": "ipython",
    "version": 3
   },
   "file_extension": ".py",
   "mimetype": "text/x-python",
   "name": "python",
   "nbconvert_exporter": "python",
   "pygments_lexer": "ipython3",
   "version": "3.6.2"
  }
 },
 "nbformat": 4,
 "nbformat_minor": 2
}
